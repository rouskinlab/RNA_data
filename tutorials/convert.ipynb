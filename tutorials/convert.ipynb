{
 "cells": [
  {
   "cell_type": "code",
   "execution_count": 1,
   "metadata": {},
   "outputs": [
    {
     "name": "stderr",
     "output_type": "stream",
     "text": [
      "Parsing fasta file: 100%|██████████| 5/5 [00:00<00:00, 60787.01it/s]\n"
     ]
    }
   ],
   "source": [
    "%load_ext autoreload\n",
    "%autoreload 2\n",
    "import os, sys\n",
    "\n",
    "import envbash\n",
    "envbash.load.load_envbash('../env')\n",
    "\n",
    "sys.path.append('/Users/yvesmartin/src/rouskinhf')\n",
    "\n",
    "from rouskinhf import convert\n",
    "\n",
    "lod = convert(format='fasta', \n",
    "              file_or_folder='/Users/yvesmartin/src/rouskinhf/data/input_files_for_testing/test_sequences.fasta',\n",
    "              filter=True,   \n",
    "              verbose=False)"
   ]
  },
  {
   "cell_type": "code",
   "execution_count": 4,
   "metadata": {},
   "outputs": [
    {
     "data": {
      "text/plain": [
       "{'RF02271.fa.csv_1': {'sequence': 'AAACCCCAGUAGGGGUUU'},\n",
       " 'RF02271.fa.csv_2': {'sequence': 'UUUCCCCUAGUAUGGGGAAA'},\n",
       " 'RF02271.fa.csv_2_1': {'sequence': 'UUUCGCGAGGCCGAGGAAA'}}"
      ]
     },
     "execution_count": 4,
     "metadata": {},
     "output_type": "execute_result"
    }
   ],
   "source": [
    "lod"
   ]
  }
 ],
 "metadata": {
  "kernelspec": {
   "display_name": "Python 3",
   "language": "python",
   "name": "python3"
  },
  "language_info": {
   "codemirror_mode": {
    "name": "ipython",
    "version": 3
   },
   "file_extension": ".py",
   "mimetype": "text/x-python",
   "name": "python",
   "nbconvert_exporter": "python",
   "pygments_lexer": "ipython3",
   "version": "3.11.6"
  }
 },
 "nbformat": 4,
 "nbformat_minor": 2
}
