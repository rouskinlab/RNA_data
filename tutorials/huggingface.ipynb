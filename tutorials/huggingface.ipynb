{
 "cells": [
  {
   "attachments": {},
   "cell_type": "markdown",
   "metadata": {},
   "source": [
    "# Log into Hugging face\n",
    "\n",
    "### 1. Join the Hugging Face Community\n",
    "\n",
    "[Hugging face](https://huggingface.co)\n",
    "\n",
    "### 2. Join the Rouskinlab organization\n",
    "\n",
    "[Rouskin Lab on Hugging Face](https://huggingface.co/RouskinLab)\n",
    "\n",
    "### 3. Install the Hugging Face dependencies\n"
   ]
  },
  {
   "cell_type": "code",
   "execution_count": null,
   "metadata": {},
   "outputs": [],
   "source": [
    "!pip install huggingface\n",
    "!pip install huggingface_hub"
   ]
  },
  {
   "attachments": {},
   "cell_type": "markdown",
   "metadata": {},
   "source": [
    "\n",
    "\n",
    "### 4. Login to the Hugging Face Hub\n",
    "\n",
    "1. Get a token from https://huggingface.co/settings/token\n",
    "\n",
    "2. Run this command line **in a terminal** and follow the instructions:\n"
   ]
  },
  {
   "cell_type": "code",
   "execution_count": null,
   "metadata": {},
   "outputs": [],
   "source": [
    "!huggingface-cli login"
   ]
  }
 ],
 "metadata": {
  "language_info": {
   "name": "python"
  },
  "orig_nbformat": 4
 },
 "nbformat": 4,
 "nbformat_minor": 2
}
