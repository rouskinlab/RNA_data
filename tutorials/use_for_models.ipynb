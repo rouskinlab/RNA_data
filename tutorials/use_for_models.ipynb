{
 "cells": [
  {
   "attachments": {},
   "cell_type": "markdown",
   "metadata": {},
   "source": [
    "# Use Datafolders to load data for models\n",
    "\n",
    "This tutorial shows how to use the `DataFolder` class to load data for models: first you load the data, then you generate the .npy files, and finally you load the .npy files for the model using the `DataFolder` class.\n",
    "\n",
    "## Imports"
   ]
  },
  {
   "cell_type": "code",
   "execution_count": 1,
   "metadata": {},
   "outputs": [],
   "source": [
    "import sys, os\n",
    "sys.path.append('..')\n",
    "from rna_data import DataFolder"
   ]
  },
  {
   "attachments": {},
   "cell_type": "markdown",
   "metadata": {},
   "source": [
    "## Define your local repositories\n"
   ]
  },
  {
   "cell_type": "code",
   "execution_count": 2,
   "metadata": {},
   "outputs": [],
   "source": [
    "my_local_folders = ['for_testing']"
   ]
  },
  {
   "attachments": {},
   "cell_type": "markdown",
   "metadata": {},
   "source": [
    "## Load the data from HuggingFace\n",
    "\n",
    "You could also load the data from a local folder."
   ]
  },
  {
   "cell_type": "code",
   "execution_count": 3,
   "metadata": {},
   "outputs": [
    {
     "data": {
      "application/vnd.jupyter.widget-view+json": {
       "model_id": "1da8dbcdea8045b78ac1204b6749b120",
       "version_major": 2,
       "version_minor": 0
      },
      "text/plain": [
       "Fetching 10 files:   0%|          | 0/10 [00:00<?, ?it/s]"
      ]
     },
     "metadata": {},
     "output_type": "display_data"
    }
   ],
   "source": [
    "data = {folder: DataFolder.from_huggingface(folder) for folder in my_local_folders}"
   ]
  },
  {
   "attachments": {},
   "cell_type": "markdown",
   "metadata": {},
   "source": [
    "## Generate the .npy files\n",
    "\n",
    "You don't need to run this cell if you already have the .npy files."
   ]
  },
  {
   "cell_type": "code",
   "execution_count": 11,
   "metadata": {},
   "outputs": [],
   "source": [
    "for repo in data:\n",
    "    data[repo].generate_npy()"
   ]
  },
  {
   "attachments": {},
   "cell_type": "markdown",
   "metadata": {},
   "source": [
    "## Use the .npy files to train a model"
   ]
  },
  {
   "cell_type": "code",
   "execution_count": 8,
   "metadata": {},
   "outputs": [
    {
     "name": "stdout",
     "output_type": "stream",
     "text": [
      "I like this DMS data, its shape is (2,)\n",
      "I like this structure data, its shape is (2,)\n"
     ]
    }
   ],
   "source": [
    "import numpy as np\n",
    "i_like_this_data = data['for_testing']\n",
    "\n",
    "dms_data = np.load(i_like_this_data.get_dms_npy(), allow_pickle=True)\n",
    "print(\"I like this DMS data, its shape is {}\".format(dms_data.shape))\n",
    "\n",
    "structure_data = np.load(i_like_this_data.get_base_pairs_npy(), allow_pickle=True)\n",
    "print(\"I like this structure data, its shape is {}\".format(structure_data.shape))"
   ]
  }
 ],
 "metadata": {
  "kernelspec": {
   "display_name": "dl",
   "language": "python",
   "name": "python3"
  },
  "language_info": {
   "codemirror_mode": {
    "name": "ipython",
    "version": 3
   },
   "file_extension": ".py",
   "mimetype": "text/x-python",
   "name": "python",
   "nbconvert_exporter": "python",
   "pygments_lexer": "ipython3",
   "version": "3.10.12"
  },
  "orig_nbformat": 4
 },
 "nbformat": 4,
 "nbformat_minor": 2
}
