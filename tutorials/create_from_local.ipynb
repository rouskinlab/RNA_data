{
    "cells": [
        {
            "cell_type": "markdown",
            "metadata": {},
            "source": [
                "## Imports"
            ]
        },
        {
            "cell_type": "code",
            "execution_count": 6,
            "metadata": {},
            "outputs": [
                {
                    "name": "stdout",
                    "output_type": "stream",
                    "text": [
                        "The dotenv extension is already loaded. To reload it, use:\n",
                        "  %reload_ext dotenv\n"
                    ]
                }
            ],
            "source": [
                "# make sure to source the env file before importing rouskinhf\n",
                "%load_ext dotenv\n",
                "%dotenv env\n",
                "from rouskinhf import import_dataset, DataFolder"
            ]
        },
        {
            "attachments": {},
            "cell_type": "markdown",
            "metadata": {},
            "source": [
                "# Create a datafolder from local files\n",
                "\n",
                "These methods will allow you to process your data and create a datafolder from it. The accepted formats are:\n",
                "- DREEM output\n",
                "- fasta\n",
                "- set of CTs\n",
                "- already formatted json + info.json\n",
                "\n",
                "**Make sure to change the paths to your own paths!**"
            ]
        },
        {
            "attachments": {},
            "cell_type": "markdown",
            "metadata": {},
            "source": [
                "### From DREEM output"
            ]
        },
        {
            "cell_type": "code",
            "execution_count": 9,
            "metadata": {},
            "outputs": [
                {
                    "name": "stdout",
                    "output_type": "stream",
                    "text": [
                        "Parsing dreem output file\n"
                    ]
                },
                {
                    "name": "stderr",
                    "output_type": "stream",
                    "text": [
                        "Parsing dreem output file: 100%|██████████| 13/13 [00:02<00:00,  5.34it/s]\n"
                    ]
                }
            ],
            "source": [
                "%reload_ext autoreload\n",
                "%autoreload 2\n",
                "datafolder = DataFolder.from_dreem_output(\n",
                "    name='from_dreem_output', # name of the input data by default\n",
                "    path_in='/Users/ymdt/src/rouskinhf/data/input_files_for_testing/dreem_output.json', \n",
                "    path_out='/Users/ymdt/src/rouskinhf/data/datafolders', \n",
                "    predict_structure=True,\n",
                "    tqdm=True\n",
                "    )"
            ]
        },
        {
            "attachments": {},
            "cell_type": "markdown",
            "metadata": {},
            "source": [
                "### From a list of CT files"
            ]
        },
        {
            "cell_type": "code",
            "execution_count": 15,
            "metadata": {},
            "outputs": [
                {
                    "name": "stderr",
                    "output_type": "stream",
                    "text": [
                        "Parsing ct files: 100%|██████████| 2/2 [00:00<00:00, 8971.77it/s]\n"
                    ]
                }
            ],
            "source": [
                "%reload_ext autoreload\n",
                "%autoreload 2\n",
                "datafolder = DataFolder.from_ct_folder(\n",
                "    name='from_ct_folder', # name of the input data by default\n",
                "    path_in='/Users/ymdt/src/rouskinhf/data/input_files_for_testing/ct_files', \n",
                "    path_out='/Users/ymdt/src/rouskinhf/data/datafolders', \n",
                "    predict_dms=False, # won't take the structure from the ct files into account\n",
                "    tqdm=True, \n",
                "    )  "
            ]
        },
        {
            "attachments": {},
            "cell_type": "markdown",
            "metadata": {},
            "source": [
                "\n",
                "### From fasta"
            ]
        },
        {
            "cell_type": "code",
            "execution_count": 16,
            "metadata": {},
            "outputs": [
                {
                    "name": "stderr",
                    "output_type": "stream",
                    "text": [
                        "Parsing fasta file: 100%|██████████| 2/2 [00:00<00:00,  3.01it/s]\n"
                    ]
                }
            ],
            "source": [
                "datafolder = DataFolder.from_fasta(\n",
                "    name= 'sequences', # name of the input data by default\n",
                "    path_in = '/Users/ymdt/src/rouskinhf/data/input_files_for_testing/sequences.fasta', \n",
                "    path_out='/Users/ymdt/src/rouskinhf/data/datafolders', \n",
                "    predict_structure=True,\n",
                "    predict_dms=True,\n",
                "    tqdm=True\n",
                "    )"
            ]
        },
        {
            "attachments": {},
            "cell_type": "markdown",
            "metadata": {},
            "source": [
                "### From an existing local datafolder"
            ]
        },
        {
            "cell_type": "code",
            "execution_count": 18,
            "metadata": {},
            "outputs": [
                {
                    "name": "stderr",
                    "output_type": "stream",
                    "text": [
                        "Parsing json file: 4it [00:00, 51150.05it/s]            \n",
                        "Parsing json file: 4it [00:00, 23696.63it/s]            \n"
                    ]
                }
            ],
            "source": [
                "datafolder = DataFolder.from_local(\n",
                "    name = '/Users/ymdt/src/rouskinhf/data/datafolders/for_testing',\n",
                ")\n",
                "\n",
                "# OR\n",
                "\n",
                "datafolder = import_dataset(\n",
                "    name = 'for_testing',\n",
                "    data = 'DMS', # can be 'DMS' or 'structure'\n",
                "    force_download=False # if True, will download the data even if it already exists locally\n",
                ")"
            ]
        },
        {
            "attachments": {},
            "cell_type": "markdown",
            "metadata": {},
            "source": [
                "# Push a local datafolder to Hugging Face"
            ]
        },
        {
            "attachments": {},
            "cell_type": "markdown",
            "metadata": {},
            "source": [
                "### 1. Create a repository if it does not exist"
            ]
        },
        {
            "cell_type": "code",
            "execution_count": null,
            "metadata": {},
            "outputs": [],
            "source": [
                "# Find more arguments here: https://huggingface.co/docs/huggingface_hub/guides/repository#create-a-repository\n",
                "datafolder.create_repo(\n",
                "    exist_ok=True,\n",
                "    private=True\n",
                ")"
            ]
        },
        {
            "attachments": {},
            "cell_type": "markdown",
            "metadata": {},
            "source": [
                "### 2. Push the datafolder to Hugging Face"
            ]
        },
        {
            "cell_type": "code",
            "execution_count": null,
            "metadata": {},
            "outputs": [],
            "source": [
                "\n",
                "# Find more arguments here: https://huggingface.co/docs/huggingface_hub/guides/upload#upload-a-folder\n",
                "future = datafolder.upload_folder(\n",
                "    revision='main', # branch name\n",
                "    commit_message='Upload demo dataset',\n",
                "    commit_description='This is a demo dataset',\n",
                "    run_as_future=True,\n",
                ")\n",
                "\n",
                "future.done() # True if the upload is done\n",
                "future.result() # Wait for the upload to complete (blocking action)"
            ]
        },
        {
            "attachments": {},
            "cell_type": "markdown",
            "metadata": {},
            "source": [
                "### 3. Check that the datafolder is on Hugging Face\n",
                "\n",
                "Take a look at https://huggingface.co/rouskinlab"
            ]
        },
        {
            "attachments": {},
            "cell_type": "markdown",
            "metadata": {},
            "source": [
                "# Explore the datafolder object"
            ]
        },
        {
            "cell_type": "code",
            "execution_count": null,
            "metadata": {},
            "outputs": [],
            "source": [
                "import numpy as np\n",
                "import json\n",
                "print(datafolder)\n",
                "print('main folder:',datafolder.get_main_folder())\n",
                "print('sequences.npy file:\\n',np.load(datafolder.get_sequences_npy(), allow_pickle=True))\n",
                "print('base_pairs.npy file:\\n',np.load(datafolder.get_base_pairs_npy(), allow_pickle=True))\n",
                "print('dms.npy file:\\n',np.load(datafolder.get_dms_npy(), allow_pickle=True))\n",
                "print('json file:\\n', json.load(open(datafolder.get_json(), 'r')))\n",
                "print('dms.npy file:',datafolder.get_dms_npy())\n",
                "print('json file:',datafolder.get_json())\n",
                "print('source files:',datafolder.get_source_files())\n",
                "print('info file:',datafolder.get_info_file())"
            ]
        }
    ],
    "metadata": {
        "kernelspec": {
            "display_name": "dl",
            "language": "python",
            "name": "python3"
        },
        "language_info": {
            "codemirror_mode": {
                "name": "ipython",
                "version": 3
            },
            "file_extension": ".py",
            "mimetype": "text/x-python",
            "name": "python",
            "nbconvert_exporter": "python",
            "pygments_lexer": "ipython3",
            "version": "3.11.4"
        },
        "orig_nbformat": 4
    },
    "nbformat": 4,
    "nbformat_minor": 2
}
