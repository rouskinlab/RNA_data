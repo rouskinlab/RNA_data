{
    "cells": [
        {
            "cell_type": "markdown",
            "metadata": {},
            "source": [
                "## Imports"
            ]
        },
        {
            "cell_type": "code",
            "execution_count": 22,
            "metadata": {},
            "outputs": [
                {
                    "name": "stdout",
                    "output_type": "stream",
                    "text": [
                        "The dotenv extension is already loaded. To reload it, use:\n",
                        "  %reload_ext dotenv\n"
                    ]
                }
            ],
            "source": [
                "import sys, os\n",
                "import numpy as np\n",
                "\n",
                "# Import the rouskinhf package\n",
                "sys.path.append('..')\n",
                "from rouskinhf import import_dataset, DataFolder, setup_env\n",
                "\n",
                "# make sure to source the env file\n",
                "# OPTION 1: source the env file in the notebook\n",
                "%load_ext dotenv\n",
                "%dotenv env\n",
                "# OPTION 2: source the env file in the terminal\n",
                "if False:\n",
                "    setup_env(RNASTRUCTURE_PATH='/Users/yvesmartin/lib/RNAstructure/exe', \n",
                "                RNASTRUCTURE_TEMP_FOLDER='/Users/yvesmartin/src/rouskinhf/temp',\n",
                "                DATA_FOLDER='/Users/yvesmartin/src/rouskinhf/data/datafolders',\n",
                "            )"
            ]
        },
        {
            "attachments": {},
            "cell_type": "markdown",
            "metadata": {},
            "source": [
                "# Create a datafolder from local files\n",
                "\n",
                "These methods will allow you to process your data and create a datafolder from it. The accepted formats are:\n",
                "- DREEM output\n",
                "- fasta\n",
                "- set of CTs\n",
                "- already formatted json + info.json\n",
                "\n",
                "**Make sure to change the paths to your own paths!**"
            ]
        },
        {
            "attachments": {},
            "cell_type": "markdown",
            "metadata": {},
            "source": [
                "### From DREEM output"
            ]
        },
        {
            "cell_type": "code",
            "execution_count": 23,
            "metadata": {},
            "outputs": [
                {
                    "name": "stderr",
                    "output_type": "stream",
                    "text": [
                        "Parsing dreem output file:   1%|          | 6/513 [00:02<02:52,  2.94it/s]"
                    ]
                },
                {
                    "ename": "KeyboardInterrupt",
                    "evalue": "",
                    "output_type": "error",
                    "traceback": [
                        "\u001b[0;31m---------------------------------------------------------------------------\u001b[0m",
                        "\u001b[0;31mKeyboardInterrupt\u001b[0m                         Traceback (most recent call last)",
                        "\u001b[1;32m/Users/yvesmartin/src/rouskinhf/tutorials/create_from_local.ipynb Cell 5\u001b[0m line \u001b[0;36m3\n\u001b[1;32m      <a href='vscode-notebook-cell:/Users/yvesmartin/src/rouskinhf/tutorials/create_from_local.ipynb#W5sZmlsZQ%3D%3D?line=0'>1</a>\u001b[0m get_ipython()\u001b[39m.\u001b[39mrun_line_magic(\u001b[39m'\u001b[39m\u001b[39mreload_ext\u001b[39m\u001b[39m'\u001b[39m, \u001b[39m'\u001b[39m\u001b[39mautoreload\u001b[39m\u001b[39m'\u001b[39m)\n\u001b[1;32m      <a href='vscode-notebook-cell:/Users/yvesmartin/src/rouskinhf/tutorials/create_from_local.ipynb#W5sZmlsZQ%3D%3D?line=1'>2</a>\u001b[0m get_ipython()\u001b[39m.\u001b[39mrun_line_magic(\u001b[39m'\u001b[39m\u001b[39mautoreload\u001b[39m\u001b[39m'\u001b[39m, \u001b[39m'\u001b[39m\u001b[39m2\u001b[39m\u001b[39m'\u001b[39m)\n\u001b[0;32m----> <a href='vscode-notebook-cell:/Users/yvesmartin/src/rouskinhf/tutorials/create_from_local.ipynb#W5sZmlsZQ%3D%3D?line=2'>3</a>\u001b[0m datafolder \u001b[39m=\u001b[39m DataFolder\u001b[39m.\u001b[39;49mfrom_dreem_output(\n\u001b[1;32m      <a href='vscode-notebook-cell:/Users/yvesmartin/src/rouskinhf/tutorials/create_from_local.ipynb#W5sZmlsZQ%3D%3D?line=3'>4</a>\u001b[0m     name\u001b[39m=\u001b[39;49m\u001b[39m'\u001b[39;49m\u001b[39mpri-miRNA\u001b[39;49m\u001b[39m'\u001b[39;49m, \u001b[39m# name of the input data by default\u001b[39;49;00m\n\u001b[1;32m      <a href='vscode-notebook-cell:/Users/yvesmartin/src/rouskinhf/tutorials/create_from_local.ipynb#W5sZmlsZQ%3D%3D?line=4'>5</a>\u001b[0m     path_in\u001b[39m=\u001b[39;49m\u001b[39m'\u001b[39;49m\u001b[39m/Users/yvesmartin/Downloads/pri-miRNA.json\u001b[39;49m\u001b[39m'\u001b[39;49m, \u001b[39m# path to the input data\u001b[39;49;00m\n\u001b[1;32m      <a href='vscode-notebook-cell:/Users/yvesmartin/src/rouskinhf/tutorials/create_from_local.ipynb#W5sZmlsZQ%3D%3D?line=5'>6</a>\u001b[0m     path_out\u001b[39m=\u001b[39;49m\u001b[39m'\u001b[39;49m\u001b[39m/Users/yvesmartin/src/rouskinhf/data/datafolders\u001b[39;49m\u001b[39m'\u001b[39;49m, \n\u001b[1;32m      <a href='vscode-notebook-cell:/Users/yvesmartin/src/rouskinhf/tutorials/create_from_local.ipynb#W5sZmlsZQ%3D%3D?line=6'>7</a>\u001b[0m     predict_structure\u001b[39m=\u001b[39;49m\u001b[39mTrue\u001b[39;49;00m,\n\u001b[1;32m      <a href='vscode-notebook-cell:/Users/yvesmartin/src/rouskinhf/tutorials/create_from_local.ipynb#W5sZmlsZQ%3D%3D?line=7'>8</a>\u001b[0m     \u001b[39m# predict_dms=False,\u001b[39;49;00m\n\u001b[1;32m      <a href='vscode-notebook-cell:/Users/yvesmartin/src/rouskinhf/tutorials/create_from_local.ipynb#W5sZmlsZQ%3D%3D?line=8'>9</a>\u001b[0m     tqdm\u001b[39m=\u001b[39;49m\u001b[39mTrue\u001b[39;49;00m,\n\u001b[1;32m     <a href='vscode-notebook-cell:/Users/yvesmartin/src/rouskinhf/tutorials/create_from_local.ipynb#W5sZmlsZQ%3D%3D?line=9'>10</a>\u001b[0m     generate_npy\u001b[39m=\u001b[39;49m\u001b[39mTrue\u001b[39;49;00m\n\u001b[1;32m     <a href='vscode-notebook-cell:/Users/yvesmartin/src/rouskinhf/tutorials/create_from_local.ipynb#W5sZmlsZQ%3D%3D?line=10'>11</a>\u001b[0m     )\n",
                        "File \u001b[0;32m~/.pyenv/versions/3.11.6/lib/python3.11/site-packages/rouskinhf/datafolder.py:620\u001b[0m, in \u001b[0;36mDataFolder.from_dreem_output\u001b[0;34m(path_in, path_out, name, predict_structure, generate_npy, tqdm, verbose)\u001b[0m\n\u001b[1;32m    610\u001b[0m \u001b[39mdef\u001b[39;00m \u001b[39mfrom_dreem_output\u001b[39m(\n\u001b[1;32m    611\u001b[0m     path_in,\n\u001b[1;32m    612\u001b[0m     path_out\u001b[39m=\u001b[39menv\u001b[39m.\u001b[39mDATA_FOLDER,\n\u001b[0;32m   (...)\u001b[0m\n\u001b[1;32m    617\u001b[0m     verbose\u001b[39m=\u001b[39m\u001b[39mTrue\u001b[39;00m,\n\u001b[1;32m    618\u001b[0m ) \u001b[39m-\u001b[39m\u001b[39m>\u001b[39m CreateDatafolderFromDreemOutput:\n\u001b[1;32m    619\u001b[0m \u001b[39m    \u001b[39m\u001b[39m\"\"\"Create a datafolder from a dreem output file. See CreateDatafolderFromDreemOutput for more details.\"\"\"\u001b[39;00m\n\u001b[0;32m--> 620\u001b[0m     \u001b[39mreturn\u001b[39;00m CreateDatafolderFromDreemOutput(\n\u001b[1;32m    621\u001b[0m         path_in,\n\u001b[1;32m    622\u001b[0m         path_out,\n\u001b[1;32m    623\u001b[0m         name,\n\u001b[1;32m    624\u001b[0m         predict_structure,\n\u001b[1;32m    625\u001b[0m         generate_npy,\n\u001b[1;32m    626\u001b[0m         tqdm\u001b[39m=\u001b[39;49mtqdm,\n\u001b[1;32m    627\u001b[0m         verbose\u001b[39m=\u001b[39;49mverbose,\n\u001b[1;32m    628\u001b[0m     )\n",
                        "File \u001b[0;32m~/.pyenv/versions/3.11.6/lib/python3.11/site-packages/rouskinhf/datafolder.py:243\u001b[0m, in \u001b[0;36mCreateDatafolderFromDreemOutput.__init__\u001b[0;34m(self, path_in, path_out, name, predict_structure, generate_npy, tqdm, verbose)\u001b[0m\n\u001b[1;32m    224\u001b[0m \u001b[39mdef\u001b[39;00m \u001b[39m__init__\u001b[39m(\n\u001b[1;32m    225\u001b[0m     \u001b[39mself\u001b[39m,\n\u001b[1;32m    226\u001b[0m     path_in,\n\u001b[0;32m   (...)\u001b[0m\n\u001b[1;32m    232\u001b[0m     verbose\u001b[39m=\u001b[39m\u001b[39mTrue\u001b[39;00m,\n\u001b[1;32m    233\u001b[0m ) \u001b[39m-\u001b[39m\u001b[39m>\u001b[39m \u001b[39mNone\u001b[39;00m:\n\u001b[1;32m    234\u001b[0m     \u001b[39msuper\u001b[39m()\u001b[39m.\u001b[39m\u001b[39m__init__\u001b[39m(\n\u001b[1;32m    235\u001b[0m         path_in,\n\u001b[1;32m    236\u001b[0m         path_out,\n\u001b[0;32m   (...)\u001b[0m\n\u001b[1;32m    240\u001b[0m         predict_dms\u001b[39m=\u001b[39m\u001b[39mFalse\u001b[39;00m,\n\u001b[1;32m    241\u001b[0m     )\n\u001b[0;32m--> 243\u001b[0m     \u001b[39mself\u001b[39m\u001b[39m.\u001b[39mdatapoints \u001b[39m=\u001b[39m ListofDatapoints\u001b[39m.\u001b[39;49mfrom_dreem_output(\n\u001b[1;32m    244\u001b[0m         path_in, predict_structure\u001b[39m=\u001b[39;49mpredict_structure, tqdm\u001b[39m=\u001b[39;49mtqdm, verbose\u001b[39m=\u001b[39;49mverbose\n\u001b[1;32m    245\u001b[0m     )\n\u001b[1;32m    246\u001b[0m     \u001b[39mself\u001b[39m\u001b[39m.\u001b[39mdump_datapoints(generate_npy)\n\u001b[1;32m    247\u001b[0m     \u001b[39mself\u001b[39m\u001b[39m.\u001b[39minfofile\u001b[39m.\u001b[39madd_filtering_report(\u001b[39mself\u001b[39m\u001b[39m.\u001b[39mdatapoints\u001b[39m.\u001b[39mfiltering_report)\u001b[39m.\u001b[39mwrite()\n",
                        "File \u001b[0;32m~/.pyenv/versions/3.11.6/lib/python3.11/site-packages/rouskinhf/list_datapoints.py:62\u001b[0m, in \u001b[0;36mListofDatapoints.from_dreem_output\u001b[0;34m(cls, dreem_output_file, predict_structure, tqdm, verbose)\u001b[0m\n\u001b[1;32m     60\u001b[0m \u001b[39m\u001b[39m\u001b[39m\"\"\"Create a list of datapoint from a dreem output file. The structure and dms will be predicted if predict_structure and predict_dms are True.\"\"\"\u001b[39;00m\n\u001b[1;32m     61\u001b[0m n_lines \u001b[39m=\u001b[39m \u001b[39mlen\u001b[39m(\u001b[39mlist\u001b[39m(DreemOutput\u001b[39m.\u001b[39mparse(dreem_output_file)))\n\u001b[0;32m---> 62\u001b[0m \u001b[39mreturn\u001b[39;00m \u001b[39mcls\u001b[39m([DatapointFactory\u001b[39m.\u001b[39;49mfrom_dreem_output(reference, sequence, mutation_rate, predict_structure)\n\u001b[1;32m     63\u001b[0m     \u001b[39mfor\u001b[39;49;00m reference, sequence, mutation_rate \u001b[39min\u001b[39;49;00m tqdm_parser(DreemOutput\u001b[39m.\u001b[39;49mparse(dreem_output_file), total\u001b[39m=\u001b[39;49mn_lines, desc\u001b[39m=\u001b[39;49m\u001b[39m'\u001b[39;49m\u001b[39mParsing dreem output file\u001b[39;49m\u001b[39m'\u001b[39;49m, disable\u001b[39m=\u001b[39;49m\u001b[39mnot\u001b[39;49;00m tqdm)], verbose\u001b[39m=\u001b[39mverbose)\n",
                        "File \u001b[0;32m~/.pyenv/versions/3.11.6/lib/python3.11/site-packages/rouskinhf/list_datapoints.py:62\u001b[0m, in \u001b[0;36m<listcomp>\u001b[0;34m(.0)\u001b[0m\n\u001b[1;32m     60\u001b[0m \u001b[39m\u001b[39m\u001b[39m\"\"\"Create a list of datapoint from a dreem output file. The structure and dms will be predicted if predict_structure and predict_dms are True.\"\"\"\u001b[39;00m\n\u001b[1;32m     61\u001b[0m n_lines \u001b[39m=\u001b[39m \u001b[39mlen\u001b[39m(\u001b[39mlist\u001b[39m(DreemOutput\u001b[39m.\u001b[39mparse(dreem_output_file)))\n\u001b[0;32m---> 62\u001b[0m \u001b[39mreturn\u001b[39;00m \u001b[39mcls\u001b[39m([DatapointFactory\u001b[39m.\u001b[39;49mfrom_dreem_output(reference, sequence, mutation_rate, predict_structure)\n\u001b[1;32m     63\u001b[0m     \u001b[39mfor\u001b[39;00m reference, sequence, mutation_rate \u001b[39min\u001b[39;00m tqdm_parser(DreemOutput\u001b[39m.\u001b[39mparse(dreem_output_file), total\u001b[39m=\u001b[39mn_lines, desc\u001b[39m=\u001b[39m\u001b[39m'\u001b[39m\u001b[39mParsing dreem output file\u001b[39m\u001b[39m'\u001b[39m, disable\u001b[39m=\u001b[39m\u001b[39mnot\u001b[39;00m tqdm)], verbose\u001b[39m=\u001b[39mverbose)\n",
                        "File \u001b[0;32m~/.pyenv/versions/3.11.6/lib/python3.11/site-packages/rouskinhf/datapoint.py:290\u001b[0m, in \u001b[0;36mDatapointFactory.from_dreem_output\u001b[0;34m(reference, sequence, mutation_rate, predict_structure)\u001b[0m\n\u001b[1;32m    285\u001b[0m sequence \u001b[39m=\u001b[39m standardize_sequence(sequence)\n\u001b[1;32m    286\u001b[0m \u001b[39mif\u001b[39;00m sequence_has_regular_characters(sequence):\n\u001b[1;32m    287\u001b[0m     \u001b[39mreturn\u001b[39;00m Datapoint(\n\u001b[1;32m    288\u001b[0m         sequence\u001b[39m=\u001b[39msequence,\n\u001b[1;32m    289\u001b[0m         reference\u001b[39m=\u001b[39mreference,\n\u001b[0;32m--> 290\u001b[0m         structure\u001b[39m=\u001b[39mRNAstructure_singleton\u001b[39m.\u001b[39;49mpredictStructure(\n\u001b[1;32m    291\u001b[0m             sequence, dms\u001b[39m=\u001b[39;49mmutation_rate\n\u001b[1;32m    292\u001b[0m         )\n\u001b[1;32m    293\u001b[0m         \u001b[39mif\u001b[39;00m predict_structure\n\u001b[1;32m    294\u001b[0m         \u001b[39melse\u001b[39;00m \u001b[39mNone\u001b[39;00m,\n\u001b[1;32m    295\u001b[0m         dms\u001b[39m=\u001b[39mmutation_rate,\n\u001b[1;32m    296\u001b[0m     )\n",
                        "File \u001b[0;32m~/.pyenv/versions/3.11.6/lib/python3.11/site-packages/rouskinhf/rnastructure.py:140\u001b[0m, in \u001b[0;36mRNAstructure.predictStructure\u001b[0;34m(self, sequence, dms, shape)\u001b[0m\n\u001b[1;32m    138\u001b[0m     \u001b[39mself\u001b[39m\u001b[39m.\u001b[39m__write_dms_to_file(sequence, shape)\n\u001b[1;32m    139\u001b[0m     cmd \u001b[39m+\u001b[39m\u001b[39m=\u001b[39m \u001b[39m'\u001b[39m\u001b[39m --shape \u001b[39m\u001b[39m'\u001b[39m \u001b[39m+\u001b[39m \u001b[39mself\u001b[39m\u001b[39m.\u001b[39mdms_file\n\u001b[0;32m--> 140\u001b[0m run_command(cmd)\n\u001b[1;32m    141\u001b[0m cmd \u001b[39m=\u001b[39m \u001b[39mf\u001b[39m\u001b[39m\"\u001b[39m\u001b[39m{\u001b[39;00mos\u001b[39m.\u001b[39mpath\u001b[39m.\u001b[39mjoin(env\u001b[39m.\u001b[39mRNASTRUCTURE_PATH,\u001b[39m \u001b[39m\u001b[39m'\u001b[39m\u001b[39mct2dot\u001b[39m\u001b[39m'\u001b[39m)\u001b[39m}\u001b[39;00m\u001b[39m \u001b[39m\u001b[39m{\u001b[39;00m\u001b[39mself\u001b[39m\u001b[39m.\u001b[39mct_file\u001b[39m}\u001b[39;00m\u001b[39m 0 \u001b[39m\u001b[39m{\u001b[39;00m\u001b[39mself\u001b[39m\u001b[39m.\u001b[39mdot_file\u001b[39m}\u001b[39;00m\u001b[39m\"\u001b[39m\n\u001b[1;32m    142\u001b[0m run_command(cmd)\n",
                        "File \u001b[0;32m~/.pyenv/versions/3.11.6/lib/python3.11/site-packages/rouskinhf/rnastructure.py:9\u001b[0m, in \u001b[0;36mrun_command\u001b[0;34m(cmd)\u001b[0m\n\u001b[1;32m      7\u001b[0m \u001b[39mimport\u001b[39;00m \u001b[39msubprocess\u001b[39;00m\n\u001b[1;32m      8\u001b[0m process \u001b[39m=\u001b[39m subprocess\u001b[39m.\u001b[39mPopen(cmd\u001b[39m.\u001b[39msplit(), stdout\u001b[39m=\u001b[39msubprocess\u001b[39m.\u001b[39mPIPE)\n\u001b[0;32m----> 9\u001b[0m output, error \u001b[39m=\u001b[39m process\u001b[39m.\u001b[39;49mcommunicate()\n\u001b[1;32m     10\u001b[0m \u001b[39mreturn\u001b[39;00m output\u001b[39m.\u001b[39mdecode(\u001b[39m'\u001b[39m\u001b[39mutf-8\u001b[39m\u001b[39m'\u001b[39m)\n",
                        "File \u001b[0;32m~/.pyenv/versions/3.11.6/lib/python3.11/subprocess.py:1196\u001b[0m, in \u001b[0;36mPopen.communicate\u001b[0;34m(self, input, timeout)\u001b[0m\n\u001b[1;32m   1194\u001b[0m     \u001b[39mself\u001b[39m\u001b[39m.\u001b[39m_stdin_write(\u001b[39minput\u001b[39m)\n\u001b[1;32m   1195\u001b[0m \u001b[39melif\u001b[39;00m \u001b[39mself\u001b[39m\u001b[39m.\u001b[39mstdout:\n\u001b[0;32m-> 1196\u001b[0m     stdout \u001b[39m=\u001b[39m \u001b[39mself\u001b[39m\u001b[39m.\u001b[39mstdout\u001b[39m.\u001b[39mread()\n\u001b[1;32m   1197\u001b[0m     \u001b[39mself\u001b[39m\u001b[39m.\u001b[39mstdout\u001b[39m.\u001b[39mclose()\n\u001b[1;32m   1198\u001b[0m \u001b[39melif\u001b[39;00m \u001b[39mself\u001b[39m\u001b[39m.\u001b[39mstderr:\n",
                        "\u001b[0;31mKeyboardInterrupt\u001b[0m: "
                    ]
                }
            ],
            "source": [
                "%reload_ext autoreload\n",
                "%autoreload 2\n",
                "datafolder = DataFolder.from_dreem_output(\n",
                "    name='pri-miRNA', # name of the input data by default\n",
                "    path_in='/Users/yvesmartin/Downloads/pri-miRNA.json', # path to the input data\n",
                "    path_out='/Users/yvesmartin/src/rouskinhf/data/datafolders', \n",
                "    predict_structure=True,\n",
                "    # predict_dms=False,\n",
                "    tqdm=True,\n",
                "    generate_npy=True\n",
                "    )"
            ]
        },
        {
            "cell_type": "markdown",
            "metadata": {},
            "source": [
                "### From a data.json file"
            ]
        },
        {
            "cell_type": "code",
            "execution_count": 20,
            "metadata": {},
            "outputs": [
                {
                    "name": "stderr",
                    "output_type": "stream",
                    "text": [
                        "Parsing json file: 100%|██████████| 49001/49001 [00:03<00:00, 14230.55it/s]\n"
                    ]
                },
                {
                    "name": "stdout",
                    "output_type": "stream",
                    "text": [
                        "Over a total of 49001 datapoints, there are:\n",
                        "    - 49001 valid datapoints\n",
                        "    - 0 invalid datapoints (ex: sequence with non-regular characters)\n",
                        "    - 0 datapoints with the same reference\n",
                        "    - 0 duplicate sequences with the same structure / dms\n",
                        "    - 0 duplicate sequences with different structure / dms\n"
                    ]
                }
            ],
            "source": [
                "%reload_ext autoreload\n",
                "%autoreload 2\n",
                "datafolder = DataFolder.from_data_json(\n",
                "    name='ribonanza', # name of the input data by default\n",
                "    path_in='/Users/yvesmartin/src/rouskinhf/data/ribonanza.json', \n",
                "    path_out='/Users/yvesmartin/src/rouskinhf/data/datafolders', \n",
                "    predict_structure=False,\n",
                "    predict_dms=False,\n",
                "    tqdm=True,\n",
                "    generate_npy=True\n",
                "    )"
            ]
        },
        {
            "attachments": {},
            "cell_type": "markdown",
            "metadata": {},
            "source": [
                "### From a list of CT files"
            ]
        },
        {
            "cell_type": "code",
            "execution_count": null,
            "metadata": {},
            "outputs": [],
            "source": [
                "%reload_ext autoreload\n",
                "%autoreload 2\n",
                "datafolder = DataFolder.from_ct_folder(\n",
                "    name='bpRNA', # name of the input data by default\n",
                "    path_in='/Users/ymdt/Downloads/bpRNA', \n",
                "    path_out='/Users/ymdt/src/rouskinhf/data/datafolders', \n",
                "    predict_dms=False, # won't take the structure from the ct files into account\n",
                "    tqdm=True, \n",
                "    generate_npy=True,\n",
                "    )  "
            ]
        },
        {
            "attachments": {},
            "cell_type": "markdown",
            "metadata": {},
            "source": [
                "\n",
                "### From fasta"
            ]
        },
        {
            "cell_type": "code",
            "execution_count": 5,
            "metadata": {},
            "outputs": [
                {
                    "name": "stderr",
                    "output_type": "stream",
                    "text": []
                },
                {
                    "name": "stderr",
                    "output_type": "stream",
                    "text": [
                        "Parsing fasta file: 100%|██████████| 5/5 [00:00<00:00,  7.16it/s]"
                    ]
                },
                {
                    "name": "stdout",
                    "output_type": "stream",
                    "text": [
                        "Over a total of 5 datapoints, there are:\n",
                        "    - 0 valid datapoints\n",
                        "    - 1 invalid datapoints (ex: sequence with non-regular characters)\n",
                        "    - 1 datapoints with the same reference\n",
                        "    - 1 duplicate sequences with the same structure / dms\n",
                        "    - 0 duplicate sequences with different structure / dms\n",
                        "    - 2 datapoints removed because of low AUROC (<0.8)\n"
                    ]
                },
                {
                    "name": "stderr",
                    "output_type": "stream",
                    "text": [
                        "\n"
                    ]
                },
                {
                    "data": {
                        "text/plain": [
                            "array([array([3.3176258e-01, 8.6194777e-01, 9.8495054e-01, 9.9978286e-01,\n",
                            "              9.9995619e-01, 9.9994540e-01, 9.9702460e-01, 3.2988770e-10,\n",
                            "              1.0113345e-08, 9.3018784e-09, 2.1481183e-10, 9.9695349e-01,\n",
                            "              9.9997377e-01, 9.9998462e-01, 9.9979717e-01, 9.8487574e-01,\n",
                            "              8.6187601e-01, 3.3190918e-01], dtype=float32)              ,\n",
                            "       array([2.3766817e-01, 8.4576339e-01, 9.8692513e-01, 9.9954951e-01,\n",
                            "              9.9981171e-01, 9.9981171e-01, 9.9900937e-01, 7.4752042e-04,\n",
                            "              1.4492057e-03, 5.6404242e-11, 0.0000000e+00, 0.0000000e+00,\n",
                            "              1.4492056e-03, 9.9931222e-01, 9.9998856e-01, 9.9998885e-01,\n",
                            "              9.9991626e-01, 9.8716962e-01, 8.4594077e-01, 2.3697025e-01],\n",
                            "             dtype=float32)                                               ],\n",
                            "      dtype=object)"
                        ]
                    },
                    "execution_count": 5,
                    "metadata": {},
                    "output_type": "execute_result"
                }
            ],
            "source": [
                "datafolder = DataFolder.from_fasta(\n",
                "    name= 'sequences', # name of the input data by default\n",
                "    path_in = '/Users/yvesmartin/src/rouskinhf/data/input_files_for_testing/test_sequences.fasta', \n",
                "    path_out='/Users/yvesmartin/src/rouskinhf/data/datafolders', \n",
                "    predict_structure=True,\n",
                "    predict_dms=True,\n",
                "    tqdm=True,\n",
                "    generate_npy=True,\n",
                "    )\n",
                "np.load(datafolder.get_dms_npy(), allow_pickle=True)"
            ]
        },
        {
            "attachments": {},
            "cell_type": "markdown",
            "metadata": {},
            "source": [
                "### From an existing local datafolder\n",
                "\n",
                "#### Load the datafolder locally"
            ]
        },
        {
            "cell_type": "code",
            "execution_count": 18,
            "metadata": {},
            "outputs": [
                {
                    "name": "stdout",
                    "output_type": "stream",
                    "text": [
                        "Using local data for: for_testing\n"
                    ]
                }
            ],
            "source": [
                "datafolder = DataFolder.from_local(\n",
                "    name = '/Users/yvesmartin/src/rouskinhf/data/datafolders/for_testing',\n",
                ")"
            ]
        },
        {
            "cell_type": "markdown",
            "metadata": {},
            "source": [
                "#### Or load directly the data"
            ]
        },
        {
            "cell_type": "code",
            "execution_count": null,
            "metadata": {},
            "outputs": [],
            "source": [
                "data = import_dataset(\n",
                "    name = 'for_testing',\n",
                "    force_download=False # if True, will download the data even if it already exists locally\n",
                ")"
            ]
        },
        {
            "attachments": {},
            "cell_type": "markdown",
            "metadata": {},
            "source": [
                "# Push a local datafolder to Hugging Face"
            ]
        },
        {
            "attachments": {},
            "cell_type": "markdown",
            "metadata": {},
            "source": [
                "### 1. Create a repository if it does not exist"
            ]
        },
        {
            "cell_type": "code",
            "execution_count": 13,
            "metadata": {},
            "outputs": [],
            "source": [
                "# Find more arguments here: https://huggingface.co/docs/huggingface_hub/guides/repository#create-a-repository\n",
                "datafolder.create_repo(\n",
                "    exist_ok=True,\n",
                "    private=True\n",
                ")"
            ]
        },
        {
            "attachments": {},
            "cell_type": "markdown",
            "metadata": {},
            "source": [
                "### 2. Push the datafolder to Hugging Face"
            ]
        },
        {
            "cell_type": "code",
            "execution_count": 14,
            "metadata": {},
            "outputs": [
                {
                    "data": {
                        "text/plain": [
                            "'https://huggingface.co/datasets/rouskinlab/for_testing/tree/main/'"
                        ]
                    },
                    "execution_count": 14,
                    "metadata": {},
                    "output_type": "execute_result"
                }
            ],
            "source": [
                "\n",
                "# Find more arguments here: https://huggingface.co/docs/huggingface_hub/guides/upload#upload-a-folder\n",
                "future = datafolder.upload_folder(\n",
                "    revision='main', # branch name\n",
                "    commit_message='init commit',\n",
                "    commit_description='',\n",
                "    run_as_future=True,\n",
                ")\n",
                "\n",
                "future.done() # True if the upload is done\n",
                "future.result() # Wait for the upload to complete (blocking action)"
            ]
        },
        {
            "attachments": {},
            "cell_type": "markdown",
            "metadata": {},
            "source": [
                "### 3. Check that the datafolder is on Hugging Face\n",
                "\n",
                "Take a look at https://huggingface.co/rouskinlab"
            ]
        },
        {
            "attachments": {},
            "cell_type": "markdown",
            "metadata": {},
            "source": [
                "# Explore the datafolder object"
            ]
        },
        {
            "cell_type": "code",
            "execution_count": 21,
            "metadata": {},
            "outputs": [
                {
                    "name": "stdout",
                    "output_type": "stream",
                    "text": [
                        "LoadDatafolderFromLocal(name='/Users/yvesmartin/src/rouskinhf/data/datafolders/for_testing')\n",
                        "main folder: /Users/yvesmartin/src/rouskinhf/data/datafolders/for_testing\n",
                        "sequences.npy file:\n",
                        " [array([1, 1, 1, 2, 2, 2, 2, 1, 3, 4, 1, 3, 3, 3, 3, 4, 4, 4])\n",
                        " array([4, 4, 4, 2, 2, 2, 2, 4, 1, 3, 4, 1, 4, 3, 3, 3, 3, 1, 1, 1])]\n",
                        "base_pairs.npy file:\n",
                        " [array([[ 0, 17],\n",
                        "        [ 1, 16],\n",
                        "        [ 2, 15],\n",
                        "        [ 3, 14],\n",
                        "        [ 4, 13],\n",
                        "        [ 5, 12],\n",
                        "        [ 6, 11]]) array([[ 1, 18],\n",
                        "                          [ 2, 17],\n",
                        "                          [ 3, 16],\n",
                        "                          [ 4, 15],\n",
                        "                          [ 5, 14],\n",
                        "                          [ 6, 13]])]\n",
                        "dms.npy file:\n",
                        " [array([0., 0., 0., 0., 0., 0., 0., 1., 1., 1., 1., 1., 0., 0., 0., 0., 0.,\n",
                        "        0.], dtype=float32)\n",
                        " array([1., 0., 0., 0., 0., 0., 0., 1., 1., 1., 1., 1., 1., 0., 0., 0., 0.,\n",
                        "        0., 0., 0.], dtype=float32)                                        ]\n",
                        "json file:\n",
                        " {'RF02271.fa.csv_1': {'sequence': 'AAACCCCAGUAGGGGUUU', 'paired_bases': [[6, 11], [5, 12], [4, 13], [3, 14], [2, 15], [1, 16], [0, 17]], 'dms': [0, 0, 0, 0, 0, 0, 0, 1, 1, 1, 1, 1, 0, 0, 0, 0, 0, 0]}, 'RF02271.fa.csv_2': {'sequence': 'UUUCCCCUAGUAUGGGGAAA', 'paired_bases': [[6, 13], [5, 14], [4, 15], [3, 16], [2, 17], [1, 18]], 'dms': [1, 0, 0, 0, 0, 0, 0, 1, 1, 1, 1, 1, 1, 0, 0, 0, 0, 0, 0, 0]}}\n",
                        "dms.npy file: /Users/yvesmartin/src/rouskinhf/data/datafolders/for_testing/dms.npy\n",
                        "json file: /Users/yvesmartin/src/rouskinhf/data/datafolders/for_testing/data.json\n",
                        "info file: /Users/yvesmartin/src/rouskinhf/data/datafolders/for_testing/info.json\n"
                    ]
                }
            ],
            "source": [
                "import numpy as np\n",
                "import json\n",
                "print(datafolder)\n",
                "print('main folder:',datafolder.get_main_folder())\n",
                "print('sequences.npy file:\\n',np.load(datafolder.get_sequences_npy(), allow_pickle=True))\n",
                "print('base_pairs.npy file:\\n',np.load(datafolder.get_base_pairs_npy(), allow_pickle=True))\n",
                "print('dms.npy file:\\n',np.load(datafolder.get_dms_npy(), allow_pickle=True))\n",
                "print('json file:\\n', json.load(open(datafolder.get_json(), 'r')))\n",
                "print('dms.npy file:',datafolder.get_dms_npy())\n",
                "print('json file:',datafolder.get_json())\n",
                "# print('source files:',datafolder.get_source_files())\n",
                "print('info file:',datafolder.get_info_file())"
            ]
        }
    ],
    "metadata": {
        "kernelspec": {
            "display_name": "dl",
            "language": "python",
            "name": "python3"
        },
        "language_info": {
            "codemirror_mode": {
                "name": "ipython",
                "version": 3
            },
            "file_extension": ".py",
            "mimetype": "text/x-python",
            "name": "python",
            "nbconvert_exporter": "python",
            "pygments_lexer": "ipython3",
            "version": "3.11.6"
        },
        "orig_nbformat": 4
    },
    "nbformat": 4,
    "nbformat_minor": 2
}
