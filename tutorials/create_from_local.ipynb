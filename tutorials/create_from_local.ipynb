{
    "cells": [
        {
            "cell_type": "markdown",
            "metadata": {},
            "source": [
                "## Imports"
            ]
        },
        {
            "cell_type": "code",
            "execution_count": 2,
            "metadata": {},
            "outputs": [],
            "source": [
                "import sys, os\n",
                "import numpy as np\n",
                "\n",
                "# Import the rouskinhf package\n",
                "sys.path.append('..')\n",
                "from rouskinhf import import_dataset, DataFolder, setup_env\n",
                "\n",
                "# make sure to source the env file\n",
                "# OPTION 1: source the env file in the notebook\n",
                "%load_ext dotenv\n",
                "%dotenv env\n",
                "# OPTION 2: source the env file in the terminal\n",
                "setup_env(RNASTRUCTURE_PATH='/Users/ymdt/src/RNAstructure/exe')"
            ]
        },
        {
            "attachments": {},
            "cell_type": "markdown",
            "metadata": {},
            "source": [
                "# Create a datafolder from local files\n",
                "\n",
                "These methods will allow you to process your data and create a datafolder from it. The accepted formats are:\n",
                "- DREEM output\n",
                "- fasta\n",
                "- set of CTs\n",
                "- already formatted json + info.json\n",
                "\n",
                "**Make sure to change the paths to your own paths!**"
            ]
        },
        {
            "attachments": {},
            "cell_type": "markdown",
            "metadata": {},
            "source": [
                "### From DREEM output"
            ]
        },
        {
            "cell_type": "code",
            "execution_count": 54,
            "metadata": {},
            "outputs": [
                {
                    "name": "stdout",
                    "output_type": "stream",
                    "text": [
                        "Over a total of 513 datapoints, there are:\n",
                        "    - 513 valid datapoints\n",
                        "    - 0 invalid datapoints (ex: sequence with non-regular characters)\n",
                        "    - 0 datapoints with the same reference\n",
                        "    - 0 duplicate sequences with the same structure / dms\n",
                        "    - 0 duplicate sequences with different structure / dms\n"
                    ]
                }
            ],
            "source": [
                "%reload_ext autoreload\n",
                "%autoreload 2\n",
                "datafolder = DataFolder.from_dreem_output(\n",
                "    name='pri-miRNA-test', # name of the input data by default\n",
                "    path_in='/Users/ymdt/Downloads/pri-miRNA.json', # path to the input data\n",
                "    path_out='/Users/ymdt/src/rouskinhf/data/datafolders', \n",
                " #   predict_structure=True,\n",
                "    tqdm=False,\n",
                "    generate_npy=True\n",
                "    )"
            ]
        },
        {
            "cell_type": "markdown",
            "metadata": {},
            "source": [
                "### From a data.json file"
            ]
        },
        {
            "cell_type": "code",
            "execution_count": 25,
            "metadata": {},
            "outputs": [
                {
                    "name": "stderr",
                    "output_type": "stream",
                    "text": [
                        "Parsing json file: 100%|██████████| 16674/16674 [00:00<00:00, 26797.20it/s]\n"
                    ]
                },
                {
                    "name": "stdout",
                    "output_type": "stream",
                    "text": [
                        "Over a total of 16674 datapoints, there are:\n",
                        "    - 16674 valid datapoints\n",
                        "    - 0 invalid datapoints (ex: sequence with non-regular characters)\n",
                        "    - 0 datapoints with the same reference\n",
                        "    - 0 duplicate sequences with the same structure / dms\n",
                        "    - 0 duplicate sequences with different structure / dms\n",
                        "    - 0 datapoints removed because of low AUROC (<0.8)\n"
                    ]
                }
            ],
            "source": [
                "%reload_ext autoreload\n",
                "%autoreload 2\n",
                "datafolder = DataFolder.from_data_json(\n",
                "    name='ribonanza_shape', # name of the input data by default\n",
                "    path_in='/Users/ymdt/src/das_data/data/shape_data.json', \n",
                "    path_out='/Users/ymdt/src/rouskinhf/data/datafolders', \n",
                "    predict_structure=False,\n",
                "    predict_dms=False,\n",
                "    tqdm=True,\n",
                "    generate_npy=True\n",
                "    )"
            ]
        },
        {
            "attachments": {},
            "cell_type": "markdown",
            "metadata": {},
            "source": [
                "### From a list of CT files"
            ]
        },
        {
            "cell_type": "code",
            "execution_count": null,
            "metadata": {},
            "outputs": [],
            "source": [
                "%reload_ext autoreload\n",
                "%autoreload 2\n",
                "datafolder = DataFolder.from_ct_folder(\n",
                "    name='from_ct_folder', # name of the input data by default\n",
                "    path_in='/Users/ymdt/src/rouskinhf/data/input_files_for_testing/ct_files', \n",
                "    path_out='/Users/ymdt/src/rouskinhf/data/datafolders', \n",
                "    predict_dms=False, # won't take the structure from the ct files into account\n",
                "    tqdm=True, \n",
                "    generate_npy=True,\n",
                "    )  "
            ]
        },
        {
            "attachments": {},
            "cell_type": "markdown",
            "metadata": {},
            "source": [
                "\n",
                "### From fasta"
            ]
        },
        {
            "cell_type": "code",
            "execution_count": 2,
            "metadata": {},
            "outputs": [
                {
                    "name": "stderr",
                    "output_type": "stream",
                    "text": [
                        "Parsing fasta file: 100%|██████████| 5/5 [00:01<00:00,  3.77it/s]"
                    ]
                },
                {
                    "name": "stdout",
                    "output_type": "stream",
                    "text": [
                        "Over a total of 5 datapoints, there are:\n",
                        "    - 2 valid datapoints\n",
                        "    - 1 invalid datapoints (ex: sequence with non-regular characters)\n",
                        "    - 1 datapoints with the same reference\n",
                        "    - 1 duplicate sequences with the same structure / dms\n",
                        "    - 0 duplicate sequences with different structure / dms\n"
                    ]
                },
                {
                    "name": "stderr",
                    "output_type": "stream",
                    "text": [
                        "\n"
                    ]
                },
                {
                    "data": {
                        "text/plain": [
                            "array([array([3.3176258e-01, 8.6194777e-01, 9.8495054e-01, 9.9978286e-01,\n",
                            "              9.9995619e-01, 9.9994540e-01, 9.9702460e-01, 3.2988770e-10,\n",
                            "              1.0113345e-08, 9.3018784e-09, 2.1481183e-10, 9.9695349e-01,\n",
                            "              9.9997377e-01, 9.9998462e-01, 9.9979717e-01, 9.8487574e-01,\n",
                            "              8.6187601e-01, 3.3190918e-01], dtype=float32)              ,\n",
                            "       array([2.3766817e-01, 8.4576339e-01, 9.8692513e-01, 9.9954951e-01,\n",
                            "              9.9981171e-01, 9.9981171e-01, 9.9900937e-01, 7.4752042e-04,\n",
                            "              1.4492057e-03, 5.6404242e-11, 0.0000000e+00, 0.0000000e+00,\n",
                            "              1.4492056e-03, 9.9931222e-01, 9.9998856e-01, 9.9998885e-01,\n",
                            "              9.9991626e-01, 9.8716962e-01, 8.4594077e-01, 2.3697025e-01],\n",
                            "             dtype=float32)                                               ],\n",
                            "      dtype=object)"
                        ]
                    },
                    "execution_count": 2,
                    "metadata": {},
                    "output_type": "execute_result"
                }
            ],
            "source": [
                "datafolder = DataFolder.from_fasta(\n",
                "    name= 'sequences', # name of the input data by default\n",
                "    path_in = '/Users/ymdt/src/rouskinhf/data/input_files_for_testing/sequences.fasta', \n",
                "    path_out='/Users/ymdt/src/rouskinhf/data/datafolders', \n",
                "    predict_structure=True,\n",
                "    predict_dms=True,\n",
                "    tqdm=True,\n",
                "    generate_npy=True,\n",
                "    )\n",
                "np.load(datafolder.get_dms_npy(), allow_pickle=True)"
            ]
        },
        {
            "attachments": {},
            "cell_type": "markdown",
            "metadata": {},
            "source": [
                "### From an existing local datafolder"
            ]
        },
        {
            "cell_type": "code",
            "execution_count": 4,
            "metadata": {},
            "outputs": [
                {
                    "name": "stdout",
                    "output_type": "stream",
                    "text": [
                        "No folder found in data/input_files/pri-miRNA\n"
                    ]
                },
                {
                    "data": {
                        "application/vnd.jupyter.widget-view+json": {
                            "model_id": "2159677727064bbc808ab8c349673fea",
                            "version_major": 2,
                            "version_minor": 0
                        },
                        "text/plain": [
                            "Fetching 2 files:   0%|          | 0/2 [00:00<?, ?it/s]"
                        ]
                    },
                    "metadata": {},
                    "output_type": "display_data"
                },
                {
                    "data": {
                        "application/vnd.jupyter.widget-view+json": {
                            "model_id": "e565cc87a84b4b39aa276508005c0470",
                            "version_major": 2,
                            "version_minor": 0
                        },
                        "text/plain": [
                            "Downloading (…)ffe09d71b9/data.json:   0%|          | 0.00/2.05M [00:00<?, ?B/s]"
                        ]
                    },
                    "metadata": {},
                    "output_type": "display_data"
                },
                {
                    "data": {
                        "application/vnd.jupyter.widget-view+json": {
                            "model_id": "080e3383915247cea360c61d9e28d823",
                            "version_major": 2,
                            "version_minor": 0
                        },
                        "text/plain": [
                            "Downloading (…)ffe09d71b9/info.json:   0%|          | 0.00/790 [00:00<?, ?B/s]"
                        ]
                    },
                    "metadata": {},
                    "output_type": "display_data"
                },
                {
                    "name": "stderr",
                    "output_type": "stream",
                    "text": [
                        "Parsing json file: 100%|██████████| 503/503 [00:00<00:00, 25099.76it/s]\n"
                    ]
                },
                {
                    "name": "stdout",
                    "output_type": "stream",
                    "text": [
                        "Over a total of 503 datapoints, there are:\n",
                        "    - 503 valid datapoints\n",
                        "    - 0 invalid datapoints (ex: sequence with non-regular characters)\n",
                        "    - 0 datapoints with the same reference\n",
                        "    - 0 duplicate sequences with the same structure / dms\n",
                        "    - 0 duplicate sequences with different structure / dms\n",
                        "    - 0 datapoints removed because of low AUROC (<0.8)\n",
                        "Using data from HuggingFace Hub for pri-miRNA\n"
                    ]
                }
            ],
            "source": [
                "datafolder = DataFolder.from_local(\n",
                "    name = '/Users/ymdt/src/rouskinhf/data/datafolders/for_testing',\n",
                ")\n",
                "\n",
                "# OR\n",
                "\n",
                "datafolder = import_dataset(\n",
                "    name = 'for_testing',\n",
                "    data = 'DMS', # can be 'DMS' or 'structure'\n",
                "    force_download=False # if True, will download the data even if it already exists locally\n",
                ")"
            ]
        },
        {
            "attachments": {},
            "cell_type": "markdown",
            "metadata": {},
            "source": [
                "# Push a local datafolder to Hugging Face"
            ]
        },
        {
            "attachments": {},
            "cell_type": "markdown",
            "metadata": {},
            "source": [
                "### 1. Create a repository if it does not exist"
            ]
        },
        {
            "cell_type": "code",
            "execution_count": 26,
            "metadata": {},
            "outputs": [],
            "source": [
                "# Find more arguments here: https://huggingface.co/docs/huggingface_hub/guides/repository#create-a-repository\n",
                "datafolder.create_repo(\n",
                "    exist_ok=True,\n",
                "    private=True\n",
                ")"
            ]
        },
        {
            "attachments": {},
            "cell_type": "markdown",
            "metadata": {},
            "source": [
                "### 2. Push the datafolder to Hugging Face"
            ]
        },
        {
            "cell_type": "code",
            "execution_count": 55,
            "metadata": {},
            "outputs": [
                {
                    "data": {
                        "text/plain": [
                            "'https://huggingface.co/datasets/rouskinlab/pri-miRNA-test/tree/main/'"
                        ]
                    },
                    "execution_count": 55,
                    "metadata": {},
                    "output_type": "execute_result"
                }
            ],
            "source": [
                "\n",
                "# Find more arguments here: https://huggingface.co/docs/huggingface_hub/guides/upload#upload-a-folder\n",
                "future = datafolder.upload_folder(\n",
                "    revision='main', # branch name\n",
                "    commit_message='Upload demo dataset',\n",
                "    commit_description='This is a demo dataset',\n",
                "    run_as_future=True,\n",
                ")\n",
                "\n",
                "future.done() # True if the upload is done\n",
                "future.result() # Wait for the upload to complete (blocking action)"
            ]
        },
        {
            "attachments": {},
            "cell_type": "markdown",
            "metadata": {},
            "source": [
                "### 3. Check that the datafolder is on Hugging Face\n",
                "\n",
                "Take a look at https://huggingface.co/rouskinlab"
            ]
        },
        {
            "attachments": {},
            "cell_type": "markdown",
            "metadata": {},
            "source": [
                "# Explore the datafolder object"
            ]
        },
        {
            "cell_type": "code",
            "execution_count": null,
            "metadata": {},
            "outputs": [],
            "source": [
                "import numpy as np\n",
                "import json\n",
                "print(datafolder)\n",
                "print('main folder:',datafolder.get_main_folder())\n",
                "print('sequences.npy file:\\n',np.load(datafolder.get_sequences_npy(), allow_pickle=True))\n",
                "print('base_pairs.npy file:\\n',np.load(datafolder.get_base_pairs_npy(), allow_pickle=True))\n",
                "print('dms.npy file:\\n',np.load(datafolder.get_dms_npy(), allow_pickle=True))\n",
                "print('json file:\\n', json.load(open(datafolder.get_json(), 'r')))\n",
                "print('dms.npy file:',datafolder.get_dms_npy())\n",
                "print('json file:',datafolder.get_json())\n",
                "print('source files:',datafolder.get_source_files())\n",
                "print('info file:',datafolder.get_info_file())"
            ]
        },
        {
            "cell_type": "code",
            "execution_count": 61,
            "metadata": {},
            "outputs": [
                {
                    "name": "stdout",
                    "output_type": "stream",
                    "text": [
                        "Using local data for: pri-miRNA-test\n",
                        "Force download from HuggingFace Hub\n"
                    ]
                },
                {
                    "data": {
                        "application/vnd.jupyter.widget-view+json": {
                            "model_id": "3e730ae9d8834760b31dd7b7b47fb12f",
                            "version_major": 2,
                            "version_minor": 0
                        },
                        "text/plain": [
                            "Fetching 2 files:   0%|          | 0/2 [00:00<?, ?it/s]"
                        ]
                    },
                    "metadata": {},
                    "output_type": "display_data"
                },
                {
                    "name": "stderr",
                    "output_type": "stream",
                    "text": [
                        "Parsing json file: 100%|██████████| 1234/1234 [00:00<00:00, 3009.75it/s]\n"
                    ]
                },
                {
                    "name": "stdout",
                    "output_type": "stream",
                    "text": [
                        "Over a total of 1234 datapoints, there are:\n",
                        "    - 1234 valid datapoints\n",
                        "    - 0 invalid datapoints (ex: sequence with non-regular characters)\n",
                        "    - 0 datapoints with the same reference\n",
                        "    - 0 duplicate sequences with the same structure / dms\n",
                        "    - 0 duplicate sequences with different structure / dms\n",
                        "    - 0 datapoints removed because of low AUROC (<0.8)\n",
                        "Using data from HuggingFace Hub for utr\n"
                    ]
                },
                {
                    "ename": "ValueError",
                    "evalue": "setting an array element with a sequence. The requested array has an inhomogeneous shape after 1 dimensions. The detected shape was (1234,) + inhomogeneous part.",
                    "output_type": "error",
                    "traceback": [
                        "\u001b[0;31m---------------------------------------------------------------------------\u001b[0m",
                        "\u001b[0;31mValueError\u001b[0m                                Traceback (most recent call last)",
                        "\u001b[1;32m/Users/ymdt/src/rouskinhf/tutorials/create_from_local.ipynb Cell 22\u001b[0m line \u001b[0;36m7\n\u001b[1;32m      <a href='vscode-notebook-cell:/Users/ymdt/src/rouskinhf/tutorials/create_from_local.ipynb#X40sZmlsZQ%3D%3D?line=0'>1</a>\u001b[0m data_pri \u001b[39m=\u001b[39m import_dataset(\n\u001b[1;32m      <a href='vscode-notebook-cell:/Users/ymdt/src/rouskinhf/tutorials/create_from_local.ipynb#X40sZmlsZQ%3D%3D?line=1'>2</a>\u001b[0m     name \u001b[39m=\u001b[39m \u001b[39m'\u001b[39m\u001b[39mpri-miRNA-test\u001b[39m\u001b[39m'\u001b[39m,\n\u001b[1;32m      <a href='vscode-notebook-cell:/Users/ymdt/src/rouskinhf/tutorials/create_from_local.ipynb#X40sZmlsZQ%3D%3D?line=2'>3</a>\u001b[0m     data \u001b[39m=\u001b[39m \u001b[39m'\u001b[39m\u001b[39mDMS\u001b[39m\u001b[39m'\u001b[39m, \u001b[39m# can be 'DMS' or 'structure'\u001b[39;00m\n\u001b[1;32m      <a href='vscode-notebook-cell:/Users/ymdt/src/rouskinhf/tutorials/create_from_local.ipynb#X40sZmlsZQ%3D%3D?line=3'>4</a>\u001b[0m     force_download\u001b[39m=\u001b[39m\u001b[39mFalse\u001b[39;00m \u001b[39m# if True, will download the data even if it already exists locally\u001b[39;00m\n\u001b[1;32m      <a href='vscode-notebook-cell:/Users/ymdt/src/rouskinhf/tutorials/create_from_local.ipynb#X40sZmlsZQ%3D%3D?line=4'>5</a>\u001b[0m )\n\u001b[0;32m----> <a href='vscode-notebook-cell:/Users/ymdt/src/rouskinhf/tutorials/create_from_local.ipynb#X40sZmlsZQ%3D%3D?line=6'>7</a>\u001b[0m data_utr \u001b[39m=\u001b[39m import_dataset(\n\u001b[1;32m      <a href='vscode-notebook-cell:/Users/ymdt/src/rouskinhf/tutorials/create_from_local.ipynb#X40sZmlsZQ%3D%3D?line=7'>8</a>\u001b[0m     name \u001b[39m=\u001b[39;49m \u001b[39m'\u001b[39;49m\u001b[39mutr\u001b[39;49m\u001b[39m'\u001b[39;49m,\n\u001b[1;32m      <a href='vscode-notebook-cell:/Users/ymdt/src/rouskinhf/tutorials/create_from_local.ipynb#X40sZmlsZQ%3D%3D?line=8'>9</a>\u001b[0m     data \u001b[39m=\u001b[39;49m \u001b[39m'\u001b[39;49m\u001b[39mDMS\u001b[39;49m\u001b[39m'\u001b[39;49m, \u001b[39m# can be 'DMS' or 'structure'\u001b[39;49;00m\n\u001b[1;32m     <a href='vscode-notebook-cell:/Users/ymdt/src/rouskinhf/tutorials/create_from_local.ipynb#X40sZmlsZQ%3D%3D?line=9'>10</a>\u001b[0m     force_download\u001b[39m=\u001b[39;49m\u001b[39mTrue\u001b[39;49;00m \u001b[39m# if True, will download the data even if it already exists locally\u001b[39;49;00m\n\u001b[1;32m     <a href='vscode-notebook-cell:/Users/ymdt/src/rouskinhf/tutorials/create_from_local.ipynb#X40sZmlsZQ%3D%3D?line=10'>11</a>\u001b[0m )\n",
                        "File \u001b[0;32m~/src/rouskinhf/tutorials/../rouskinhf/import_dataset_fun.py:45\u001b[0m, in \u001b[0;36mimport_dataset\u001b[0;34m(name, data, force_download, force_generate_npy)\u001b[0m\n\u001b[1;32m     42\u001b[0m         \u001b[39mraise\u001b[39;00m \u001b[39mAssertionError\u001b[39;00m(\u001b[39m\"\u001b[39m\u001b[39mCould not find dataset: \u001b[39m\u001b[39m{}\u001b[39;00m\u001b[39m because of error: \u001b[39m\u001b[39m{}\u001b[39;00m\u001b[39m\"\u001b[39m\u001b[39m.\u001b[39mformat(name, e))\n\u001b[1;32m     44\u001b[0m \u001b[39mif\u001b[39;00m \u001b[39mnot\u001b[39;00m exists(datafolder\u001b[39m.\u001b[39mget_references_npy()) \u001b[39mor\u001b[39;00m \u001b[39mnot\u001b[39;00m exists(datafolder\u001b[39m.\u001b[39mget_sequences_npy()) \u001b[39mor\u001b[39;00m source \u001b[39m==\u001b[39m \u001b[39m'\u001b[39m\u001b[39mhuggingface\u001b[39m\u001b[39m'\u001b[39m \u001b[39mor\u001b[39;00m force_generate_npy:\n\u001b[0;32m---> 45\u001b[0m     datafolder\u001b[39m.\u001b[39;49mgenerate_npy()\n\u001b[1;32m     47\u001b[0m out \u001b[39m=\u001b[39m {\n\u001b[1;32m     48\u001b[0m     \u001b[39m'\u001b[39m\u001b[39mreferences\u001b[39m\u001b[39m'\u001b[39m: np\u001b[39m.\u001b[39mload(datafolder\u001b[39m.\u001b[39mget_references_npy(), allow_pickle\u001b[39m=\u001b[39m\u001b[39mTrue\u001b[39;00m),\n\u001b[1;32m     49\u001b[0m     \u001b[39m'\u001b[39m\u001b[39msequences\u001b[39m\u001b[39m'\u001b[39m: np\u001b[39m.\u001b[39mload(datafolder\u001b[39m.\u001b[39mget_sequences_npy(), allow_pickle\u001b[39m=\u001b[39m\u001b[39mTrue\u001b[39;00m)\n\u001b[1;32m     50\u001b[0m     }\n\u001b[1;32m     52\u001b[0m \u001b[39m# Get the dataset\u001b[39;00m\n",
                        "File \u001b[0;32m~/src/rouskinhf/tutorials/../rouskinhf/datafolder.py:41\u001b[0m, in \u001b[0;36mDataFolderTemplate.generate_npy\u001b[0;34m(self)\u001b[0m\n\u001b[1;32m     38\u001b[0m     \u001b[39mreturn\u001b[39;00m \u001b[39mNone\u001b[39;00m\n\u001b[1;32m     40\u001b[0m \u001b[39mself\u001b[39m\u001b[39m.\u001b[39mdatapoints\u001b[39m.\u001b[39mto_reference_npy(\u001b[39mself\u001b[39m\u001b[39m.\u001b[39mget_references_npy())\n\u001b[0;32m---> 41\u001b[0m \u001b[39mself\u001b[39;49m\u001b[39m.\u001b[39;49mdatapoints\u001b[39m.\u001b[39;49mto_sequence_npy(\u001b[39mself\u001b[39;49m\u001b[39m.\u001b[39;49mget_sequences_npy())\n\u001b[1;32m     43\u001b[0m d1 \u001b[39m=\u001b[39m \u001b[39mself\u001b[39m\u001b[39m.\u001b[39mdatapoints\u001b[39m.\u001b[39mdatapoints[\u001b[39m0\u001b[39m]\n\u001b[1;32m     45\u001b[0m \u001b[39mif\u001b[39;00m \u001b[39mhasattr\u001b[39m(d1, \u001b[39m\"\u001b[39m\u001b[39mpaired_bases\u001b[39m\u001b[39m\"\u001b[39m):\n",
                        "File \u001b[0;32m~/src/rouskinhf/tutorials/../rouskinhf/list_datapoints.py:167\u001b[0m, in \u001b[0;36mListofDatapoints.to_sequence_npy\u001b[0;34m(self, path)\u001b[0m\n\u001b[1;32m    151\u001b[0m \u001b[39mdef\u001b[39;00m \u001b[39mto_sequence_npy\u001b[39m(\u001b[39mself\u001b[39m, path):\n\u001b[1;32m    152\u001b[0m \u001b[39m    \u001b[39m\u001b[39m\"\"\"Writes the sequence npy file from the list of datapoints.\u001b[39;00m\n\u001b[1;32m    153\u001b[0m \n\u001b[1;32m    154\u001b[0m \u001b[39m    Args:\u001b[39;00m\n\u001b[0;32m   (...)\u001b[0m\n\u001b[1;32m    164\u001b[0m \u001b[39m        >>> assert not (datapoints.to_sequence_npy('temp/sequence.npy') - array([[1, 1, 2, 2, 3, 3],[1, 1, 2, 2, 3, 3]], dtype=object)).any(), \"The sequence matrix is not correct.\"\u001b[39;00m\n\u001b[1;32m    165\u001b[0m \u001b[39m    \"\"\"\u001b[39;00m\n\u001b[0;32m--> 167\u001b[0m     arr \u001b[39m=\u001b[39m np\u001b[39m.\u001b[39;49marray(\n\u001b[1;32m    168\u001b[0m         [datapoint\u001b[39m.\u001b[39;49membed_sequence() \u001b[39mfor\u001b[39;49;00m datapoint \u001b[39min\u001b[39;49;00m \u001b[39mself\u001b[39;49m\u001b[39m.\u001b[39;49mdatapoints], dtype\u001b[39m=\u001b[39;49mnp\u001b[39m.\u001b[39;49mfloat32\n\u001b[1;32m    169\u001b[0m     )\n\u001b[1;32m    170\u001b[0m     np\u001b[39m.\u001b[39msave(path, arr)\n\u001b[1;32m    171\u001b[0m     \u001b[39mreturn\u001b[39;00m arr\n",
                        "\u001b[0;31mValueError\u001b[0m: setting an array element with a sequence. The requested array has an inhomogeneous shape after 1 dimensions. The detected shape was (1234,) + inhomogeneous part."
                    ]
                }
            ],
            "source": [
                "data_pri = import_dataset(\n",
                "    name = 'pri-miRNA-test',\n",
                "    data = 'DMS', # can be 'DMS' or 'structure'\n",
                "    force_download=False # if True, will download the data even if it already exists locally\n",
                ")\n",
                "\n",
                "data_utr = import_dataset(\n",
                "    name = 'utr',\n",
                "    data = 'DMS', # can be 'DMS' or 'structure'\n",
                "    force_download=False # if True, will download the data even if it already exists locally\n",
                ")\n"
            ]
        },
        {
            "cell_type": "code",
            "execution_count": 60,
            "metadata": {},
            "outputs": [
                {
                    "data": {
                        "text/plain": [
                            "array([-1000.0, -1000.0, -1000.0, -1000.0, -1000.0, -1000.0, -1000.0,\n",
                            "       -1000.0, -1000.0, -1000.0, -1000.0, -1000.0, -1000.0, -1000.0,\n",
                            "       -1000.0, -1000.0, -1000.0, -1000.0, -1000.0, -1000.0, -1000.0,\n",
                            "       -1000.0, -1000.0, -1000.0, -1000.0, -1000.0, 0.4699999988079071,\n",
                            "       -1000.0, 0.5659999847412109, 0.39500001072883606,\n",
                            "       0.32100000977516174, 0.3240000009536743, -1000.0, -1000.0, -1000.0,\n",
                            "       -1000.0, 0.5049999952316284, -1000.0, -1000.0, 0.6269999742507935,\n",
                            "       0.13699999451637268, -1000.0, -1000.0, -1000.0, -1000.0,\n",
                            "       0.15700000524520874, 0.4350000023841858, 0.37400001287460327,\n",
                            "       0.21299999952316284, 0.32600000500679016, -1000.0, -1000.0,\n",
                            "       0.31299999356269836, 0.5450000166893005, 0.6480000019073486,\n",
                            "       0.05400000140070915, 0.05299999937415123, -1000.0, -1000.0,\n",
                            "       -1000.0, 0.0820000022649765, -1000.0, -1000.0, -1000.0, -1000.0,\n",
                            "       0.36899998784065247, -1000.0, 0.15700000524520874, -1000.0,\n",
                            "       -1000.0, 0.03099999949336052, 0.08900000154972076,\n",
                            "       0.0560000017285347, -1000.0, -1000.0, -1000.0, -1000.0, -1000.0,\n",
                            "       -1000.0, 0.16500000655651093, -1000.0, -1000.0,\n",
                            "       0.08100000023841858, -1000.0, -1000.0, -1000.0,\n",
                            "       0.08299999684095383, -1000.0, -1000.0, 0.08900000154972076,\n",
                            "       -1000.0, -1000.0, -1000.0, -1000.0, -1000.0, -1000.0,\n",
                            "       0.06300000101327896, -1000.0, 0.07199999690055847, -1000.0,\n",
                            "       -1000.0, -1000.0, -1000.0, -1000.0, 0.32499998807907104, -1000.0,\n",
                            "       -1000.0, -1000.0, -1000.0, 0.8659999966621399, 0.8389999866485596,\n",
                            "       0.8669999837875366, 1.0, 0.10000000149011612, 0.05400000140070915,\n",
                            "       0.03700000047683716, 0.49900001287460327, 0.5139999985694885,\n",
                            "       0.5130000114440918, 0.671999990940094, 0.8859999775886536, -1000.0,\n",
                            "       -1000.0, -1000.0, -1000.0, 0.722000002861023, -1000.0,\n",
                            "       0.5740000009536743, -1000.0, 0.1589999943971634,\n",
                            "       0.10599999874830246, 0.01899999938905239, -1000.0,\n",
                            "       0.04800000041723251, -1000.0, 0.052000001072883606,\n",
                            "       0.026000000536441803, 0.054999999701976776, 0.052000001072883606,\n",
                            "       -1000.0, 0.01600000075995922, -1000.0, 0.04399999976158142,\n",
                            "       0.020999999716877937, -1000.0, -1000.0, -1000.0,\n",
                            "       0.014000000432133675, -1000.0, -1000.0, -1000.0,\n",
                            "       0.017000000923871994, 0.010999999940395355, -1000.0,\n",
                            "       0.3499999940395355, 0.5019999742507935, 0.2939999997615814,\n",
                            "       -1000.0, -1000.0, -1000.0, 0.16899999976158142, -1000.0,\n",
                            "       0.15199999511241913, -1000.0, 0.32100000977516174,\n",
                            "       0.5410000085830688, 0.7229999899864197, 0.6629999876022339,\n",
                            "       -1000.0, -1000.0, 0.8429999947547913, -1000.0, -1000.0,\n",
                            "       0.04699999839067459, 0.06400000303983688, -1000.0,\n",
                            "       0.01899999938905239, 0.01600000075995922, 0.04699999839067459,\n",
                            "       -1000.0, -1000.0, 0.9319999814033508, -1000.0, -1000.0, -1000.0,\n",
                            "       0.289000004529953, -1000.0, -1000.0, 0.3779999911785126, -1000.0,\n",
                            "       0.6710000038146973, -1000.0, 0.3179999887943268,\n",
                            "       0.3540000021457672, 0.48500001430511475, -1000.0, -1000.0,\n",
                            "       0.16200000047683716, 0.20200000703334808, -1000.0, -1000.0,\n",
                            "       -1000.0, 0.5189999938011169, 0.5879999995231628,\n",
                            "       0.6600000262260437, -1000.0, 0.4580000042915344,\n",
                            "       0.5239999890327454, -1000.0, -1000.0, -1000.0, -1000.0, -1000.0,\n",
                            "       -1000.0, -1000.0, -1000.0, -1000.0, -1000.0, -1000.0, -1000.0,\n",
                            "       -1000.0, -1000.0, -1000.0, -1000.0, -1000.0, -1000.0, -1000.0,\n",
                            "       -1000.0, -1000.0, -1000.0], dtype=object)"
                        ]
                    },
                    "execution_count": 60,
                    "metadata": {},
                    "output_type": "execute_result"
                }
            ],
            "source": [
                "# load dms.npy \n",
                "data_pri['DMS'][0]"
            ]
        },
        {
            "cell_type": "code",
            "execution_count": 51,
            "metadata": {},
            "outputs": [
                {
                    "data": {
                        "text/plain": [
                            "array([array([-1.00e+03, -1.00e+03, -1.00e+03,  2.66e-01, -1.00e+03, -1.00e+03,\n",
                            "               3.18e-01,  3.45e-01, -1.00e+03,  3.98e-01, -1.00e+03, -1.00e+03,\n",
                            "              -1.00e+03, -1.00e+03,  5.51e-01, -1.00e+03, -1.00e+03,  4.65e-01,\n",
                            "              -1.00e+03, -1.00e+03, -1.00e+03, -1.00e+03,  3.96e-01, -1.00e+03,\n",
                            "              -1.00e+03,  6.44e-01,  5.99e-01, -1.00e+03,  6.31e-01,  1.17e-01,\n",
                            "               1.20e-01, -1.00e+03, -1.00e+03,  6.33e-01,  3.20e-02,  2.80e-02,\n",
                            "               7.80e-02, -1.00e+03,  5.00e-02,  2.50e-01,  2.78e-01,  7.45e-01,\n",
                            "              -1.00e+03, -1.00e+03, -1.00e+03,  2.78e-01,  8.18e-01, -1.00e+03,\n",
                            "               9.73e-01, -1.00e+03,  9.67e-01,  7.66e-01, -1.00e+03,  7.60e-02,\n",
                            "              -1.00e+03,  5.61e-01, -1.00e+03,  9.01e-01, -1.00e+03, -1.00e+03,\n",
                            "               3.50e-02, -1.00e+03, -1.00e+03, -1.00e+03, -1.00e+03,  5.48e-01,\n",
                            "               6.80e-02, -1.00e+03, -1.00e+03, -1.00e+03,  4.41e-01,  6.88e-01,\n",
                            "              -1.00e+03,  5.49e-01, -1.00e+03, -1.00e+03,  2.18e-01, -1.00e+03,\n",
                            "               7.73e-01, -1.00e+03, -1.00e+03, -1.00e+03,  3.32e-01, -1.00e+03,\n",
                            "              -1.00e+03,  5.11e-01, -1.00e+03, -1.00e+03, -1.00e+03, -1.00e+03,\n",
                            "              -1.00e+03, -1.00e+03,  2.12e-01,  9.00e-02,  1.79e-01, -1.00e+03,\n",
                            "              -1.00e+03, -1.00e+03, -1.00e+03,  3.47e-01,  3.02e-01,  2.95e-01,\n",
                            "               2.81e-01, -1.00e+03, -1.00e+03,  6.93e-01, -1.00e+03,  2.11e-01,\n",
                            "               3.46e-01, -1.00e+03, -1.00e+03, -1.00e+03,  1.67e-01,  1.67e-01,\n",
                            "              -1.00e+03, -1.00e+03, -1.00e+03,  5.57e-01,  5.31e-01,  2.15e-01,\n",
                            "              -1.00e+03, -1.00e+03,  2.55e-01,  5.82e-01,  6.28e-01, -1.00e+03,\n",
                            "               6.70e-01, -1.00e+03, -1.00e+03, -1.00e+03, -1.00e+03, -1.00e+03,\n",
                            "              -1.00e+03,  1.90e-01,  2.61e-01, -1.00e+03, -1.00e+03, -1.00e+03,\n",
                            "              -1.00e+03, -1.00e+03, -1.00e+03, -1.00e+03, -1.00e+03, -1.00e+03,\n",
                            "              -1.00e+03,  4.20e-01,  5.59e-01, -1.00e+03,  6.04e-01, -1.00e+03,\n",
                            "              -1.00e+03,  5.03e-01, -1.00e+03, -1.00e+03, -1.00e+03, -1.00e+03,\n",
                            "               2.38e-01, -1.00e+03,  4.23e-01,  4.21e-01,  4.47e-01, -1.00e+03,\n",
                            "              -1.00e+03,  2.22e-01,  2.86e-01, -1.00e+03, -1.00e+03, -1.00e+03,\n",
                            "              -1.00e+03,  1.80e-01,  2.91e-01,  3.79e-01,  4.30e-01, -1.00e+03,\n",
                            "              -1.00e+03,  4.12e-01, -1.00e+03, -1.00e+03,  3.86e-01, -1.00e+03,\n",
                            "               7.23e-01,  2.41e-01,  2.12e-01,  5.56e-01, -1.00e+03, -1.00e+03,\n",
                            "               8.53e-01, -1.00e+03,  8.04e-01,  7.77e-01,  7.30e-01, -1.00e+03,\n",
                            "              -1.00e+03, -1.00e+03,  2.36e-01, -1.00e+03,  2.40e-01,  8.98e-01,\n",
                            "              -1.00e+03,  8.58e-01, -1.00e+03, -1.00e+03, -1.00e+03,  4.50e-02,\n",
                            "               5.70e-02, -1.00e+03,  7.72e-01, -1.00e+03, -1.00e+03, -1.00e+03,\n",
                            "              -1.00e+03,  9.64e-01,  3.90e-01,  1.46e-01, -1.00e+03,  3.84e-01,\n",
                            "              -1.00e+03,  2.78e-01, -1.00e+03, -1.00e+03, -1.00e+03, -1.00e+03,\n",
                            "               5.60e-02,  1.07e-01, -1.00e+03, -1.00e+03,  6.20e-02,  2.81e-01,\n",
                            "              -1.00e+03, -1.00e+03, -1.00e+03, -1.00e+03, -1.00e+03, -1.00e+03,\n",
                            "              -1.00e+03, -1.00e+03,  5.23e-01,  2.40e-01,  9.89e-01,  5.17e-01,\n",
                            "               7.40e-02,  4.10e-02,  5.10e-02,  5.50e-02,  4.48e-01, -1.00e+03,\n",
                            "               8.70e-01,  2.24e-01,  3.33e-01, -1.00e+03, -1.00e+03,  9.90e-02,\n",
                            "               2.39e-01, -1.00e+03, -1.00e+03, -1.00e+03,  3.89e-01, -1.00e+03,\n",
                            "               1.00e+00,  5.59e-01, -1.00e+03, -1.00e+03, -1.00e+03,  1.08e-01,\n",
                            "               5.20e-02,  1.07e-01,  5.60e-02, -1.00e+03, -1.00e+03, -1.00e+03,\n",
                            "              -1.00e+03, -1.00e+03,  7.34e-01,  7.23e-01, -1.00e+03,  1.00e+00,\n",
                            "               8.45e-01,  4.98e-01,  8.60e-02,  2.90e-02,  9.50e-02, -1.00e+03,\n",
                            "               6.50e-02,  3.90e-01,  6.90e-02, -1.00e+03,  7.70e-02,  3.50e-02,\n",
                            "               2.87e-01, -1.00e+03,  3.05e-01,  9.10e-02, -1.00e+03, -1.00e+03,\n",
                            "               3.33e-01,  3.56e-01,  1.47e-01,  2.59e-01,  6.27e-01,  7.76e-01,\n",
                            "              -1.00e+03, -1.00e+03, -1.00e+03,  4.44e-01, -1.00e+03, -1.00e+03,\n",
                            "              -1.00e+03,  4.08e-01, -1.00e+03, -1.00e+03, -1.00e+03,  1.20e-01,\n",
                            "              -1.00e+03,  3.09e-01, -1.00e+03,  5.82e-01, -1.00e+03,  2.22e-01,\n",
                            "              -1.00e+03,  2.05e-01,  5.45e-01,  3.69e-01,  2.93e-01,  8.17e-01,\n",
                            "               4.91e-01, -1.00e+03,  6.90e-02,  1.83e-01,  9.20e-02, -1.00e+03,\n",
                            "              -1.00e+03, -1.00e+03,  5.00e-01,  4.98e-01,  6.55e-01,  5.74e-01,\n",
                            "              -1.00e+03, -1.00e+03,  9.49e-01,  7.94e-01,  7.42e-01,  8.67e-01,\n",
                            "              -1.00e+03, -1.00e+03,  1.00e+00, -1.00e+03, -1.00e+03,  2.50e-02,\n",
                            "               9.00e-03,  1.00e-02, -1.00e+03, -1.00e+03, -1.00e+03,  1.18e-01,\n",
                            "              -1.00e+03, -1.00e+03,  7.27e-01, -1.00e+03,  2.76e-01,  2.18e-01,\n",
                            "               3.89e-01,  5.72e-01, -1.00e+03, -1.00e+03, -1.00e+03, -1.00e+03,\n",
                            "               2.82e-01, -1.00e+03, -1.00e+03, -1.00e+03,  2.68e-01,  1.58e-01,\n",
                            "              -1.00e+03, -1.00e+03,  5.90e-02,  2.80e-02,  1.34e-01, -1.00e+03,\n",
                            "              -1.00e+03, -1.00e+03,  3.10e-02,  2.30e-02,  6.30e-02,  1.80e-01,\n",
                            "               5.44e-01,  5.34e-01, -1.00e+03, -1.00e+03,  7.60e-02,  1.30e-01,\n",
                            "              -1.00e+03, -1.00e+03, -1.00e+03,  5.91e-01,  1.55e-01, -1.00e+03,\n",
                            "               5.01e-01,  6.90e-01, -1.00e+03, -1.00e+03,  4.75e-01, -1.00e+03,\n",
                            "               8.21e-01,  2.85e-01, -1.00e+03,  5.14e-01,  6.81e-01, -1.00e+03,\n",
                            "               4.66e-01, -1.00e+03,  6.90e-02,  4.86e-01,  4.26e-01,  8.20e-02,\n",
                            "               1.72e-01, -1.00e+03, -1.00e+03, -1.00e+03,  1.81e-01,  1.50e-02,\n",
                            "               2.12e-01, -1.00e+03,  7.10e-02,  6.60e-02,  2.51e-01,  5.59e-01,\n",
                            "               9.09e-01,  6.67e-01,  5.72e-01,  4.87e-01, -1.00e+03, -1.00e+03,\n",
                            "               6.80e-02,  2.00e-02, -1.00e+03, -1.00e+03,  9.10e-02, -1.00e+03,\n",
                            "               5.08e-01,  6.26e-01,  4.78e-01,  3.72e-01,  5.94e-01, -1.00e+03,\n",
                            "              -1.00e+03,  2.86e-01,  2.10e-01,  3.05e-01, -1.00e+03, -1.00e+03,\n",
                            "               3.67e-01,  5.27e-01,  7.08e-01,  7.18e-01, -1.00e+03,  8.16e-01,\n",
                            "              -1.00e+03,  6.24e-01,  5.63e-01,  5.95e-01, -1.00e+03, -1.00e+03,\n",
                            "              -1.00e+03, -1.00e+03, -1.00e+03,  3.56e-01,  6.27e-01, -1.00e+03,\n",
                            "              -1.00e+03, -1.00e+03, -1.00e+03,  3.85e-01,  9.84e-01, -1.00e+03,\n",
                            "              -1.00e+03, -1.00e+03, -1.00e+03, -1.00e+03, -1.00e+03, -1.00e+03,\n",
                            "              -1.00e+03, -1.00e+03,  8.70e-02, -1.00e+03,  4.24e-01,  4.05e-01,\n",
                            "              -1.00e+03, -1.00e+03, -1.00e+03,  7.64e-01,  6.00e-01, -1.00e+03,\n",
                            "              -1.00e+03, -1.00e+03, -1.00e+03, -1.00e+03, -1.00e+03, -1.00e+03,\n",
                            "              -1.00e+03, -1.00e+03, -1.00e+03, -1.00e+03, -1.00e+03, -1.00e+03,\n",
                            "              -1.00e+03, -1.00e+03, -1.00e+03, -1.00e+03, -1.00e+03, -1.00e+03,\n",
                            "              -1.00e+03, -1.00e+03, -1.00e+03, -1.00e+03, -1.00e+03, -1.00e+03,\n",
                            "              -1.00e+03, -1.00e+03, -1.00e+03, -1.00e+03, -1.00e+03, -1.00e+03,\n",
                            "              -1.00e+03, -1.00e+03, -1.00e+03, -1.00e+03, -1.00e+03, -1.00e+03,\n",
                            "              -1.00e+03, -1.00e+03, -1.00e+03, -1.00e+03, -1.00e+03, -1.00e+03,\n",
                            "              -1.00e+03, -1.00e+03, -1.00e+03, -1.00e+03, -1.00e+03, -1.00e+03,\n",
                            "              -1.00e+03, -1.00e+03, -1.00e+03, -1.00e+03, -1.00e+03, -1.00e+03,\n",
                            "              -1.00e+03, -1.00e+03], dtype=float32)                            ,\n",
                            "       array([-1.00e+03, -1.00e+03, -1.00e+03,  1.98e-01, -1.00e+03, -1.00e+03,\n",
                            "               1.00e+00, -1.00e+03,  8.70e-02, -1.00e+03, -1.00e+03, -1.00e+03,\n",
                            "               1.27e-01,  6.20e-02, -1.00e+03,  1.00e+00, -1.00e+03, -1.00e+03,\n",
                            "              -1.00e+03,  2.15e-01, -1.00e+03, -1.00e+03, -1.00e+03, -1.00e+03,\n",
                            "               3.25e-01, -1.00e+03, -1.00e+03,  7.94e-01,  7.20e-02, -1.00e+03,\n",
                            "               7.74e-01, -1.00e+03, -1.00e+03,  5.55e-01,  5.70e-01, -1.00e+03,\n",
                            "               6.44e-01,  9.84e-01, -1.00e+03,  5.10e-01, -1.00e+03,  9.44e-01,\n",
                            "               9.18e-01,  6.55e-01,  2.37e-01, -1.00e+03,  1.09e-01,  6.36e-01,\n",
                            "               9.35e-01,  7.07e-01,  5.90e-01,  1.50e-01,  4.70e-02, -1.00e+03,\n",
                            "               4.23e-01, -1.00e+03, -1.00e+03,  6.60e-02,  5.30e-01,  3.76e-01,\n",
                            "               2.33e-01,  3.33e-01, -1.00e+03,  2.17e-01,  3.30e-01, -1.00e+03,\n",
                            "              -1.00e+03, -1.00e+03,  3.42e-01, -1.00e+03, -1.00e+03,  4.99e-01,\n",
                            "               7.71e-01,  1.98e-01,  1.02e-01,  1.29e-01, -1.00e+03,  2.18e-01,\n",
                            "              -1.00e+03, -1.00e+03,  1.43e-01,  7.60e-02,  1.42e-01,  5.03e-01,\n",
                            "              -1.00e+03, -1.00e+03, -1.00e+03,  2.83e-01,  1.08e-01, -1.00e+03,\n",
                            "              -1.00e+03,  7.90e-02, -1.00e+03,  5.32e-01,  4.71e-01,  1.42e-01,\n",
                            "              -1.00e+03, -1.00e+03,  1.73e-01, -1.00e+03,  2.47e-01, -1.00e+03,\n",
                            "               3.15e-01,  3.50e-02,  6.30e-02,  9.10e-02, -1.00e+03, -1.00e+03,\n",
                            "               9.20e-02,  1.41e-01, -1.00e+03, -1.00e+03, -1.00e+03,  6.11e-01,\n",
                            "               6.70e-01, -1.00e+03,  3.53e-01, -1.00e+03, -1.00e+03,  6.72e-01,\n",
                            "               1.00e+00,  7.04e-01,  5.46e-01, -1.00e+03, -1.00e+03, -1.00e+03,\n",
                            "               3.50e-01, -1.00e+03, -1.00e+03,  6.77e-01, -1.00e+03,  1.55e-01,\n",
                            "               3.69e-01, -1.00e+03,  6.53e-01, -1.00e+03,  3.37e-01,  1.51e-01,\n",
                            "               4.92e-01,  5.49e-01, -1.00e+03,  8.30e-01, -1.00e+03,  7.56e-01,\n",
                            "               5.55e-01, -1.00e+03,  3.44e-01,  5.47e-01, -1.00e+03,  1.68e-01,\n",
                            "               6.70e-02,  2.20e-01,  3.54e-01, -1.00e+03,  5.03e-01, -1.00e+03,\n",
                            "              -1.00e+03,  2.33e-01, -1.00e+03,  3.79e-01,  1.87e-01,  9.40e-02,\n",
                            "               6.20e-02,  2.61e-01, -1.00e+03,  7.34e-01, -1.00e+03,  3.12e-01,\n",
                            "              -1.00e+03, -1.00e+03,  1.24e-01,  4.70e-01, -1.00e+03, -1.00e+03,\n",
                            "               2.53e-01,  2.09e-01,  4.97e-01,  3.76e-01,  4.86e-01, -1.00e+03,\n",
                            "              -1.00e+03,  2.82e-01,  1.11e-01, -1.00e+03, -1.00e+03, -1.00e+03,\n",
                            "               4.18e-01,  4.47e-01,  8.49e-01,  9.34e-01, -1.00e+03, -1.00e+03,\n",
                            "              -1.00e+03, -1.00e+03,  6.50e-02, -1.00e+03,  3.65e-01,  6.47e-01,\n",
                            "               5.57e-01, -1.00e+03, -1.00e+03, -1.00e+03, -1.00e+03, -1.00e+03,\n",
                            "               4.40e-01, -1.00e+03,  6.77e-01, -1.00e+03, -1.00e+03,  1.33e-01,\n",
                            "               1.40e-01,  1.82e-01,  8.80e-02,  2.23e-01, -1.00e+03, -1.00e+03,\n",
                            "               3.21e-01, -1.00e+03, -1.00e+03,  5.26e-01,  6.47e-01, -1.00e+03,\n",
                            "               8.07e-01, -1.00e+03,  5.89e-01,  4.70e-01,  1.88e-01,  4.41e-01,\n",
                            "              -1.00e+03,  2.06e-01, -1.00e+03,  1.74e-01,  1.58e-01,  5.22e-01,\n",
                            "               1.61e-01,  1.38e-01, -1.00e+03, -1.00e+03,  2.05e-01,  2.08e-01,\n",
                            "               2.86e-01,  1.43e-01,  3.01e-01, -1.00e+03,  2.03e-01, -1.00e+03,\n",
                            "               1.93e-01,  1.22e-01, -1.00e+03, -1.00e+03,  3.04e-01,  5.36e-01,\n",
                            "              -1.00e+03, -1.00e+03, -1.00e+03,  5.14e-01, -1.00e+03, -1.00e+03,\n",
                            "              -1.00e+03, -1.00e+03, -1.00e+03, -1.00e+03,  2.17e-01,  2.39e-01,\n",
                            "              -1.00e+03,  8.08e-01,  4.48e-01,  7.08e-01,  5.28e-01,  7.79e-01,\n",
                            "              -1.00e+03,  3.88e-01, -1.00e+03, -1.00e+03, -1.00e+03,  2.77e-01,\n",
                            "               5.46e-01, -1.00e+03,  6.49e-01, -1.00e+03,  2.82e-01, -1.00e+03,\n",
                            "              -1.00e+03, -1.00e+03, -1.00e+03,  3.86e-01,  4.62e-01, -1.00e+03,\n",
                            "              -1.00e+03, -1.00e+03,  3.91e-01, -1.00e+03, -1.00e+03,  8.92e-01,\n",
                            "               3.87e-01,  7.60e-02,  1.05e-01,  1.46e-01, -1.00e+03,  1.66e-01,\n",
                            "               2.04e-01, -1.00e+03,  2.79e-01,  1.45e-01,  5.42e-01,  7.97e-01,\n",
                            "               5.07e-01,  3.40e-01, -1.00e+03, -1.00e+03,  2.60e-01,  4.10e-01,\n",
                            "               2.82e-01,  1.95e-01,  1.67e-01, -1.00e+03,  1.10e-01,  7.90e-02,\n",
                            "               5.90e-02,  4.51e-01,  8.54e-01, -1.00e+03,  6.39e-01, -1.00e+03,\n",
                            "              -1.00e+03,  7.60e-02, -1.00e+03,  4.11e-01,  1.48e-01,  3.17e-01,\n",
                            "              -1.00e+03,  1.11e-01,  9.50e-02, -1.00e+03, -1.00e+03,  2.39e-01,\n",
                            "               7.67e-01,  1.80e-01,  1.24e-01, -1.00e+03,  1.14e-01,  1.56e-01,\n",
                            "              -1.00e+03, -1.00e+03,  5.45e-01,  6.97e-01,  8.86e-01,  3.53e-01,\n",
                            "               5.86e-01,  3.08e-01,  4.23e-01,  3.56e-01,  1.46e-01,  1.41e-01,\n",
                            "              -1.00e+03, -1.00e+03, -1.00e+03, -1.00e+03, -1.00e+03, -1.00e+03,\n",
                            "               1.61e-01,  6.39e-01, -1.00e+03,  1.42e-01, -1.00e+03,  4.16e-01,\n",
                            "              -1.00e+03,  2.49e-01, -1.00e+03, -1.00e+03,  3.02e-01,  3.37e-01,\n",
                            "               6.32e-01, -1.00e+03,  1.56e-01,  1.90e-02,  5.70e-02,  1.90e-02,\n",
                            "              -1.00e+03,  6.40e-01, -1.00e+03,  6.89e-01,  2.38e-01,  1.84e-01,\n",
                            "              -1.00e+03, -1.00e+03,  1.08e-01,  4.50e-01, -1.00e+03, -1.00e+03,\n",
                            "              -1.00e+03, -1.00e+03,  1.19e-01, -1.00e+03, -1.00e+03,  3.50e-02,\n",
                            "              -1.00e+03, -1.00e+03, -1.00e+03, -1.00e+03,  4.75e-01,  7.41e-01,\n",
                            "               6.29e-01, -1.00e+03, -1.00e+03, -1.00e+03, -1.00e+03,  1.22e-01,\n",
                            "              -1.00e+03, -1.00e+03,  1.67e-01, -1.00e+03,  4.52e-01,  2.83e-01,\n",
                            "              -1.00e+03,  3.75e-01,  7.72e-01,  7.35e-01, -1.00e+03, -1.00e+03,\n",
                            "              -1.00e+03, -1.00e+03,  1.82e-01, -1.00e+03,  5.86e-01,  2.89e-01,\n",
                            "               2.18e-01,  8.10e-01, -1.00e+03,  3.79e-01,  2.95e-01, -1.00e+03,\n",
                            "              -1.00e+03,  4.06e-01, -1.00e+03, -1.00e+03, -1.00e+03,  6.81e-01,\n",
                            "               2.15e-01, -1.00e+03, -1.00e+03, -1.00e+03, -1.00e+03, -1.00e+03,\n",
                            "              -1.00e+03,  4.95e-01,  1.00e+00,  7.25e-01,  1.00e+00,  9.38e-01,\n",
                            "               7.65e-01, -1.00e+03, -1.00e+03, -1.00e+03, -1.00e+03,  0.00e+00,\n",
                            "               4.60e-02,  0.00e+00,  0.00e+00,  0.00e+00, -1.00e+03, -1.00e+03,\n",
                            "               1.71e-01, -1.00e+03, -1.00e+03,  9.08e-01,  5.09e-01, -1.00e+03,\n",
                            "               6.00e-03, -1.00e+03, -1.00e+03, -1.00e+03, -1.00e+03,  3.42e-01,\n",
                            "              -1.00e+03,  4.00e-02,  3.00e-02,  1.90e-02,  3.70e-02,  3.80e-01,\n",
                            "              -1.00e+03,  6.07e-01,  6.89e-01,  8.12e-01,  6.86e-01,  3.43e-01,\n",
                            "              -1.00e+03,  9.70e-02,  1.54e-01,  1.38e-01,  4.60e-01, -1.00e+03,\n",
                            "               1.20e-02,  0.00e+00,  2.40e-02,  1.17e-01, -1.00e+03, -1.00e+03,\n",
                            "              -1.00e+03, -1.00e+03,  2.50e-02,  6.20e-02, -1.00e+03, -1.00e+03,\n",
                            "               2.05e-01,  4.82e-01, -1.00e+03, -1.00e+03,  7.90e-02,  5.20e-02,\n",
                            "               1.82e-01, -1.00e+03,  1.16e-01, -1.00e+03,  1.69e-01, -1.00e+03,\n",
                            "              -1.00e+03, -1.00e+03,  2.38e-01,  4.60e-02, -1.00e+03, -1.00e+03,\n",
                            "              -1.00e+03, -1.00e+03,  1.10e-01,  9.80e-02,  2.06e-01,  6.99e-01,\n",
                            "              -1.00e+03,  3.03e-01, -1.00e+03, -1.00e+03,  8.90e-02,  1.05e-01,\n",
                            "              -1.00e+03, -1.00e+03,  2.31e-01,  1.31e-01, -1.00e+03,  2.11e-01,\n",
                            "               1.47e-01,  7.26e-01, -1.00e+03,  1.25e-01, -1.00e+03, -1.00e+03,\n",
                            "               8.95e-01,  9.49e-01,  9.18e-01, -1.00e+03, -1.00e+03,  1.43e-01,\n",
                            "              -1.00e+03, -1.00e+03,  1.34e-01,  7.26e-01,  6.40e-02, -1.00e+03,\n",
                            "              -1.00e+03,  2.60e-02,  1.40e-02,  4.50e-02, -1.00e+03, -1.00e+03,\n",
                            "               5.02e-01,  5.77e-01,  9.13e-01, -1.00e+03, -1.00e+03, -1.00e+03,\n",
                            "               5.65e-01, -1.00e+03, -1.00e+03,  1.00e+00, -1.00e+03, -1.00e+03,\n",
                            "               1.00e+00,  8.33e-01, -1.00e+03, -1.00e+03, -1.00e+03,  1.57e-01,\n",
                            "              -1.00e+03, -1.00e+03, -1.00e+03, -1.00e+03,  2.10e-02,  2.92e-01,\n",
                            "               1.07e-01,  1.90e-01,  1.16e-01, -1.00e+03, -1.00e+03,  6.81e-01,\n",
                            "              -1.00e+03, -1.00e+03,  3.00e-02,  1.80e-02, -1.00e+03, -1.00e+03,\n",
                            "              -1.00e+03, -1.00e+03, -1.00e+03, -1.00e+03, -1.00e+03, -1.00e+03,\n",
                            "               2.39e-01,  2.64e-01, -1.00e+03, -1.00e+03, -1.00e+03, -1.00e+03,\n",
                            "               5.65e-01,  3.10e-02,  0.00e+00,  0.00e+00,  1.73e-01, -1.00e+03,\n",
                            "              -1.00e+03,  2.90e-02,  1.50e-02, -1.00e+03, -1.00e+03, -1.00e+03,\n",
                            "              -1.00e+03,  7.26e-01,  1.00e+00,  1.00e+00, -1.00e+03,  1.00e+00,\n",
                            "               9.00e-03,  2.20e-02,  1.30e-02, -1.00e+03,  1.10e-02,  9.00e-03,\n",
                            "               5.20e-02, -1.00e+03, -1.00e+03,  9.70e-01,  5.88e-01,  6.40e-01,\n",
                            "              -1.00e+03,  3.10e-02,  3.00e-02, -1.00e+03, -1.00e+03, -1.00e+03,\n",
                            "              -1.00e+03, -1.00e+03, -1.00e+03, -1.00e+03, -1.00e+03,  6.80e-02,\n",
                            "              -1.00e+03,  5.60e-02,  5.10e-02,  6.76e-01,  9.39e-01,  9.50e-01,\n",
                            "               3.19e-01, -1.00e+03,  8.42e-01,  7.00e-02, -1.00e+03,  1.34e-01,\n",
                            "              -1.00e+03, -1.00e+03, -1.00e+03, -1.00e+03, -1.00e+03,  1.50e-02,\n",
                            "               6.00e-03, -1.00e+03, -1.00e+03, -1.00e+03, -1.00e+03,  2.56e-01,\n",
                            "              -1.00e+03, -1.00e+03,  4.95e-01,  6.02e-01,  5.57e-01,  8.07e-01,\n",
                            "              -1.00e+03,  8.60e-02, -1.00e+03,  1.61e-01,  3.57e-01, -1.00e+03,\n",
                            "               6.67e-01,  6.25e-01, -1.00e+03,  1.84e-01,  2.87e-01,  1.96e-01,\n",
                            "              -1.00e+03,  6.66e-01, -1.00e+03, -1.00e+03,  3.50e-02, -1.00e+03,\n",
                            "              -1.00e+03, -1.00e+03, -1.00e+03, -1.00e+03, -1.00e+03, -1.00e+03,\n",
                            "              -1.00e+03, -1.00e+03,  1.00e+00, -1.00e+03, -1.00e+03, -1.00e+03,\n",
                            "              -1.00e+03,  4.50e-02, -1.00e+03,  3.61e-01,  5.01e-01, -1.00e+03,\n",
                            "              -1.00e+03, -1.00e+03, -1.00e+03,  5.14e-01,  7.46e-01,  7.26e-01,\n",
                            "               6.00e-01, -1.00e+03, -1.00e+03, -1.00e+03, -1.00e+03,  4.90e-02,\n",
                            "              -1.00e+03, -1.00e+03, -1.00e+03,  2.24e-01,  1.56e-01,  2.67e-01,\n",
                            "              -1.00e+03,  8.54e-01,  4.19e-01,  5.17e-01,  4.25e-01, -1.00e+03,\n",
                            "               2.00e-01,  6.53e-01,  7.78e-01,  8.07e-01,  9.37e-01,  7.51e-01,\n",
                            "              -1.00e+03, -1.00e+03, -1.00e+03,  2.94e-01, -1.00e+03,  2.66e-01,\n",
                            "               3.87e-01, -1.00e+03, -1.00e+03, -1.00e+03, -1.00e+03, -1.00e+03,\n",
                            "              -1.00e+03, -1.00e+03, -1.00e+03, -1.00e+03, -1.00e+03, -1.00e+03,\n",
                            "              -1.00e+03, -1.00e+03, -1.00e+03, -1.00e+03, -1.00e+03, -1.00e+03,\n",
                            "              -1.00e+03, -1.00e+03, -1.00e+03, -1.00e+03, -1.00e+03, -1.00e+03,\n",
                            "              -1.00e+03, -1.00e+03, -1.00e+03, -1.00e+03, -1.00e+03, -1.00e+03,\n",
                            "              -1.00e+03, -1.00e+03, -1.00e+03, -1.00e+03, -1.00e+03, -1.00e+03,\n",
                            "              -1.00e+03, -1.00e+03, -1.00e+03, -1.00e+03, -1.00e+03, -1.00e+03,\n",
                            "              -1.00e+03, -1.00e+03, -1.00e+03, -1.00e+03, -1.00e+03, -1.00e+03,\n",
                            "              -1.00e+03, -1.00e+03, -1.00e+03, -1.00e+03, -1.00e+03, -1.00e+03,\n",
                            "              -1.00e+03, -1.00e+03, -1.00e+03, -1.00e+03, -1.00e+03, -1.00e+03,\n",
                            "              -1.00e+03, -1.00e+03], dtype=float32)                            ,\n",
                            "       array([-1.00e+03, -1.00e+03, -1.00e+03,  2.31e-01, -1.00e+03, -1.00e+03,\n",
                            "               2.80e-01,  2.58e-01,  2.48e-01,  2.45e-01,  3.71e-01,  7.10e-01,\n",
                            "               4.01e-01, -1.00e+03, -1.00e+03, -1.00e+03, -1.00e+03,  5.91e-01,\n",
                            "               4.65e-01, -1.00e+03,  3.41e-01, -1.00e+03,  6.50e-02, -1.00e+03,\n",
                            "              -1.00e+03,  3.57e-01,  2.21e-01, -1.00e+03,  4.17e-01, -1.00e+03,\n",
                            "              -1.00e+03, -1.00e+03,  4.10e-01, -1.00e+03,  1.63e-01,  2.07e-01,\n",
                            "              -1.00e+03,  6.75e-01, -1.00e+03, -1.00e+03,  3.35e-01,  1.34e-01,\n",
                            "               1.35e-01,  1.28e-01, -1.00e+03, -1.00e+03, -1.00e+03, -1.00e+03,\n",
                            "               5.20e-01, -1.00e+03, -1.00e+03, -1.00e+03, -1.00e+03, -1.00e+03,\n",
                            "               1.42e-01,  7.70e-02,  3.10e-01, -1.00e+03,  6.40e-01, -1.00e+03,\n",
                            "               7.20e-01, -1.00e+03, -1.00e+03,  1.77e-01, -1.00e+03,  2.08e-01,\n",
                            "               4.30e-02,  5.00e-02,  2.67e-01,  3.85e-01, -1.00e+03, -1.00e+03,\n",
                            "               3.27e-01,  5.81e-01,  4.99e-01,  6.67e-01,  8.14e-01,  1.89e-01,\n",
                            "              -1.00e+03, -1.00e+03, -1.00e+03,  2.07e-01,  3.03e-01,  5.15e-01,\n",
                            "              -1.00e+03, -1.00e+03,  7.69e-01,  7.86e-01, -1.00e+03, -1.00e+03,\n",
                            "              -1.00e+03, -1.00e+03,  5.30e-02,  3.10e-02,  9.40e-02, -1.00e+03,\n",
                            "               6.20e-01, -1.00e+03,  8.93e-01, -1.00e+03,  4.03e-01, -1.00e+03,\n",
                            "              -1.00e+03, -1.00e+03,  4.98e-01,  5.21e-01, -1.00e+03,  1.00e+00,\n",
                            "               7.13e-01,  9.40e-02, -1.00e+03, -1.00e+03, -1.00e+03,  1.14e-01,\n",
                            "               1.91e-01, -1.00e+03,  9.64e-01, -1.00e+03,  7.50e-02, -1.00e+03,\n",
                            "               1.66e-01,  4.20e-02,  5.55e-01,  5.18e-01, -1.00e+03, -1.00e+03,\n",
                            "              -1.00e+03,  8.80e-02, -1.00e+03,  5.40e-02,  3.10e-01, -1.00e+03,\n",
                            "              -1.00e+03,  4.49e-01, -1.00e+03,  5.60e-01,  6.87e-01, -1.00e+03,\n",
                            "               9.23e-01,  3.19e-01,  1.00e-01,  2.93e-01,  8.10e-02,  4.90e-02,\n",
                            "               8.00e-02,  4.51e-01,  2.75e-01, -1.00e+03,  1.80e-01,  4.84e-01,\n",
                            "              -1.00e+03, -1.00e+03, -1.00e+03,  4.94e-01,  5.50e-02, -1.00e+03,\n",
                            "              -1.00e+03,  4.80e-02,  6.10e-02,  1.87e-01, -1.00e+03,  8.31e-01,\n",
                            "               7.85e-01,  8.93e-01,  7.96e-01, -1.00e+03,  6.80e-01,  1.27e-01,\n",
                            "               1.90e-02,  2.40e-02, -1.00e+03,  2.50e-01, -1.00e+03, -1.00e+03,\n",
                            "              -1.00e+03, -1.00e+03, -1.00e+03,  2.09e-01,  5.50e-02, -1.00e+03,\n",
                            "               8.34e-01, -1.00e+03, -1.00e+03, -1.00e+03, -1.00e+03,  2.00e-02,\n",
                            "               3.30e-02,  2.52e-01, -1.00e+03, -1.00e+03,  7.37e-01, -1.00e+03,\n",
                            "              -1.00e+03, -1.00e+03,  2.50e-02,  8.00e-03,  1.20e-02,  4.60e-02,\n",
                            "              -1.00e+03,  8.30e-02, -1.00e+03,  2.35e-01,  2.31e-01, -1.00e+03,\n",
                            "               5.00e-02,  5.40e-02,  5.00e-01,  8.27e-01,  2.34e-01, -1.00e+03,\n",
                            "               4.90e-01,  3.22e-01, -1.00e+03,  3.10e-02,  3.70e-02,  6.00e-02,\n",
                            "              -1.00e+03, -1.00e+03, -1.00e+03, -1.00e+03, -1.00e+03, -1.00e+03,\n",
                            "              -1.00e+03, -1.00e+03,  9.28e-01,  1.02e-01, -1.00e+03, -1.00e+03,\n",
                            "              -1.00e+03,  3.50e-02, -1.00e+03,  8.31e-01,  4.78e-01, -1.00e+03,\n",
                            "               6.35e-01, -1.00e+03,  4.76e-01,  2.55e-01,  3.49e-01,  7.41e-01,\n",
                            "              -1.00e+03, -1.00e+03, -1.00e+03, -1.00e+03, -1.00e+03, -1.00e+03,\n",
                            "               2.80e-02, -1.00e+03, -1.00e+03, -1.00e+03,  5.79e-01, -1.00e+03,\n",
                            "              -1.00e+03, -1.00e+03, -1.00e+03, -1.00e+03, -1.00e+03,  7.40e-02,\n",
                            "               4.79e-01, -1.00e+03,  1.86e-01, -1.00e+03, -1.00e+03, -1.00e+03,\n",
                            "              -1.00e+03,  7.83e-01,  1.96e-01, -1.00e+03,  1.55e-01, -1.00e+03,\n",
                            "              -1.00e+03, -1.00e+03,  3.29e-01,  2.54e-01, -1.00e+03,  3.27e-01,\n",
                            "              -1.00e+03, -1.00e+03,  1.25e-01, -1.00e+03, -1.00e+03, -1.00e+03],\n",
                            "             dtype=float32)                                                     ,\n",
                            "       ...,\n",
                            "       array([-1.00e+03, -1.00e+03, -1.00e+03,  1.41e-01,  1.09e-01, -1.00e+03,\n",
                            "               1.04e-01,  1.07e-01, -1.00e+03, -1.00e+03, -1.00e+03,  6.80e-02,\n",
                            "              -1.00e+03, -1.00e+03,  1.12e-01,  7.30e-02, -1.00e+03,  6.30e-02,\n",
                            "              -1.00e+03, -1.00e+03,  7.60e-02, -1.00e+03, -1.00e+03, -1.00e+03,\n",
                            "               9.60e-02, -1.00e+03,  9.60e-02, -1.00e+03, -1.00e+03,  1.41e-01,\n",
                            "              -1.00e+03, -1.00e+03,  8.90e-02, -1.00e+03, -1.00e+03,  7.40e-02,\n",
                            "              -1.00e+03, -1.00e+03,  1.88e-01, -1.00e+03, -1.00e+03,  4.00e-02,\n",
                            "              -1.00e+03, -1.00e+03, -1.00e+03,  1.03e-01,  6.80e-02,  1.45e-01,\n",
                            "               1.93e-01,  1.24e-01,  2.30e-02,  1.40e-02, -1.00e+03, -1.00e+03,\n",
                            "              -1.00e+03, -1.00e+03, -1.00e+03,  1.74e-01, -1.00e+03,  2.25e-01,\n",
                            "               1.23e-01, -1.00e+03, -1.00e+03,  1.06e-01,  2.27e-01,  2.16e-01,\n",
                            "               2.13e-01, -1.00e+03,  4.50e-02,  2.80e-02, -1.00e+03, -1.00e+03,\n",
                            "               4.20e-02,  1.18e-01,  1.61e-01,  2.85e-01,  1.31e-01,  2.25e-01,\n",
                            "               6.90e-02,  5.60e-02, -1.00e+03,  4.20e-02, -1.00e+03, -1.00e+03,\n",
                            "               1.31e-01,  6.10e-02, -1.00e+03, -1.00e+03,  1.91e-01, -1.00e+03,\n",
                            "               4.80e-02, -1.00e+03,  3.30e-02, -1.00e+03, -1.00e+03,  3.00e-02,\n",
                            "               2.10e-02, -1.00e+03, -1.00e+03,  3.40e-02,  2.00e-02, -1.00e+03,\n",
                            "               2.10e-02,  1.79e-01,  5.60e-02,  5.50e-02, -1.00e+03,  1.89e-01,\n",
                            "               4.80e-02, -1.00e+03, -1.00e+03,  4.50e-02,  1.35e-01,  1.10e-01,\n",
                            "               1.33e-01, -1.00e+03,  1.25e-01, -1.00e+03,  8.90e-02, -1.00e+03,\n",
                            "               1.07e-01,  1.66e-01,  1.01e-01, -1.00e+03,  3.90e-02, -1.00e+03,\n",
                            "               1.62e-01,  3.30e-02,  2.50e-02,  1.08e-01,  5.20e-02, -1.00e+03,\n",
                            "              -1.00e+03, -1.00e+03, -1.00e+03,  7.20e-02, -1.00e+03,  3.86e-01,\n",
                            "              -1.00e+03, -1.00e+03, -1.00e+03, -1.00e+03, -1.00e+03, -1.00e+03,\n",
                            "              -1.00e+03, -1.00e+03, -1.00e+03, -1.00e+03, -1.00e+03,  5.10e-02,\n",
                            "              -1.00e+03,  1.08e-01,  1.41e-01,  7.00e-02,  1.26e-01,  8.80e-02,\n",
                            "              -1.00e+03,  1.17e-01,  1.54e-01,  1.53e-01, -1.00e+03, -1.00e+03,\n",
                            "              -1.00e+03, -1.00e+03, -1.00e+03, -1.00e+03,  7.80e-02, -1.00e+03,\n",
                            "              -1.00e+03,  1.29e-01, -1.00e+03, -1.00e+03, -1.00e+03,  1.23e-01,\n",
                            "               1.22e-01, -1.00e+03,  1.40e-01,  1.35e-01,  1.83e-01,  1.85e-01,\n",
                            "               1.81e-01, -1.00e+03, -1.00e+03,  1.70e-01,  5.60e-02, -1.00e+03,\n",
                            "               3.10e-02, -1.00e+03,  7.50e-02, -1.00e+03,  4.70e-02, -1.00e+03,\n",
                            "               6.30e-02, -1.00e+03, -1.00e+03, -1.00e+03, -1.00e+03, -1.00e+03,\n",
                            "              -1.00e+03,  2.10e-02, -1.00e+03, -1.00e+03,  1.30e-02,  1.60e-02,\n",
                            "               4.90e-02, -1.00e+03, -1.00e+03, -1.00e+03, -1.00e+03,  4.80e-02,\n",
                            "              -1.00e+03,  3.61e-01, -1.00e+03, -1.00e+03, -1.00e+03, -1.00e+03,\n",
                            "               9.00e-02, -1.00e+03, -1.00e+03, -1.00e+03,  1.10e-01,  1.00e-01,\n",
                            "               2.68e-01, -1.00e+03, -1.00e+03, -1.00e+03, -1.00e+03,  1.57e-01,\n",
                            "               9.10e-02,  1.37e-01,  1.12e-01,  6.10e-02, -1.00e+03,  1.70e-02,\n",
                            "               1.70e-02,  1.30e-02,  2.60e-02,  6.30e-02,  9.90e-02, -1.00e+03,\n",
                            "              -1.00e+03, -1.00e+03,  9.60e-02, -1.00e+03,  5.90e-02,  6.30e-02,\n",
                            "              -1.00e+03, -1.00e+03, -1.00e+03, -1.00e+03,  1.19e-01, -1.00e+03,\n",
                            "              -1.00e+03, -1.00e+03,  4.10e-02, -1.00e+03, -1.00e+03,  1.04e-01,\n",
                            "              -1.00e+03,  3.80e-02,  7.00e-02, -1.00e+03, -1.00e+03,  7.90e-02,\n",
                            "              -1.00e+03,  8.60e-02,  1.39e-01,  9.70e-02, -1.00e+03,  2.90e-02,\n",
                            "               3.40e-02,  8.00e-03,  4.00e-02, -1.00e+03,  1.33e-01,  1.12e-01,\n",
                            "              -1.00e+03,  1.06e-01,  1.14e-01,  1.24e-01,  1.95e-01, -1.00e+03,\n",
                            "               8.40e-02, -1.00e+03, -1.00e+03,  1.23e-01,  8.00e-02,  1.25e-01,\n",
                            "              -1.00e+03, -1.00e+03,  1.61e-01, -1.00e+03, -1.00e+03,  8.53e-01,\n",
                            "               5.04e-01, -1.00e+03, -1.00e+03, -1.00e+03, -1.00e+03, -1.00e+03,\n",
                            "              -1.00e+03, -1.00e+03, -1.00e+03, -1.00e+03, -1.00e+03, -1.00e+03,\n",
                            "              -1.00e+03, -1.00e+03], dtype=float32)                            ,\n",
                            "       array([-1.00e+03, -1.00e+03, -1.00e+03,  9.40e-02,  5.30e-02,  8.20e-02,\n",
                            "               7.10e-02, -1.00e+03, -1.00e+03,  7.00e-02, -1.00e+03, -1.00e+03,\n",
                            "               9.50e-02,  7.20e-02, -1.00e+03,  5.40e-02, -1.00e+03,  3.60e-02,\n",
                            "               9.30e-02,  8.30e-02,  6.90e-02,  9.00e-02,  6.50e-02, -1.00e+03,\n",
                            "               7.00e-02, -1.00e+03, -1.00e+03,  3.00e-02,  2.40e-02,  5.30e-02,\n",
                            "               3.90e-02,  3.90e-02,  7.00e-02,  9.00e-02, -1.00e+03,  7.30e-02,\n",
                            "               3.40e-02, -1.00e+03,  8.30e-02, -1.00e+03,  5.30e-02,  9.00e-03,\n",
                            "              -1.00e+03,  2.50e-02, -1.00e+03,  1.60e-02, -1.00e+03, -1.00e+03,\n",
                            "              -1.00e+03, -1.00e+03, -1.00e+03,  1.28e-01,  4.30e-02,  1.30e-02,\n",
                            "               5.20e-02, -1.00e+03,  9.30e-02, -1.00e+03, -1.00e+03, -1.00e+03,\n",
                            "               6.10e-02, -1.00e+03,  1.10e-02, -1.00e+03, -1.00e+03,  8.80e-02,\n",
                            "              -1.00e+03, -1.00e+03,  1.38e-01, -1.00e+03,  1.44e-01,  1.49e-01,\n",
                            "              -1.00e+03,  1.08e-01, -1.00e+03,  4.20e-02, -1.00e+03, -1.00e+03,\n",
                            "              -1.00e+03, -1.00e+03, -1.00e+03, -1.00e+03,  3.60e-02, -1.00e+03,\n",
                            "               1.80e-02,  5.10e-02,  8.00e-02,  7.80e-02, -1.00e+03,  1.08e-01,\n",
                            "              -1.00e+03, -1.00e+03, -1.00e+03,  1.08e-01, -1.00e+03,  9.40e-02,\n",
                            "               3.90e-02,  7.50e-02,  2.40e-02,  6.30e-02, -1.00e+03, -1.00e+03,\n",
                            "              -1.00e+03, -1.00e+03,  1.12e-01, -1.00e+03, -1.00e+03,  1.40e-02,\n",
                            "               1.20e-02,  2.10e-02,  5.30e-02, -1.00e+03, -1.00e+03,  1.21e-01,\n",
                            "               1.44e-01,  1.82e-01, -1.00e+03,  1.72e-01,  1.53e-01,  1.66e-01,\n",
                            "              -1.00e+03, -1.00e+03, -1.00e+03, -1.00e+03,  2.12e-01, -1.00e+03,\n",
                            "               9.20e-02, -1.00e+03,  1.30e-01,  5.00e-02, -1.00e+03, -1.00e+03,\n",
                            "              -1.00e+03, -1.00e+03, -1.00e+03, -1.00e+03,  3.00e-03, -1.00e+03,\n",
                            "               8.00e-03, -1.00e+03, -1.00e+03, -1.00e+03, -1.00e+03, -1.00e+03,\n",
                            "               1.50e-01, -1.00e+03,  1.29e-01,  1.07e-01,  5.30e-02,  3.70e-02,\n",
                            "               1.15e-01,  1.43e-01, -1.00e+03,  1.97e-01, -1.00e+03,  1.66e-01,\n",
                            "               5.10e-02, -1.00e+03,  5.30e-02,  5.50e-02,  7.60e-02,  8.00e-02,\n",
                            "              -1.00e+03, -1.00e+03,  8.40e-02,  2.03e-01,  2.42e-01,  9.30e-02,\n",
                            "               1.23e-01, -1.00e+03, -1.00e+03, -1.00e+03, -1.00e+03, -1.00e+03,\n",
                            "              -1.00e+03,  1.51e-01,  2.40e-02,  7.30e-02,  4.50e-02,  1.90e-02,\n",
                            "               8.40e-02, -1.00e+03, -1.00e+03, -1.00e+03,  4.50e-02, -1.00e+03,\n",
                            "               6.30e-02, -1.00e+03, -1.00e+03,  8.00e-02, -1.00e+03,  1.17e-01,\n",
                            "              -1.00e+03, -1.00e+03, -1.00e+03,  1.67e-01, -1.00e+03,  1.93e-01,\n",
                            "               1.72e-01,  1.53e-01,  2.04e-01,  1.76e-01,  2.61e-01, -1.00e+03,\n",
                            "              -1.00e+03, -1.00e+03,  1.06e-01, -1.00e+03, -1.00e+03,  1.70e-02,\n",
                            "               2.40e-02,  1.30e-02,  9.20e-02, -1.00e+03, -1.00e+03,  6.70e-02,\n",
                            "               2.08e-01,  2.61e-01,  4.40e-02,  9.00e-02, -1.00e+03, -1.00e+03,\n",
                            "              -1.00e+03, -1.00e+03, -1.00e+03, -1.00e+03, -1.00e+03, -1.00e+03,\n",
                            "               2.30e-02,  1.80e-02,  1.03e-01,  1.39e-01, -1.00e+03, -1.00e+03,\n",
                            "              -1.00e+03,  3.90e-02, -1.00e+03,  1.10e-02,  1.00e-02, -1.00e+03,\n",
                            "               7.00e-02, -1.00e+03,  4.30e-02, -1.00e+03, -1.00e+03, -1.00e+03,\n",
                            "               2.50e-01, -1.00e+03,  1.59e-01,  1.55e-01,  1.05e-01,  4.40e-02,\n",
                            "              -1.00e+03,  2.06e-01, -1.00e+03, -1.00e+03, -1.00e+03,  8.10e-02,\n",
                            "              -1.00e+03, -1.00e+03,  1.80e-02,  5.20e-02,  1.20e-02,  1.38e-01,\n",
                            "              -1.00e+03, -1.00e+03,  1.30e-01,  1.94e-01,  2.19e-01,  1.27e-01,\n",
                            "               1.72e-01, -1.00e+03, -1.00e+03, -1.00e+03, -1.00e+03, -1.00e+03,\n",
                            "               8.20e-02,  3.90e-02, -1.00e+03,  9.00e-02,  2.80e-02,  2.50e-02,\n",
                            "               7.10e-02, -1.00e+03,  1.04e-01, -1.00e+03, -1.00e+03, -1.00e+03,\n",
                            "               9.70e-02,  8.90e-02, -1.00e+03,  1.51e-01, -1.00e+03,  5.40e-02,\n",
                            "              -1.00e+03, -1.00e+03, -1.00e+03, -1.00e+03,  1.10e-01,  1.57e-01,\n",
                            "               1.93e-01,  1.89e-01, -1.00e+03, -1.00e+03,  7.40e-02,  8.10e-02,\n",
                            "               4.00e-02, -1.00e+03, -1.00e+03,  1.39e-01,  2.06e-01,  1.85e-01,\n",
                            "               1.55e-01, -1.00e+03,  1.31e-01,  1.62e-01, -1.00e+03,  9.30e-02,\n",
                            "               5.80e-02,  9.70e-02, -1.00e+03, -1.00e+03,  1.37e-01, -1.00e+03,\n",
                            "              -1.00e+03, -1.00e+03, -1.00e+03,  8.50e-02, -1.00e+03,  1.57e-01,\n",
                            "              -1.00e+03, -1.00e+03, -1.00e+03, -1.00e+03, -1.00e+03, -1.00e+03,\n",
                            "               1.11e-01, -1.00e+03, -1.00e+03, -1.00e+03,  1.22e-01, -1.00e+03,\n",
                            "              -1.00e+03, -1.00e+03, -1.00e+03,  1.83e-01,  1.19e-01,  2.37e-01,\n",
                            "               1.72e-01,  1.39e-01, -1.00e+03, -1.00e+03,  1.24e-01,  1.38e-01,\n",
                            "              -1.00e+03, -1.00e+03, -1.00e+03, -1.00e+03, -1.00e+03,  1.21e-01,\n",
                            "               5.70e-02, -1.00e+03, -1.00e+03,  4.80e-02, -1.00e+03, -1.00e+03,\n",
                            "              -1.00e+03,  1.45e-01,  2.24e-01, -1.00e+03, -1.00e+03, -1.00e+03,\n",
                            "              -1.00e+03, -1.00e+03,  6.80e-02,  4.70e-02, -1.00e+03, -1.00e+03,\n",
                            "               7.90e-02, -1.00e+03,  1.26e-01,  1.51e-01, -1.00e+03, -1.00e+03,\n",
                            "               3.60e-02,  3.00e-02, -1.00e+03,  8.10e-02, -1.00e+03,  8.90e-02,\n",
                            "               1.20e-01, -1.00e+03, -1.00e+03, -1.00e+03, -1.00e+03,  9.20e-02,\n",
                            "              -1.00e+03,  1.08e-01,  1.79e-01, -1.00e+03,  1.52e-01, -1.00e+03,\n",
                            "               1.58e-01,  1.69e-01,  1.64e-01,  1.48e-01,  1.15e-01, -1.00e+03,\n",
                            "               7.50e-02, -1.00e+03, -1.00e+03,  5.20e-02,  8.10e-02, -1.00e+03,\n",
                            "               6.20e-02,  5.80e-02, -1.00e+03, -1.00e+03,  3.50e-02,  1.10e-02,\n",
                            "              -1.00e+03, -1.00e+03,  1.80e-02,  7.30e-02, -1.00e+03,  8.00e-03,\n",
                            "               1.40e-02, -1.00e+03,  7.80e-02,  4.70e-02,  4.90e-02,  2.60e-02,\n",
                            "               9.00e-03,  5.20e-02, -1.00e+03,  4.20e-02, -1.00e+03, -1.00e+03,\n",
                            "               3.30e-02, -1.00e+03, -1.00e+03, -1.00e+03, -1.00e+03,  3.00e-02,\n",
                            "               2.40e-02,  1.41e-01, -1.00e+03,  4.40e-02, -1.00e+03, -1.00e+03,\n",
                            "              -1.00e+03, -1.00e+03,  4.50e-02,  1.06e-01, -1.00e+03, -1.00e+03,\n",
                            "              -1.00e+03,  1.71e-01, -1.00e+03,  9.80e-02,  6.60e-02,  1.04e-01,\n",
                            "              -1.00e+03, -1.00e+03,  1.13e-01,  4.40e-02, -1.00e+03, -1.00e+03,\n",
                            "               1.72e-01,  1.48e-01,  1.39e-01,  1.63e-01,  1.08e-01,  1.33e-01,\n",
                            "               1.64e-01, -1.00e+03, -1.00e+03,  2.03e-01,  1.64e-01,  2.18e-01,\n",
                            "              -1.00e+03,  1.41e-01,  6.50e-02,  1.68e-01, -1.00e+03,  1.31e-01,\n",
                            "               1.13e-01, -1.00e+03, -1.00e+03,  1.33e-01,  1.51e-01,  1.07e-01,\n",
                            "              -1.00e+03, -1.00e+03,  2.60e-02,  1.10e-02, -1.00e+03, -1.00e+03,\n",
                            "              -1.00e+03,  1.20e-02,  1.80e-02, -1.00e+03, -1.00e+03, -1.00e+03,\n",
                            "              -1.00e+03, -1.00e+03, -1.00e+03,  7.10e-02, -1.00e+03, -1.00e+03,\n",
                            "               8.30e-02,  1.34e-01, -1.00e+03,  4.60e-02, -1.00e+03,  7.70e-02,\n",
                            "               1.24e-01,  2.54e-01, -1.00e+03, -1.00e+03, -1.00e+03, -1.00e+03,\n",
                            "               6.40e-02,  1.10e-01, -1.00e+03,  2.12e-01, -1.00e+03, -1.00e+03,\n",
                            "              -1.00e+03, -1.00e+03, -1.00e+03, -1.00e+03, -1.00e+03,  1.04e-01,\n",
                            "               1.33e-01, -1.00e+03,  1.20e-01,  9.40e-02,  1.09e-01, -1.00e+03,\n",
                            "               1.25e-01,  2.60e-02,  1.17e-01,  1.07e-01, -1.00e+03, -1.00e+03,\n",
                            "              -1.00e+03, -1.00e+03,  1.70e-02, -1.00e+03, -1.00e+03, -1.00e+03,\n",
                            "              -1.00e+03,  6.00e-02, -1.00e+03,  1.05e-01,  8.80e-02, -1.00e+03,\n",
                            "              -1.00e+03,  1.10e-02, -1.00e+03, -1.00e+03, -1.00e+03,  3.20e-02,\n",
                            "              -1.00e+03,  3.60e-02, -1.00e+03,  2.90e-02,  1.24e-01,  2.10e-02,\n",
                            "              -1.00e+03, -1.00e+03,  1.40e-02, -1.00e+03, -1.00e+03, -1.00e+03,\n",
                            "              -1.00e+03,  2.09e-01,  2.09e-01,  1.53e-01,  1.80e-01,  1.04e-01,\n",
                            "               1.01e-01, -1.00e+03,  2.00e-02,  6.20e-02, -1.00e+03,  5.60e-02,\n",
                            "               5.10e-02, -1.00e+03,  1.23e-01,  1.04e-01, -1.00e+03, -1.00e+03,\n",
                            "               6.20e-02, -1.00e+03, -1.00e+03, -1.00e+03, -1.00e+03,  3.40e-02,\n",
                            "               6.90e-02, -1.00e+03, -1.00e+03,  1.08e-01, -1.00e+03,  1.04e-01,\n",
                            "               1.71e-01,  1.20e-02,  1.50e-02, -1.00e+03, -1.00e+03,  3.40e-02,\n",
                            "               6.60e-02, -1.00e+03,  5.50e-02,  1.02e-01, -1.00e+03,  2.60e-02,\n",
                            "               6.40e-02,  2.70e-02,  3.80e-02,  1.63e-01,  1.40e-01,  1.63e-01,\n",
                            "               1.81e-01, -1.00e+03,  2.30e-02,  1.40e-02, -1.00e+03,  2.00e-02,\n",
                            "               1.65e-01, -1.00e+03,  1.55e-01,  1.21e-01, -1.00e+03, -1.00e+03,\n",
                            "               6.80e-02,  1.25e-01, -1.00e+03, -1.00e+03,  1.17e-01, -1.00e+03,\n",
                            "               1.55e-01, -1.00e+03, -1.00e+03, -1.00e+03, -1.00e+03,  1.02e-01,\n",
                            "              -1.00e+03, -1.00e+03,  9.60e-02, -1.00e+03, -1.00e+03, -1.00e+03,\n",
                            "              -1.00e+03, -1.00e+03,  4.70e-02,  1.12e-01, -1.00e+03, -1.00e+03,\n",
                            "               1.50e-01,  1.55e-01,  9.50e-02,  1.83e-01, -1.00e+03,  8.50e-02,\n",
                            "              -1.00e+03,  1.60e-02,  1.30e-02,  1.10e-02,  4.50e-02,  7.10e-02,\n",
                            "              -1.00e+03, -1.00e+03, -1.00e+03,  7.30e-02,  1.30e-02, -1.00e+03,\n",
                            "               1.94e-01, -1.00e+03, -1.00e+03, -1.00e+03, -1.00e+03,  1.00e-02,\n",
                            "               2.00e-02, -1.00e+03, -1.00e+03, -1.00e+03, -1.00e+03, -1.00e+03,\n",
                            "               4.50e-02, -1.00e+03,  5.00e-02, -1.00e+03,  1.45e-01, -1.00e+03,\n",
                            "              -1.00e+03, -1.00e+03,  2.13e-01,  9.50e-02, -1.00e+03, -1.00e+03,\n",
                            "              -1.00e+03, -1.00e+03, -1.00e+03, -1.00e+03, -1.00e+03, -1.00e+03,\n",
                            "              -1.00e+03, -1.00e+03, -1.00e+03, -1.00e+03, -1.00e+03, -1.00e+03,\n",
                            "              -1.00e+03, -1.00e+03, -1.00e+03], dtype=float32)                 ,\n",
                            "       array([-1.00e+03, -1.00e+03, -1.00e+03,  1.21e-01, -1.00e+03,  3.80e-02,\n",
                            "              -1.00e+03, -1.00e+03, -1.00e+03,  3.00e-02, -1.00e+03, -1.00e+03,\n",
                            "               4.60e-02,  9.80e-02, -1.00e+03,  9.20e-02,  1.43e-01, -1.00e+03,\n",
                            "              -1.00e+03,  1.30e-01, -1.00e+03, -1.00e+03, -1.00e+03, -1.00e+03,\n",
                            "              -1.00e+03, -1.00e+03, -1.00e+03, -1.00e+03, -1.00e+03,  5.50e-02,\n",
                            "              -1.00e+03, -1.00e+03,  1.02e-01, -1.00e+03, -1.00e+03, -1.00e+03,\n",
                            "              -1.00e+03,  1.67e-01,  1.70e-01,  2.23e-01,  1.48e-01,  2.60e-02,\n",
                            "               7.90e-02, -1.00e+03,  2.33e-01,  7.00e-02, -1.00e+03,  7.60e-02,\n",
                            "               2.90e-02,  7.20e-02,  1.50e-02,  1.80e-02,  1.10e-02, -1.00e+03,\n",
                            "               2.40e-02,  9.30e-02,  9.10e-02,  1.01e-01, -1.00e+03, -1.00e+03,\n",
                            "              -1.00e+03, -1.00e+03, -1.00e+03,  2.50e-02, -1.00e+03,  2.50e-02,\n",
                            "              -1.00e+03, -1.00e+03,  5.10e-02, -1.00e+03,  5.00e-02, -1.00e+03,\n",
                            "              -1.00e+03,  2.60e-02,  3.00e-02,  9.90e-02,  1.34e-01,  9.10e-02,\n",
                            "               1.73e-01,  1.89e-01,  1.76e-01,  1.65e-01, -1.00e+03, -1.00e+03,\n",
                            "              -1.00e+03, -1.00e+03,  1.13e-01,  1.59e-01, -1.00e+03,  1.15e-01,\n",
                            "              -1.00e+03, -1.00e+03,  1.54e-01, -1.00e+03,  4.90e-02,  6.70e-02,\n",
                            "               3.90e-02,  1.06e-01, -1.00e+03,  4.10e-02,  2.70e-02,  4.10e-02,\n",
                            "               1.86e-01, -1.00e+03, -1.00e+03, -1.00e+03,  1.26e-01, -1.00e+03,\n",
                            "               8.20e-02,  1.28e-01, -1.00e+03, -1.00e+03, -1.00e+03, -1.00e+03,\n",
                            "               9.06e-01, -1.00e+03, -1.00e+03, -1.00e+03, -1.00e+03,  1.24e-01,\n",
                            "              -1.00e+03, -1.00e+03, -1.00e+03,  1.71e-01, -1.00e+03, -1.00e+03,\n",
                            "              -1.00e+03, -1.00e+03,  1.53e-01,  4.50e-02, -1.00e+03, -1.00e+03,\n",
                            "              -1.00e+03, -1.00e+03, -1.00e+03, -1.00e+03,  9.90e-02, -1.00e+03,\n",
                            "              -1.00e+03,  3.40e-02,  8.40e-02,  1.80e-02, -1.00e+03,  2.30e-02,\n",
                            "               2.41e-01,  1.74e-01, -1.00e+03,  2.40e-01, -1.00e+03, -1.00e+03,\n",
                            "               1.08e-01, -1.00e+03, -1.00e+03, -1.00e+03, -1.00e+03,  7.00e-02,\n",
                            "               7.40e-02, -1.00e+03,  3.60e-02,  5.90e-02, -1.00e+03,  3.40e-02,\n",
                            "              -1.00e+03, -1.00e+03, -1.00e+03,  1.30e-01,  3.50e-02,  2.00e-02,\n",
                            "               8.00e-03, -1.00e+03, -1.00e+03,  8.50e-02, -1.00e+03,  3.00e-02,\n",
                            "               5.30e-02, -1.00e+03,  2.70e-01, -1.00e+03, -1.00e+03,  1.91e-01,\n",
                            "               1.80e-01,  7.20e-02,  8.00e-03, -1.00e+03, -1.00e+03, -1.00e+03,\n",
                            "               1.65e-01,  3.20e-02,  7.10e-02, -1.00e+03, -1.00e+03, -1.00e+03,\n",
                            "               1.74e-01, -1.00e+03, -1.00e+03, -1.00e+03, -1.00e+03,  6.80e-02,\n",
                            "              -1.00e+03, -1.00e+03,  1.50e-02, -1.00e+03, -1.00e+03, -1.00e+03,\n",
                            "               1.88e-01, -1.00e+03,  2.12e-01,  1.00e-01,  3.10e-02, -1.00e+03,\n",
                            "               9.60e-02,  5.20e-02,  1.45e-01, -1.00e+03,  5.50e-02,  4.60e-02,\n",
                            "               9.90e-02,  2.40e-02,  4.10e-02, -1.00e+03, -1.00e+03, -1.00e+03,\n",
                            "              -1.00e+03,  1.01e-01, -1.00e+03,  1.03e-01,  1.87e-01, -1.00e+03,\n",
                            "              -1.00e+03,  1.40e-01, -1.00e+03, -1.00e+03, -1.00e+03, -1.00e+03,\n",
                            "               1.05e-01, -1.00e+03, -1.00e+03, -1.00e+03,  2.30e-02,  4.20e-02,\n",
                            "              -1.00e+03, -1.00e+03,  6.00e-03,  1.30e-02, -1.00e+03,  3.60e-02,\n",
                            "               9.10e-02,  1.18e-01,  5.50e-02,  6.40e-02,  1.96e-01, -1.00e+03,\n",
                            "               1.75e-01,  1.69e-01, -1.00e+03, -1.00e+03, -1.00e+03,  1.14e-01,\n",
                            "              -1.00e+03, -1.00e+03,  1.50e-02, -1.00e+03,  7.10e-02,  1.53e-01,\n",
                            "               1.86e-01, -1.00e+03, -1.00e+03, -1.00e+03, -1.00e+03, -1.00e+03,\n",
                            "               1.55e-01, -1.00e+03,  1.41e-01,  1.45e-01,  1.62e-01, -1.00e+03,\n",
                            "              -1.00e+03,  1.22e-01, -1.00e+03,  1.72e-01, -1.00e+03, -1.00e+03,\n",
                            "               1.56e-01, -1.00e+03,  9.40e-02,  5.70e-02,  1.65e-01, -1.00e+03,\n",
                            "              -1.00e+03, -1.00e+03,  9.50e-02, -1.00e+03,  1.27e-01, -1.00e+03,\n",
                            "              -1.00e+03,  1.00e+00, -1.00e+03,  2.58e-01, -1.00e+03, -1.00e+03,\n",
                            "              -1.00e+03, -1.00e+03, -1.00e+03, -1.00e+03, -1.00e+03, -1.00e+03,\n",
                            "              -1.00e+03, -1.00e+03,  5.80e-02,  7.00e-03,  1.01e-01,  1.63e-01,\n",
                            "              -1.00e+03,  1.28e-01,  1.80e-02,  3.70e-02, -1.00e+03,  9.40e-02,\n",
                            "              -1.00e+03, -1.00e+03,  1.24e-01,  1.26e-01, -1.00e+03,  2.70e-02,\n",
                            "              -1.00e+03, -1.00e+03, -1.00e+03, -1.00e+03, -1.00e+03, -1.00e+03,\n",
                            "              -1.00e+03, -1.00e+03,  2.02e-01, -1.00e+03,  1.03e-01,  1.23e-01,\n",
                            "               1.03e-01,  9.60e-02, -1.00e+03, -1.00e+03, -1.00e+03, -1.00e+03,\n",
                            "              -1.00e+03, -1.00e+03, -1.00e+03, -1.00e+03, -1.00e+03, -1.00e+03,\n",
                            "               1.56e-01, -1.00e+03,  9.20e-02,  1.18e-01, -1.00e+03,  2.15e-01,\n",
                            "               5.40e-02,  2.60e-02,  2.00e-02,  1.18e-01,  7.80e-02,  7.30e-02,\n",
                            "               2.28e-01,  1.41e-01,  9.10e-02,  1.20e-01, -1.00e+03, -1.00e+03,\n",
                            "               3.50e-02,  5.70e-02,  1.70e-01, -1.00e+03, -1.00e+03, -1.00e+03,\n",
                            "              -1.00e+03, -1.00e+03, -1.00e+03,  3.80e-02, -1.00e+03,  1.07e-01,\n",
                            "              -1.00e+03, -1.00e+03,  1.23e-01,  9.60e-02, -1.00e+03, -1.00e+03,\n",
                            "               7.20e-02, -1.00e+03, -1.00e+03, -1.00e+03,  9.60e-02, -1.00e+03,\n",
                            "              -1.00e+03,  7.30e-02,  1.52e-01, -1.00e+03,  1.83e-01,  2.18e-01,\n",
                            "               1.39e-01,  1.91e-01, -1.00e+03, -1.00e+03,  1.29e-01,  1.65e-01,\n",
                            "              -1.00e+03, -1.00e+03,  1.37e-01, -1.00e+03, -1.00e+03,  1.19e-01,\n",
                            "               2.02e-01,  1.80e-01, -1.00e+03,  1.29e-01,  1.02e-01,  1.39e-01,\n",
                            "               1.54e-01, -1.00e+03, -1.00e+03, -1.00e+03,  2.13e-01,  4.93e-01,\n",
                            "              -1.00e+03,  1.46e-01, -1.00e+03,  1.52e-01, -1.00e+03,  1.65e-01,\n",
                            "               1.31e-01,  2.52e-01, -1.00e+03, -1.00e+03, -1.00e+03, -1.00e+03,\n",
                            "              -1.00e+03,  2.31e-01,  1.65e-01, -1.00e+03, -1.00e+03, -1.00e+03,\n",
                            "              -1.00e+03, -1.00e+03, -1.00e+03, -1.00e+03, -1.00e+03, -1.00e+03,\n",
                            "              -1.00e+03, -1.00e+03, -1.00e+03, -1.00e+03, -1.00e+03, -1.00e+03,\n",
                            "              -1.00e+03, -1.00e+03, -1.00e+03, -1.00e+03, -1.00e+03, -1.00e+03,\n",
                            "              -1.00e+03, -1.00e+03, -1.00e+03, -1.00e+03, -1.00e+03, -1.00e+03,\n",
                            "              -1.00e+03], dtype=float32)                                       ],\n",
                            "      dtype=object)"
                        ]
                    },
                    "execution_count": 51,
                    "metadata": {},
                    "output_type": "execute_result"
                }
            ],
            "source": [
                "data_utr['DMS']"
            ]
        },
        {
            "cell_type": "code",
            "execution_count": null,
            "metadata": {},
            "outputs": [],
            "source": []
        },
        {
            "cell_type": "code",
            "execution_count": null,
            "metadata": {},
            "outputs": [],
            "source": []
        }
    ],
    "metadata": {
        "kernelspec": {
            "display_name": "dl",
            "language": "python",
            "name": "python3"
        },
        "language_info": {
            "codemirror_mode": {
                "name": "ipython",
                "version": 3
            },
            "file_extension": ".py",
            "mimetype": "text/x-python",
            "name": "python",
            "nbconvert_exporter": "python",
            "pygments_lexer": "ipython3",
            "version": "3.11.4"
        },
        "orig_nbformat": 4
    },
    "nbformat": 4,
    "nbformat_minor": 2
}
