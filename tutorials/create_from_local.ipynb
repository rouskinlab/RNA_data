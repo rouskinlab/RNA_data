{
    "cells": [
        {
            "cell_type": "markdown",
            "metadata": {},
            "source": [
                "## Imports"
            ]
        },
        {
            "cell_type": "code",
            "execution_count": 1,
            "metadata": {},
            "outputs": [],
            "source": [
                "%load_ext autoreload\n",
                "%autoreload 2\n",
                "import os, sys\n",
                "\n",
                "import envbash\n",
                "envbash.load.load_envbash('../env')\n",
                "\n",
                "sys.path.append('/Users/yvesmartin/src/rouskinhf')\n",
                "\n",
                "from rouskinhf import convert"
            ]
        },
        {
            "attachments": {},
            "cell_type": "markdown",
            "metadata": {},
            "source": [
                "# Create a datafolder from local files\n",
                "\n",
                "These methods will allow you to process your data and create a datafolder from it. The accepted formats are:\n",
                "- DREEM output\n",
                "- fasta\n",
                "- set of CTs\n",
                "- already formatted json + info.json\n",
                "\n",
                "**Make sure to change the paths to your own paths!**"
            ]
        },
        {
            "attachments": {},
            "cell_type": "markdown",
            "metadata": {},
            "source": [
                "### From DREEM output"
            ]
        },
        {
            "cell_type": "code",
            "execution_count": 6,
            "metadata": {},
            "outputs": [
                {
                    "name": "stderr",
                    "output_type": "stream",
                    "text": [
                        "Parsing fasta file: 100%|██████████| 5/5 [00:00<00:00, 28.18it/s]\n"
                    ]
                },
                {
                    "data": {
                        "text/plain": [
                            "{'RF02271.fa.csv_1': {'sequence': 'AAACCCCAGUAGGGGUUU',\n",
                            "  'structure': [[0, 17],\n",
                            "   [1, 16],\n",
                            "   [2, 15],\n",
                            "   [3, 14],\n",
                            "   [4, 13],\n",
                            "   [5, 12],\n",
                            "   [6, 11]]},\n",
                            " 'RF02271.fa.csv_2': {'sequence': 'UUUCCCCUAGUAUGGGGAAA',\n",
                            "  'structure': [[1, 18], [2, 17], [3, 16], [4, 15], [5, 14], [6, 13]]},\n",
                            " 'RF02271.fa.csv_2_1': {'sequence': 'UUUCGCGAGGCCGAGGAAA',\n",
                            "  'structure': [[0, 17], [1, 16], [2, 15], [3, 14], [5, 12], [6, 11]]}}"
                        ]
                    },
                    "execution_count": 6,
                    "metadata": {},
                    "output_type": "execute_result"
                }
            ],
            "source": [
                "%reload_ext autoreload\n",
                "%autoreload 2\n",
                "# Show all arguments\n",
                "data = convert(format='fasta', \n",
                "              file_or_folder='/Users/yvesmartin/src/rouskinhf/data/input_files_for_testing/test_sequences.fasta',\n",
                "              name='test_sequences_fasta',\n",
                "              path_out='../data/testing',\n",
                "              predict_structure=True,\n",
                "              filter=True,   \n",
                "              verbose=False)\n",
                "data"
            ]
        },
        {
            "cell_type": "markdown",
            "metadata": {},
            "source": [
                "### From a data.json file"
            ]
        },
        {
            "cell_type": "code",
            "execution_count": 25,
            "metadata": {},
            "outputs": [
                {
                    "name": "stderr",
                    "output_type": "stream",
                    "text": [
                        "Parsing json file: 100%|██████████| 16674/16674 [00:00<00:00, 26797.20it/s]\n"
                    ]
                },
                {
                    "name": "stdout",
                    "output_type": "stream",
                    "text": [
                        "Over a total of 16674 datapoints, there are:\n",
                        "    - 16674 valid datapoints\n",
                        "    - 0 invalid datapoints (ex: sequence with non-regular characters)\n",
                        "    - 0 datapoints with the same reference\n",
                        "    - 0 duplicate sequences with the same structure / dms\n",
                        "    - 0 duplicate sequences with different structure / dms\n",
                        "    - 0 datapoints removed because of low AUROC (<0.8)\n"
                    ]
                }
            ],
            "source": [
                "data = convert(format='json', \n",
                "              file_or_folder='/Users/yvesmartin/src/rouskinhf/data/input_files_for_testing/test_sequences.fasta',\n",
                "              name='test_sequences_fasta',\n",
                "              path_out='data',\n",
                "              predict_structure=True,\n",
                "              filter=True,   \n",
                "              verbose=False)"
            ]
        },
        {
            "attachments": {},
            "cell_type": "markdown",
            "metadata": {},
            "source": [
                "### From a list of CT files"
            ]
        },
        {
            "cell_type": "code",
            "execution_count": 20,
            "metadata": {},
            "outputs": [
                {
                    "name": "stderr",
                    "output_type": "stream",
                    "text": [
                        "\n",
                        "\u001b[A"
                    ]
                },
                {
                    "ename": "ValueError",
                    "evalue": "The ct file `/Users/ymdt/Downloads/bpRNA/bpRNA_CRW_35841.ct` is not formatted correctly. Please check the file and try again. ValueError: too many values to unpack (expected 6)",
                    "output_type": "error",
                    "traceback": [
                        "\u001b[0;31m---------------------------------------------------------------------------\u001b[0m",
                        "\u001b[0;31mValueError\u001b[0m                                Traceback (most recent call last)",
                        "File \u001b[0;32m~/src/rouskinhf/tutorials/../rouskinhf/parsers.py:28\u001b[0m, in \u001b[0;36mCt.parse\u001b[0;34m(ct_file)\u001b[0m\n\u001b[1;32m     27\u001b[0m \u001b[39mtry\u001b[39;00m:\n\u001b[0;32m---> 28\u001b[0m     utr5, base, _, _, utr3, _ \u001b[39m=\u001b[39m line\u001b[39m.\u001b[39msplit()\n\u001b[1;32m     29\u001b[0m \u001b[39mexcept\u001b[39;00m \u001b[39mValueError\u001b[39;00m \u001b[39mas\u001b[39;00m e:\n",
                        "\u001b[0;31mValueError\u001b[0m: too many values to unpack (expected 6)",
                        "\nDuring handling of the above exception, another exception occurred:\n",
                        "\u001b[0;31mValueError\u001b[0m                                Traceback (most recent call last)",
                        "\u001b[1;32m/Users/ymdt/src/rouskinhf/tutorials/create_from_local.ipynb Cell 9\u001b[0m line \u001b[0;36m3\n\u001b[1;32m      <a href='vscode-notebook-cell:/Users/ymdt/src/rouskinhf/tutorials/create_from_local.ipynb#X12sZmlsZQ%3D%3D?line=0'>1</a>\u001b[0m get_ipython()\u001b[39m.\u001b[39mrun_line_magic(\u001b[39m'\u001b[39m\u001b[39mreload_ext\u001b[39m\u001b[39m'\u001b[39m, \u001b[39m'\u001b[39m\u001b[39mautoreload\u001b[39m\u001b[39m'\u001b[39m)\n\u001b[1;32m      <a href='vscode-notebook-cell:/Users/ymdt/src/rouskinhf/tutorials/create_from_local.ipynb#X12sZmlsZQ%3D%3D?line=1'>2</a>\u001b[0m get_ipython()\u001b[39m.\u001b[39mrun_line_magic(\u001b[39m'\u001b[39m\u001b[39mautoreload\u001b[39m\u001b[39m'\u001b[39m, \u001b[39m'\u001b[39m\u001b[39m2\u001b[39m\u001b[39m'\u001b[39m)\n\u001b[0;32m----> <a href='vscode-notebook-cell:/Users/ymdt/src/rouskinhf/tutorials/create_from_local.ipynb#X12sZmlsZQ%3D%3D?line=2'>3</a>\u001b[0m datafolder \u001b[39m=\u001b[39m DataFolder\u001b[39m.\u001b[39;49mfrom_ct_folder(\n\u001b[1;32m      <a href='vscode-notebook-cell:/Users/ymdt/src/rouskinhf/tutorials/create_from_local.ipynb#X12sZmlsZQ%3D%3D?line=3'>4</a>\u001b[0m     name\u001b[39m=\u001b[39;49m\u001b[39m'\u001b[39;49m\u001b[39mbpRNA\u001b[39;49m\u001b[39m'\u001b[39;49m, \u001b[39m# name of the input data by default\u001b[39;49;00m\n\u001b[1;32m      <a href='vscode-notebook-cell:/Users/ymdt/src/rouskinhf/tutorials/create_from_local.ipynb#X12sZmlsZQ%3D%3D?line=4'>5</a>\u001b[0m     path_in\u001b[39m=\u001b[39;49m\u001b[39m'\u001b[39;49m\u001b[39m/Users/ymdt/Downloads/bpRNA\u001b[39;49m\u001b[39m'\u001b[39;49m, \n\u001b[1;32m      <a href='vscode-notebook-cell:/Users/ymdt/src/rouskinhf/tutorials/create_from_local.ipynb#X12sZmlsZQ%3D%3D?line=5'>6</a>\u001b[0m     path_out\u001b[39m=\u001b[39;49m\u001b[39m'\u001b[39;49m\u001b[39m/Users/ymdt/src/rouskinhf/data/datafolders\u001b[39;49m\u001b[39m'\u001b[39;49m, \n\u001b[1;32m      <a href='vscode-notebook-cell:/Users/ymdt/src/rouskinhf/tutorials/create_from_local.ipynb#X12sZmlsZQ%3D%3D?line=6'>7</a>\u001b[0m     predict_dms\u001b[39m=\u001b[39;49m\u001b[39mFalse\u001b[39;49;00m, \u001b[39m# won't take the structure from the ct files into account\u001b[39;49;00m\n\u001b[1;32m      <a href='vscode-notebook-cell:/Users/ymdt/src/rouskinhf/tutorials/create_from_local.ipynb#X12sZmlsZQ%3D%3D?line=7'>8</a>\u001b[0m     tqdm\u001b[39m=\u001b[39;49m\u001b[39mTrue\u001b[39;49;00m, \n\u001b[1;32m      <a href='vscode-notebook-cell:/Users/ymdt/src/rouskinhf/tutorials/create_from_local.ipynb#X12sZmlsZQ%3D%3D?line=8'>9</a>\u001b[0m     generate_npy\u001b[39m=\u001b[39;49m\u001b[39mTrue\u001b[39;49;00m,\n\u001b[1;32m     <a href='vscode-notebook-cell:/Users/ymdt/src/rouskinhf/tutorials/create_from_local.ipynb#X12sZmlsZQ%3D%3D?line=9'>10</a>\u001b[0m     )  \n",
                        "File \u001b[0;32m~/src/rouskinhf/tutorials/../rouskinhf/datafolder.py:643\u001b[0m, in \u001b[0;36mDataFolder.from_ct_folder\u001b[0;34m(path_in, path_out, name, predict_dms, generate_npy, tqdm, verbose)\u001b[0m\n\u001b[1;32m    633\u001b[0m \u001b[39mdef\u001b[39;00m \u001b[39mfrom_ct_folder\u001b[39m(\n\u001b[1;32m    634\u001b[0m     path_in,\n\u001b[1;32m    635\u001b[0m     path_out\u001b[39m=\u001b[39menv\u001b[39m.\u001b[39mDATA_FOLDER,\n\u001b[0;32m   (...)\u001b[0m\n\u001b[1;32m    640\u001b[0m     verbose\u001b[39m=\u001b[39m\u001b[39mTrue\u001b[39;00m,\n\u001b[1;32m    641\u001b[0m ) \u001b[39m-\u001b[39m\u001b[39m>\u001b[39m CreateDatafolderFromCTfolder:\n\u001b[1;32m    642\u001b[0m \u001b[39m    \u001b[39m\u001b[39m\"\"\"Create a datafolder from a folder of ct files. See CreateDatafolderFromCTfolder for more details.\"\"\"\u001b[39;00m\n\u001b[0;32m--> 643\u001b[0m     \u001b[39mreturn\u001b[39;00m CreateDatafolderFromCTfolder(\n\u001b[1;32m    644\u001b[0m         path_in,\n\u001b[1;32m    645\u001b[0m         path_out,\n\u001b[1;32m    646\u001b[0m         name,\n\u001b[1;32m    647\u001b[0m         predict_dms,\n\u001b[1;32m    648\u001b[0m         generate_npy,\n\u001b[1;32m    649\u001b[0m         tqdm\u001b[39m=\u001b[39;49mtqdm,\n\u001b[1;32m    650\u001b[0m         verbose\u001b[39m=\u001b[39;49mverbose,\n\u001b[1;32m    651\u001b[0m     )\n",
                        "File \u001b[0;32m~/src/rouskinhf/tutorials/../rouskinhf/datafolder.py:381\u001b[0m, in \u001b[0;36mCreateDatafolderFromCTfolder.__init__\u001b[0;34m(self, path_in, path_out, name, predict_dms, generate_npy, tqdm, verbose)\u001b[0m\n\u001b[1;32m    367\u001b[0m \u001b[39msuper\u001b[39m()\u001b[39m.\u001b[39m\u001b[39m__init__\u001b[39m(\n\u001b[1;32m    368\u001b[0m     path_in,\n\u001b[1;32m    369\u001b[0m     path_out,\n\u001b[0;32m   (...)\u001b[0m\n\u001b[1;32m    373\u001b[0m     predict_dms\u001b[39m=\u001b[39mpredict_dms,\n\u001b[1;32m    374\u001b[0m )\n\u001b[1;32m    376\u001b[0m ct_files \u001b[39m=\u001b[39m [\n\u001b[1;32m    377\u001b[0m     os\u001b[39m.\u001b[39mpath\u001b[39m.\u001b[39mjoin(path_in, f)\n\u001b[1;32m    378\u001b[0m     \u001b[39mfor\u001b[39;00m f \u001b[39min\u001b[39;00m os\u001b[39m.\u001b[39mlistdir(path_in)\n\u001b[1;32m    379\u001b[0m     \u001b[39mif\u001b[39;00m f\u001b[39m.\u001b[39mendswith(\u001b[39m\"\u001b[39m\u001b[39m.ct\u001b[39m\u001b[39m\"\u001b[39m) \u001b[39mor\u001b[39;00m f\u001b[39m.\u001b[39mendswith(\u001b[39m\"\u001b[39m\u001b[39m.txt\u001b[39m\u001b[39m\"\u001b[39m)\n\u001b[1;32m    380\u001b[0m ]\n\u001b[0;32m--> 381\u001b[0m \u001b[39mself\u001b[39m\u001b[39m.\u001b[39mdatapoints \u001b[39m=\u001b[39m ListofDatapoints\u001b[39m.\u001b[39;49mfrom_ct(\n\u001b[1;32m    382\u001b[0m     ct_files, predict_dms\u001b[39m=\u001b[39;49mpredict_dms, tqdm\u001b[39m=\u001b[39;49mtqdm, verbose\u001b[39m=\u001b[39;49mverbose\n\u001b[1;32m    383\u001b[0m )\n\u001b[1;32m    384\u001b[0m \u001b[39mself\u001b[39m\u001b[39m.\u001b[39mdump_datapoints(generate_npy)\n\u001b[1;32m    385\u001b[0m \u001b[39mself\u001b[39m\u001b[39m.\u001b[39minfofile\u001b[39m.\u001b[39madd_filtering_report(\u001b[39mself\u001b[39m\u001b[39m.\u001b[39mdatapoints\u001b[39m.\u001b[39mfiltering_report)\u001b[39m.\u001b[39mwrite()\n",
                        "File \u001b[0;32m~/src/rouskinhf/tutorials/../rouskinhf/list_datapoints.py:32\u001b[0m, in \u001b[0;36mListofDatapoints.from_ct\u001b[0;34m(cls, ct_files, predict_dms, tqdm, verbose)\u001b[0m\n\u001b[1;32m     29\u001b[0m \u001b[39m@classmethod\u001b[39m\n\u001b[1;32m     30\u001b[0m \u001b[39mdef\u001b[39;00m \u001b[39mfrom_ct\u001b[39m(\u001b[39mcls\u001b[39m, ct_files, predict_dms, tqdm\u001b[39m=\u001b[39m\u001b[39mTrue\u001b[39;00m, verbose\u001b[39m=\u001b[39m\u001b[39mTrue\u001b[39;00m):\n\u001b[1;32m     31\u001b[0m \u001b[39m    \u001b[39m\u001b[39m\"\"\"Create a list of datapoint from a ct file. The dms will be predicted if predict_dms is True.\"\"\"\u001b[39;00m\n\u001b[0;32m---> 32\u001b[0m     \u001b[39mreturn\u001b[39;00m \u001b[39mcls\u001b[39m([DatapointFactory\u001b[39m.\u001b[39;49mfrom_ct(ct_file, predict_dms) \u001b[39mfor\u001b[39;49;00m ct_file \u001b[39min\u001b[39;49;00m tqdm_parser(ct_files, total\u001b[39m=\u001b[39;49m\u001b[39mlen\u001b[39;49m(ct_files), desc\u001b[39m=\u001b[39;49m\u001b[39m'\u001b[39;49m\u001b[39mParsing ct files\u001b[39;49m\u001b[39m'\u001b[39;49m, disable\u001b[39m=\u001b[39;49m\u001b[39mnot\u001b[39;49;00m tqdm)], verbose\u001b[39m=\u001b[39mverbose)\n",
                        "File \u001b[0;32m~/src/rouskinhf/tutorials/../rouskinhf/list_datapoints.py:32\u001b[0m, in \u001b[0;36m<listcomp>\u001b[0;34m(.0)\u001b[0m\n\u001b[1;32m     29\u001b[0m \u001b[39m@classmethod\u001b[39m\n\u001b[1;32m     30\u001b[0m \u001b[39mdef\u001b[39;00m \u001b[39mfrom_ct\u001b[39m(\u001b[39mcls\u001b[39m, ct_files, predict_dms, tqdm\u001b[39m=\u001b[39m\u001b[39mTrue\u001b[39;00m, verbose\u001b[39m=\u001b[39m\u001b[39mTrue\u001b[39;00m):\n\u001b[1;32m     31\u001b[0m \u001b[39m    \u001b[39m\u001b[39m\"\"\"Create a list of datapoint from a ct file. The dms will be predicted if predict_dms is True.\"\"\"\u001b[39;00m\n\u001b[0;32m---> 32\u001b[0m     \u001b[39mreturn\u001b[39;00m \u001b[39mcls\u001b[39m([DatapointFactory\u001b[39m.\u001b[39;49mfrom_ct(ct_file, predict_dms) \u001b[39mfor\u001b[39;00m ct_file \u001b[39min\u001b[39;00m tqdm_parser(ct_files, total\u001b[39m=\u001b[39m\u001b[39mlen\u001b[39m(ct_files), desc\u001b[39m=\u001b[39m\u001b[39m'\u001b[39m\u001b[39mParsing ct files\u001b[39m\u001b[39m'\u001b[39m, disable\u001b[39m=\u001b[39m\u001b[39mnot\u001b[39;00m tqdm)], verbose\u001b[39m=\u001b[39mverbose)\n",
                        "File \u001b[0;32m~/src/rouskinhf/tutorials/../rouskinhf/datapoint.py:254\u001b[0m, in \u001b[0;36mDatapointFactory.from_ct\u001b[0;34m(ct_file, predict_dms)\u001b[0m\n\u001b[1;32m    252\u001b[0m \u001b[39mdef\u001b[39;00m \u001b[39mfrom_ct\u001b[39m(ct_file, predict_dms):\n\u001b[1;32m    253\u001b[0m \u001b[39m    \u001b[39m\u001b[39m\"\"\"Create a datapoint from a ct file. If predict_dms is True, the dms will be predicted using RNAstructure\"\"\"\u001b[39;00m\n\u001b[0;32m--> 254\u001b[0m     reference, sequence, paired_bases \u001b[39m=\u001b[39m Ct\u001b[39m.\u001b[39;49mparse(ct_file)\n\u001b[1;32m    255\u001b[0m     sequence \u001b[39m=\u001b[39m standardize_sequence(sequence)\n\u001b[1;32m    257\u001b[0m     \u001b[39mif\u001b[39;00m sequence_has_regular_characters(sequence):\n",
                        "File \u001b[0;32m~/src/rouskinhf/tutorials/../rouskinhf/parsers.py:30\u001b[0m, in \u001b[0;36mCt.parse\u001b[0;34m(ct_file)\u001b[0m\n\u001b[1;32m     28\u001b[0m     utr5, base, _, _, utr3, _ \u001b[39m=\u001b[39m line\u001b[39m.\u001b[39msplit()\n\u001b[1;32m     29\u001b[0m \u001b[39mexcept\u001b[39;00m \u001b[39mValueError\u001b[39;00m \u001b[39mas\u001b[39;00m e:\n\u001b[0;32m---> 30\u001b[0m     \u001b[39mraise\u001b[39;00m \u001b[39mValueError\u001b[39;00m(\u001b[39m\"\u001b[39m\u001b[39mThe ct file `\u001b[39m\u001b[39m{}\u001b[39;00m\u001b[39m` is not formatted correctly. Please check the file and try again. ValueError: \u001b[39m\u001b[39m{}\u001b[39;00m\u001b[39m\"\u001b[39m\u001b[39m.\u001b[39mformat(ct_file, e))\n\u001b[1;32m     31\u001b[0m \u001b[39mexcept\u001b[39;00m \u001b[39mException\u001b[39;00m \u001b[39mas\u001b[39;00m e:\n\u001b[1;32m     32\u001b[0m     \u001b[39mraise\u001b[39;00m \u001b[39mException\u001b[39;00m(\u001b[39m\"\u001b[39m\u001b[39mAn unknown error occured while parsing the ct file `\u001b[39m\u001b[39m{}\u001b[39;00m\u001b[39m`. Please check the file and try again. Exception: \u001b[39m\u001b[39m{}\u001b[39;00m\u001b[39m\"\u001b[39m\u001b[39m.\u001b[39mformat(ct_file, e))\n",
                        "\u001b[0;31mValueError\u001b[0m: The ct file `/Users/ymdt/Downloads/bpRNA/bpRNA_CRW_35841.ct` is not formatted correctly. Please check the file and try again. ValueError: too many values to unpack (expected 6)"
                    ]
                }
            ],
            "source": [
                "%reload_ext autoreload\n",
                "%autoreload 2\n",
                "datafolder = DataFolder.from_ct_folder(\n",
                "    name='bpRNA', # name of the input data by default\n",
                "    path_in='/Users/ymdt/Downloads/bpRNA', \n",
                "    path_out='/Users/ymdt/src/rouskinhf/data/datafolders', \n",
                "    predict_dms=False, # won't take the structure from the ct files into account\n",
                "    tqdm=True, \n",
                "    generate_npy=True,\n",
                "    )  "
            ]
        },
        {
            "attachments": {},
            "cell_type": "markdown",
            "metadata": {},
            "source": [
                "\n",
                "### From fasta"
            ]
        },
        {
            "cell_type": "code",
            "execution_count": 2,
            "metadata": {},
            "outputs": [
                {
                    "name": "stderr",
                    "output_type": "stream",
                    "text": [
                        "Parsing fasta file: 100%|██████████| 5/5 [00:01<00:00,  3.77it/s]"
                    ]
                },
                {
                    "name": "stdout",
                    "output_type": "stream",
                    "text": [
                        "Over a total of 5 datapoints, there are:\n",
                        "    - 2 valid datapoints\n",
                        "    - 1 invalid datapoints (ex: sequence with non-regular characters)\n",
                        "    - 1 datapoints with the same reference\n",
                        "    - 1 duplicate sequences with the same structure / dms\n",
                        "    - 0 duplicate sequences with different structure / dms\n"
                    ]
                },
                {
                    "name": "stderr",
                    "output_type": "stream",
                    "text": [
                        "\n"
                    ]
                },
                {
                    "data": {
                        "text/plain": [
                            "array([array([3.3176258e-01, 8.6194777e-01, 9.8495054e-01, 9.9978286e-01,\n",
                            "              9.9995619e-01, 9.9994540e-01, 9.9702460e-01, 3.2988770e-10,\n",
                            "              1.0113345e-08, 9.3018784e-09, 2.1481183e-10, 9.9695349e-01,\n",
                            "              9.9997377e-01, 9.9998462e-01, 9.9979717e-01, 9.8487574e-01,\n",
                            "              8.6187601e-01, 3.3190918e-01], dtype=float32)              ,\n",
                            "       array([2.3766817e-01, 8.4576339e-01, 9.8692513e-01, 9.9954951e-01,\n",
                            "              9.9981171e-01, 9.9981171e-01, 9.9900937e-01, 7.4752042e-04,\n",
                            "              1.4492057e-03, 5.6404242e-11, 0.0000000e+00, 0.0000000e+00,\n",
                            "              1.4492056e-03, 9.9931222e-01, 9.9998856e-01, 9.9998885e-01,\n",
                            "              9.9991626e-01, 9.8716962e-01, 8.4594077e-01, 2.3697025e-01],\n",
                            "             dtype=float32)                                               ],\n",
                            "      dtype=object)"
                        ]
                    },
                    "execution_count": 2,
                    "metadata": {},
                    "output_type": "execute_result"
                }
            ],
            "source": [
                "datafolder = DataFolder.from_fasta(\n",
                "    name= 'sequences', # name of the input data by default\n",
                "    path_in = '/Users/ymdt/src/rouskinhf/data/input_files_for_testing/sequences.fasta', \n",
                "    path_out='/Users/ymdt/src/rouskinhf/data/datafolders', \n",
                "    predict_structure=True,\n",
                "    predict_dms=True,\n",
                "    tqdm=True,\n",
                "    generate_npy=True,\n",
                "    )\n",
                "np.load(datafolder.get_dms_npy(), allow_pickle=True)"
            ]
        },
        {
            "attachments": {},
            "cell_type": "markdown",
            "metadata": {},
            "source": [
                "### From an existing local datafolder"
            ]
        },
        {
            "cell_type": "code",
            "execution_count": 4,
            "metadata": {},
            "outputs": [
                {
                    "name": "stdout",
                    "output_type": "stream",
                    "text": [
                        "No folder found in data/input_files/pri-miRNA\n"
                    ]
                },
                {
                    "data": {
                        "application/vnd.jupyter.widget-view+json": {
                            "model_id": "2159677727064bbc808ab8c349673fea",
                            "version_major": 2,
                            "version_minor": 0
                        },
                        "text/plain": [
                            "Fetching 2 files:   0%|          | 0/2 [00:00<?, ?it/s]"
                        ]
                    },
                    "metadata": {},
                    "output_type": "display_data"
                },
                {
                    "data": {
                        "application/vnd.jupyter.widget-view+json": {
                            "model_id": "e565cc87a84b4b39aa276508005c0470",
                            "version_major": 2,
                            "version_minor": 0
                        },
                        "text/plain": [
                            "Downloading (…)ffe09d71b9/data.json:   0%|          | 0.00/2.05M [00:00<?, ?B/s]"
                        ]
                    },
                    "metadata": {},
                    "output_type": "display_data"
                },
                {
                    "data": {
                        "application/vnd.jupyter.widget-view+json": {
                            "model_id": "080e3383915247cea360c61d9e28d823",
                            "version_major": 2,
                            "version_minor": 0
                        },
                        "text/plain": [
                            "Downloading (…)ffe09d71b9/info.json:   0%|          | 0.00/790 [00:00<?, ?B/s]"
                        ]
                    },
                    "metadata": {},
                    "output_type": "display_data"
                },
                {
                    "name": "stderr",
                    "output_type": "stream",
                    "text": [
                        "Parsing json file: 100%|██████████| 503/503 [00:00<00:00, 25099.76it/s]\n"
                    ]
                },
                {
                    "name": "stdout",
                    "output_type": "stream",
                    "text": [
                        "Over a total of 503 datapoints, there are:\n",
                        "    - 503 valid datapoints\n",
                        "    - 0 invalid datapoints (ex: sequence with non-regular characters)\n",
                        "    - 0 datapoints with the same reference\n",
                        "    - 0 duplicate sequences with the same structure / dms\n",
                        "    - 0 duplicate sequences with different structure / dms\n",
                        "    - 0 datapoints removed because of low AUROC (<0.8)\n",
                        "Using data from HuggingFace Hub for pri-miRNA\n"
                    ]
                }
            ],
            "source": [
                "datafolder = DataFolder.from_local(\n",
                "    name = '/Users/ymdt/src/rouskinhf/data/datafolders/for_testing',\n",
                ")\n",
                "\n",
                "# OR\n",
                "\n",
                "datafolder = import_dataset(\n",
                "    name = 'for_testing',\n",
                "    data = 'DMS', # can be 'DMS' or 'structure'\n",
                "    force_download=False # if True, will download the data even if it already exists locally\n",
                ")"
            ]
        },
        {
            "attachments": {},
            "cell_type": "markdown",
            "metadata": {},
            "source": [
                "# Push a local datafolder to Hugging Face"
            ]
        },
        {
            "attachments": {},
            "cell_type": "markdown",
            "metadata": {},
            "source": [
                "### 1. Create a repository if it does not exist"
            ]
        },
        {
            "cell_type": "code",
            "execution_count": null,
            "metadata": {},
            "outputs": [],
            "source": [
                "# Find more arguments here: https://huggingface.co/docs/huggingface_hub/guides/repository#create-a-repository\n",
                "datafolder.create_repo(\n",
                "    exist_ok=True,\n",
                "    private=True\n",
                ")"
            ]
        },
        {
            "attachments": {},
            "cell_type": "markdown",
            "metadata": {},
            "source": [
                "### 2. Push the datafolder to Hugging Face"
            ]
        },
        {
            "cell_type": "code",
            "execution_count": null,
            "metadata": {},
            "outputs": [
                {
                    "data": {
                        "text/plain": [
                            "'https://huggingface.co/datasets/rouskinlab/pri-miRNA-test/tree/main/'"
                        ]
                    },
                    "execution_count": 6,
                    "metadata": {},
                    "output_type": "execute_result"
                }
            ],
            "source": [
                "\n",
                "# Find more arguments here: https://huggingface.co/docs/huggingface_hub/guides/upload#upload-a-folder\n",
                "future = datafolder.upload_folder(\n",
                "    revision='main', # branch name\n",
                "    commit_message='Upload demo dataset',\n",
                "    commit_description='This is a demo dataset',\n",
                "    run_as_future=True,\n",
                ")\n",
                "\n",
                "future.done() # True if the upload is done\n",
                "future.result() # Wait for the upload to complete (blocking action)"
            ]
        },
        {
            "attachments": {},
            "cell_type": "markdown",
            "metadata": {},
            "source": [
                "### 3. Check that the datafolder is on Hugging Face\n",
                "\n",
                "Take a look at https://huggingface.co/rouskinlab"
            ]
        },
        {
            "attachments": {},
            "cell_type": "markdown",
            "metadata": {},
            "source": [
                "# Explore the datafolder object"
            ]
        },
        {
            "cell_type": "code",
            "execution_count": null,
            "metadata": {},
            "outputs": [],
            "source": [
                "import numpy as np\n",
                "import json\n",
                "print(datafolder)\n",
                "print('main folder:',datafolder.get_main_folder())\n",
                "print('sequences.npy file:\\n',np.load(datafolder.get_sequences_npy(), allow_pickle=True))\n",
                "print('base_pairs.npy file:\\n',np.load(datafolder.get_base_pairs_npy(), allow_pickle=True))\n",
                "print('dms.npy file:\\n',np.load(datafolder.get_dms_npy(), allow_pickle=True))\n",
                "print('json file:\\n', json.load(open(datafolder.get_json(), 'r')))\n",
                "print('dms.npy file:',datafolder.get_dms_npy())\n",
                "print('json file:',datafolder.get_json())\n",
                "print('source files:',datafolder.get_source_files())\n",
                "print('info file:',datafolder.get_info_file())"
            ]
        },
        {
            "cell_type": "code",
            "execution_count": 8,
            "metadata": {},
            "outputs": [
                {
                    "name": "stdout",
                    "output_type": "stream",
                    "text": [
                        "Force download from HuggingFace Hub\n"
                    ]
                },
                {
                    "data": {
                        "application/vnd.jupyter.widget-view+json": {
                            "model_id": "d5b59586463e4d1daa89d749f08bac90",
                            "version_major": 2,
                            "version_minor": 0
                        },
                        "text/plain": [
                            "Fetching 2 files:   0%|          | 0/2 [00:00<?, ?it/s]"
                        ]
                    },
                    "metadata": {},
                    "output_type": "display_data"
                },
                {
                    "name": "stderr",
                    "output_type": "stream",
                    "text": [
                        "Parsing json file: 100%|██████████| 513/513 [00:00<00:00, 59079.57it/s]"
                    ]
                },
                {
                    "name": "stdout",
                    "output_type": "stream",
                    "text": [
                        "Over a total of 513 datapoints, there are:\n",
                        "    - 513 valid datapoints\n",
                        "    - 0 invalid datapoints (ex: sequence with non-regular characters)\n",
                        "    - 0 datapoints with the same reference\n",
                        "    - 0 duplicate sequences with the same structure / dms\n",
                        "    - 0 duplicate sequences with different structure / dms\n",
                        "Using data from HuggingFace Hub for pri-miRNA-test\n"
                    ]
                },
                {
                    "name": "stderr",
                    "output_type": "stream",
                    "text": [
                        "\n"
                    ]
                }
            ],
            "source": [
                "%reload_ext autoreload\n",
                "%autoreload 2\n",
                "data_pri = import_dataset(\n",
                "    name = 'pri-miRNA-test',\n",
                "    data = 'DMS', # can be 'DMS' or 'structure'\n",
                "    force_generate_npy=True, # if True, will download the data even if it already exists locally\n",
                "    force_download=True\n",
                ")\n",
                "\n",
                "# data_utr = import_dataset(\n",
                "#     name = 'utr',\n",
                "#     data = 'DMS', # can be 'DMS' or 'structure'\n",
                "#     force_download=False # if True, will download the data even if it already exists locally\n",
                "# )\n"
            ]
        },
        {
            "cell_type": "code",
            "execution_count": 9,
            "metadata": {},
            "outputs": [
                {
                    "data": {
                        "text/plain": [
                            "array([-1.000e+03, -1.000e+03, -1.000e+03, -1.000e+03, -1.000e+03,\n",
                            "       -1.000e+03, -1.000e+03, -1.000e+03, -1.000e+03, -1.000e+03,\n",
                            "       -1.000e+03, -1.000e+03, -1.000e+03, -1.000e+03, -1.000e+03,\n",
                            "       -1.000e+03, -1.000e+03, -1.000e+03, -1.000e+03, -1.000e+03,\n",
                            "       -1.000e+03, -1.000e+03, -1.000e+03, -1.000e+03, -1.000e+03,\n",
                            "       -1.000e+03,  4.700e-01, -1.000e+03,  5.661e-01,  3.952e-01,\n",
                            "        3.206e-01,  3.242e-01, -1.000e+03, -1.000e+03, -1.000e+03,\n",
                            "       -1.000e+03,  5.054e-01, -1.000e+03, -1.000e+03,  6.266e-01,\n",
                            "        1.374e-01, -1.000e+03, -1.000e+03, -1.000e+03, -1.000e+03,\n",
                            "        1.574e-01,  4.347e-01,  3.740e-01,  2.133e-01,  3.261e-01,\n",
                            "       -1.000e+03, -1.000e+03,  3.130e-01,  5.454e-01,  6.481e-01,\n",
                            "        5.420e-02,  5.340e-02, -1.000e+03, -1.000e+03, -1.000e+03,\n",
                            "        8.170e-02, -1.000e+03, -1.000e+03, -1.000e+03, -1.000e+03,\n",
                            "        3.690e-01, -1.000e+03,  1.570e-01, -1.000e+03, -1.000e+03,\n",
                            "        3.140e-02,  8.870e-02,  5.650e-02, -1.000e+03, -1.000e+03,\n",
                            "       -1.000e+03, -1.000e+03, -1.000e+03, -1.000e+03,  1.651e-01,\n",
                            "       -1.000e+03, -1.000e+03,  8.130e-02, -1.000e+03, -1.000e+03,\n",
                            "       -1.000e+03,  8.290e-02, -1.000e+03, -1.000e+03,  8.910e-02,\n",
                            "       -1.000e+03, -1.000e+03, -1.000e+03, -1.000e+03, -1.000e+03,\n",
                            "       -1.000e+03,  6.300e-02, -1.000e+03,  7.170e-02, -1.000e+03,\n",
                            "       -1.000e+03, -1.000e+03, -1.000e+03, -1.000e+03,  3.251e-01,\n",
                            "       -1.000e+03, -1.000e+03, -1.000e+03, -1.000e+03,  8.663e-01,\n",
                            "        8.390e-01,  8.667e-01,  1.000e+00,  9.980e-02,  5.420e-02,\n",
                            "        3.670e-02,  4.990e-01,  5.139e-01,  5.126e-01,  6.720e-01,\n",
                            "        8.865e-01, -1.000e+03, -1.000e+03, -1.000e+03, -1.000e+03,\n",
                            "        7.221e-01, -1.000e+03,  5.739e-01, -1.000e+03,  1.593e-01,\n",
                            "        1.062e-01,  1.900e-02, -1.000e+03,  4.820e-02, -1.000e+03,\n",
                            "        5.160e-02,  2.640e-02,  5.540e-02,  5.170e-02, -1.000e+03,\n",
                            "        1.600e-02, -1.000e+03,  4.410e-02,  2.110e-02, -1.000e+03,\n",
                            "       -1.000e+03, -1.000e+03,  1.450e-02, -1.000e+03, -1.000e+03,\n",
                            "       -1.000e+03,  1.690e-02,  1.110e-02, -1.000e+03,  3.504e-01,\n",
                            "        5.016e-01,  2.944e-01, -1.000e+03, -1.000e+03, -1.000e+03,\n",
                            "        1.691e-01, -1.000e+03,  1.523e-01, -1.000e+03,  3.213e-01,\n",
                            "        5.411e-01,  7.231e-01,  6.634e-01, -1.000e+03, -1.000e+03,\n",
                            "        8.434e-01, -1.000e+03, -1.000e+03,  4.700e-02,  6.380e-02,\n",
                            "       -1.000e+03,  1.900e-02,  1.610e-02,  4.710e-02, -1.000e+03,\n",
                            "       -1.000e+03,  9.320e-01, -1.000e+03, -1.000e+03, -1.000e+03,\n",
                            "        2.885e-01, -1.000e+03, -1.000e+03,  3.775e-01, -1.000e+03,\n",
                            "        6.714e-01, -1.000e+03,  3.178e-01,  3.539e-01,  4.846e-01,\n",
                            "       -1.000e+03, -1.000e+03,  1.618e-01,  2.015e-01, -1.000e+03,\n",
                            "       -1.000e+03, -1.000e+03,  5.194e-01,  5.880e-01,  6.604e-01,\n",
                            "       -1.000e+03,  4.577e-01,  5.236e-01, -1.000e+03, -1.000e+03,\n",
                            "       -1.000e+03, -1.000e+03, -1.000e+03, -1.000e+03, -1.000e+03,\n",
                            "       -1.000e+03, -1.000e+03, -1.000e+03, -1.000e+03, -1.000e+03,\n",
                            "       -1.000e+03, -1.000e+03, -1.000e+03, -1.000e+03, -1.000e+03,\n",
                            "       -1.000e+03, -1.000e+03, -1.000e+03, -1.000e+03, -1.000e+03],\n",
                            "      dtype=float32)"
                        ]
                    },
                    "execution_count": 9,
                    "metadata": {},
                    "output_type": "execute_result"
                }
            ],
            "source": [
                "# load dms.npy \n",
                "\n",
                "data_pri['DMS'][0]\n"
            ]
        },
        {
            "cell_type": "code",
            "execution_count": 2,
            "metadata": {},
            "outputs": [],
            "source": [
                "import numpy as np\n",
                "a = np.array([np.array([0,1,2,3]), np.array([2,3,4])], dtype=object)"
            ]
        },
        {
            "cell_type": "code",
            "execution_count": 15,
            "metadata": {},
            "outputs": [
                {
                    "data": {
                        "text/plain": [
                            "array([array([1., 2.], dtype=float32), array([3., 4., 5.], dtype=float32)],\n",
                            "      dtype=object)"
                        ]
                    },
                    "execution_count": 15,
                    "metadata": {},
                    "output_type": "execute_result"
                }
            ],
            "source": [
                "a = [1, 2]; b= [3, 4, 5]\n",
                "np.array([np.array(a, dtype=np.float32), np.array(b, dtype=np.float32)], dtype=object)\n"
            ]
        },
        {
            "cell_type": "code",
            "execution_count": 16,
            "metadata": {},
            "outputs": [
                {
                    "data": {
                        "text/plain": [
                            "array([[0.1321452409029007, 0.1321452409029007],\n",
                            "       [0.1321452409029007, 0.1321452409029007]], dtype=object)"
                        ]
                    },
                    "execution_count": 16,
                    "metadata": {},
                    "output_type": "execute_result"
                }
            ],
            "source": [
                "\n",
                "c, b = [0.1321452463246523462346532, 0.1321452463246523462346532], [0.1321452463246523462346532, 0.1321452463246523462346532]\n",
                "np.array([np.array(c, dtype=np.float32), np.array(b, dtype=np.float32)], dtype=object)\n"
            ]
        }
    ],
    "metadata": {
        "kernelspec": {
            "display_name": "dl",
            "language": "python",
            "name": "python3"
        },
        "language_info": {
            "codemirror_mode": {
                "name": "ipython",
                "version": 3
            },
            "file_extension": ".py",
            "mimetype": "text/x-python",
            "name": "python",
            "nbconvert_exporter": "python",
            "pygments_lexer": "ipython3",
            "version": "3.11.6"
        },
        "orig_nbformat": 4
    },
    "nbformat": 4,
    "nbformat_minor": 2
}
