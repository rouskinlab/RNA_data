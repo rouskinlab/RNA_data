{
    "cells": [
        {
            "attachments": {},
            "cell_type": "markdown",
            "metadata": {},
            "source": [
                "# Use Datafolders to load data for models\n",
                "\n",
                "This tutorial shows how to use the `DataFolder` class to load data for models: first you load the data, then you generate the .npy files, and finally you load the .npy files for the model using the `DataFolder` class.\n",
                "\n",
                "## Imports"
            ]
        },
        {
            "cell_type": "code",
            "execution_count": 1,
            "metadata": {},
            "outputs": [],
            "source": [
                "%load_ext dotenv\n",
                "%dotenv env\n",
                "from rouskinhf import import_dataset"
            ]
        },
        {
            "attachments": {},
            "cell_type": "markdown",
            "metadata": {},
            "source": [
                "## Download the data from HuggingFace\n",
                "\n",
                "If the data is already downloaded, it will be loaded from the local folder."
            ]
        },
        {
            "cell_type": "code",
            "execution_count": 6,
            "metadata": {},
            "outputs": [
                {
                    "name": "stdout",
                    "output_type": "stream",
                    "text": [
                        "references ['RF02271.fa.csv_1' 'RF02271.f...\n",
                        "sequences [array([1, 1, 1, 2, 2, 2, 2, 1...\n",
                        "DMS [list([0.3317625732102161, 0.8...\n"
                    ]
                }
            ],
            "source": [
                "data = import_dataset(\n",
                "    name = 'for_testing',\n",
                "    data = 'DMS', # can be 'DMS' or 'structure'\n",
                "    force_download=False # if True, will download the data even if it already exists locally\n",
                ")\n",
                "\n",
                "for k, v in data.items():\n",
                "    print(k, str(v)[:30] + '...')"
            ]
        }
    ],
    "metadata": {
        "kernelspec": {
            "display_name": "dl",
            "language": "python",
            "name": "python3"
        },
        "language_info": {
            "codemirror_mode": {
                "name": "ipython",
                "version": 3
            },
            "file_extension": ".py",
            "mimetype": "text/x-python",
            "name": "python",
            "nbconvert_exporter": "python",
            "pygments_lexer": "ipython3",
            "version": "3.11.4"
        },
        "orig_nbformat": 4
    },
    "nbformat": 4,
    "nbformat_minor": 2
}
