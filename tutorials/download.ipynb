{
    "cells": [
        {
            "attachments": {},
            "cell_type": "markdown",
            "metadata": {},
            "source": [
                "# Use Datafolders to load data for models\n",
                "\n",
                "This tutorial shows how to use the `DataFolder` class to load data for models: first you load the data, then you generate the .npy files, and finally you load the .npy files for the model using the `DataFolder` class.\n",
                "\n",
                "## Imports"
            ]
        },
        {
            "cell_type": "code",
            "execution_count": 4,
            "metadata": {},
            "outputs": [
                {
                    "name": "stdout",
                    "output_type": "stream",
                    "text": [
                        "Requirement already satisfied: rouskinhf in /Users/ymdt/miniforge3/envs/rouskinhf/lib/python3.11/site-packages (0.0.1)\n",
                        "Collecting rouskinhf\n",
                        "  Obtaining dependency information for rouskinhf from https://files.pythonhosted.org/packages/de/f0/46ad5cb8394e25de7b2ac901ec5ca8337181e709e772946b66d98ddc9193/rouskinhf-0.0.6-py3-none-any.whl.metadata\n",
                        "  Using cached rouskinhf-0.0.6-py3-none-any.whl.metadata (771 bytes)\n",
                        "Using cached rouskinhf-0.0.6-py3-none-any.whl (17 kB)\n",
                        "Installing collected packages: rouskinhf\n",
                        "  Attempting uninstall: rouskinhf\n",
                        "    Found existing installation: rouskinhf 0.0.1\n",
                        "    Uninstalling rouskinhf-0.0.1:\n",
                        "      Successfully uninstalled rouskinhf-0.0.1\n",
                        "Successfully installed rouskinhf-0.0.6\n"
                    ]
                },
                {
                    "ename": "KeyError",
                    "evalue": "'HUGGINGFACE_TOKEN'",
                    "output_type": "error",
                    "traceback": [
                        "\u001b[0;31m---------------------------------------------------------------------------\u001b[0m",
                        "\u001b[0;31mKeyError\u001b[0m                                  Traceback (most recent call last)",
                        "Cell \u001b[0;32mIn[4], line 2\u001b[0m\n\u001b[1;32m      1\u001b[0m get_ipython()\u001b[39m.\u001b[39msystem(\u001b[39m'\u001b[39m\u001b[39mpip install rouskinhf -U\u001b[39m\u001b[39m'\u001b[39m)\n\u001b[0;32m----> 2\u001b[0m \u001b[39mfrom\u001b[39;00m \u001b[39mrouskinhf\u001b[39;00m \u001b[39mimport\u001b[39;00m import_dataset\n",
                        "File \u001b[0;32m~/miniforge3/envs/rouskinhf/lib/python3.11/site-packages/rouskinhf/__init__.py:1\u001b[0m\n\u001b[0;32m----> 1\u001b[0m \u001b[39mfrom\u001b[39;00m \u001b[39m.\u001b[39;00m\u001b[39mdatafolder\u001b[39;00m \u001b[39mimport\u001b[39;00m DataFolder\n\u001b[1;32m      3\u001b[0m \u001b[39mfrom\u001b[39;00m \u001b[39m.\u001b[39;00m\u001b[39menv\u001b[39;00m \u001b[39mimport\u001b[39;00m DATA_FOLDER\n\u001b[1;32m      4\u001b[0m \u001b[39mimport\u001b[39;00m \u001b[39mpandas\u001b[39;00m \u001b[39mas\u001b[39;00m \u001b[39mpd\u001b[39;00m\n",
                        "File \u001b[0;32m~/miniforge3/envs/rouskinhf/lib/python3.11/site-packages/rouskinhf/datafolder.py:5\u001b[0m\n\u001b[1;32m      2\u001b[0m \u001b[39mfrom\u001b[39;00m \u001b[39mtyping\u001b[39;00m \u001b[39mimport\u001b[39;00m Any\n\u001b[1;32m      4\u001b[0m \u001b[39mimport\u001b[39;00m \u001b[39mjson\u001b[39;00m\n\u001b[0;32m----> 5\u001b[0m \u001b[39mfrom\u001b[39;00m \u001b[39m.\u001b[39;00m\u001b[39menv\u001b[39;00m \u001b[39mimport\u001b[39;00m DATA_FOLDER\n\u001b[1;32m      7\u001b[0m \u001b[39mfrom\u001b[39;00m \u001b[39m.\u001b[39;00m\u001b[39mpath\u001b[39;00m \u001b[39mimport\u001b[39;00m PathDatafolder\n\u001b[1;32m      8\u001b[0m \u001b[39mfrom\u001b[39;00m \u001b[39m.\u001b[39;00m\u001b[39menv\u001b[39;00m \u001b[39mimport\u001b[39;00m DATA_FOLDER, HUGGINGFACE_TOKEN\n",
                        "File \u001b[0;32m~/miniforge3/envs/rouskinhf/lib/python3.11/site-packages/rouskinhf/env.py:6\u001b[0m\n\u001b[1;32m      2\u001b[0m \u001b[39mfrom\u001b[39;00m \u001b[39m.\u001b[39;00m\u001b[39mutil\u001b[39;00m \u001b[39mimport\u001b[39;00m source_env\n\u001b[1;32m      4\u001b[0m path_env \u001b[39m=\u001b[39m os\u001b[39m.\u001b[39mpath\u001b[39m.\u001b[39mjoin(os\u001b[39m.\u001b[39mpath\u001b[39m.\u001b[39mdirname(os\u001b[39m.\u001b[39mpath\u001b[39m.\u001b[39mdirname(\u001b[39m__file__\u001b[39m)), \u001b[39m'\u001b[39m\u001b[39menv\u001b[39m\u001b[39m'\u001b[39m)\n\u001b[0;32m----> 6\u001b[0m HUGGINGFACE_TOKEN \u001b[39m=\u001b[39m os\u001b[39m.\u001b[39;49menviron[\u001b[39m'\u001b[39;49m\u001b[39mHUGGINGFACE_TOKEN\u001b[39;49m\u001b[39m'\u001b[39;49m]\n\u001b[1;32m      7\u001b[0m DATA_FOLDER \u001b[39m=\u001b[39m os\u001b[39m.\u001b[39menviron[\u001b[39m'\u001b[39m\u001b[39mDATA_FOLDER\u001b[39m\u001b[39m'\u001b[39m]\n\u001b[1;32m      8\u001b[0m DATA_FOLDER_TESTING \u001b[39m=\u001b[39m os\u001b[39m.\u001b[39menviron[\u001b[39m'\u001b[39m\u001b[39mDATA_FOLDER_TESTING\u001b[39m\u001b[39m'\u001b[39m]\n",
                        "File \u001b[0;32m<frozen os>:679\u001b[0m, in \u001b[0;36m__getitem__\u001b[0;34m(self, key)\u001b[0m\n",
                        "\u001b[0;31mKeyError\u001b[0m: 'HUGGINGFACE_TOKEN'"
                    ]
                }
            ],
            "source": [
                "!pip install rouskinhf -U\n",
                "from rouskinhf import import_dataset"
            ]
        },
        {
            "attachments": {},
            "cell_type": "markdown",
            "metadata": {},
            "source": [
                "## Load the data from HuggingFace\n",
                "\n",
                "You could also load the data from a local folder."
            ]
        },
        {
            "cell_type": "code",
            "execution_count": null,
            "metadata": {},
            "outputs": [
                {
                    "data": {
                        "application/vnd.jupyter.widget-view+json": {
                            "model_id": "1da8dbcdea8045b78ac1204b6749b120",
                            "version_major": 2,
                            "version_minor": 0
                        },
                        "text/plain": [
                            "Fetching 10 files:   0%|          | 0/10 [00:00<?, ?it/s]"
                        ]
                    },
                    "metadata": {},
                    "output_type": "display_data"
                }
            ],
            "source": [
                "data = import_dataset(\n",
                "    name = 'for_testing',\n",
                "    data = 'DMS', # can be 'DMS' or 'structure'\n",
                "    force_download=True # if True, will download the data even if it already exists\n",
                ")\n",
                "\n",
                "for k, v in data.items():\n",
                "    print(k, str(v)[:100] + '...')"
            ]
        }
    ],
    "metadata": {
        "kernelspec": {
            "display_name": "dl",
            "language": "python",
            "name": "python3"
        },
        "language_info": {
            "codemirror_mode": {
                "name": "ipython",
                "version": 3
            },
            "file_extension": ".py",
            "mimetype": "text/x-python",
            "name": "python",
            "nbconvert_exporter": "python",
            "pygments_lexer": "ipython3",
            "version": "3.11.4"
        },
        "orig_nbformat": 4
    },
    "nbformat": 4,
    "nbformat_minor": 2
}
