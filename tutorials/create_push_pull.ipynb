{
 "cells": [
  {
   "cell_type": "code",
   "execution_count": null,
   "metadata": {},
   "outputs": [],
   "source": [
    "import os, json, sys\n",
    "sys.path.append('..')\n",
    "from rna_data import DataFolder\n",
    "import numpy as np\n",
    "from rna_data.env import DATA_FOLDER_TESTING, DATA_FOLDER\n",
    "path_test_data = DATA_FOLDER\n",
    "path_test_data_sequences = DATA_FOLDER_TESTING+'/sequences.fasta'\n",
    "path_test_data_dreem = DATA_FOLDER_TESTING+'/dreem_output.json'\n",
    "path_test_data_ct =  DATA_FOLDER_TESTING+'/ct_files'\n",
    "TESTING_DATAFOLDER_NAME = 'for_testing'"
   ]
  },
  {
   "attachments": {},
   "cell_type": "markdown",
   "metadata": {},
   "source": [
    "# Load a datafolder \n",
    "\n",
    "These methods will allow you to manipulate rightfully formatted data using the DataFolder object. \n",
    "\n",
    "## From Hugging Face"
   ]
  },
  {
   "cell_type": "code",
   "execution_count": null,
   "metadata": {},
   "outputs": [],
   "source": [
    "datafolder = DataFolder.from_huggingface(\n",
    "    name=TESTING_DATAFOLDER_NAME,\n",
    "    path_out=path_test_data,\n",
    "    )"
   ]
  },
  {
   "attachments": {},
   "cell_type": "markdown",
   "metadata": {},
   "source": [
    "## From a local folder"
   ]
  },
  {
   "cell_type": "code",
   "execution_count": null,
   "metadata": {},
   "outputs": [],
   "source": [
    "datafolder = DataFolder.from_local(\n",
    "    name = TESTING_DATAFOLDER_NAME,\n",
    ")"
   ]
  },
  {
   "attachments": {},
   "cell_type": "markdown",
   "metadata": {},
   "source": [
    "# Create a datafolder from local files\n",
    "\n",
    "These methods will allow you to process your data and create a datafolder from it. The accepted formats are:\n",
    "- DREEM output\n",
    "- fasta\n",
    "- set of CTs\n",
    "- already formatted json + info.json"
   ]
  },
  {
   "attachments": {},
   "cell_type": "markdown",
   "metadata": {},
   "source": [
    "## From DREEM output"
   ]
  },
  {
   "cell_type": "code",
   "execution_count": null,
   "metadata": {},
   "outputs": [],
   "source": [
    "datafolder = DataFolder.from_dreem_output(\n",
    "    name='from_dreem_output', # name of the input data by default\n",
    "    path_in=path_test_data_dreem, \n",
    "    path_out=path_test_data, \n",
    "    generate_npy=True, \n",
    "    predict_structure=True)"
   ]
  },
  {
   "attachments": {},
   "cell_type": "markdown",
   "metadata": {},
   "source": [
    "## From a list of CT files"
   ]
  },
  {
   "cell_type": "code",
   "execution_count": null,
   "metadata": {},
   "outputs": [],
   "source": [
    "datafolder = DataFolder.from_ct_folder(\n",
    "    name='from_ct_folder', # name of the input data by default\n",
    "    path_in=path_test_data_ct, \n",
    "    path_out=path_test_data, \n",
    "    generate_npy=True, \n",
    "    predict_dms=False,\n",
    "    )  # won't take the structure from the ct files into account"
   ]
  },
  {
   "attachments": {},
   "cell_type": "markdown",
   "metadata": {},
   "source": [
    "\n",
    "## From fasta"
   ]
  },
  {
   "cell_type": "code",
   "execution_count": null,
   "metadata": {},
   "outputs": [],
   "source": [
    "datafolder = DataFolder.from_fasta(\n",
    "    name= 'sequences', # name of the input data by default\n",
    "    path_in = path_test_data_sequences, \n",
    "    path_out = path_test_data, \n",
    "    generate_npy=True, \n",
    "    predict_structure=True,\n",
    "    predict_dms=True)"
   ]
  },
  {
   "attachments": {},
   "cell_type": "markdown",
   "metadata": {},
   "source": [
    "# Explore the datafolder object"
   ]
  },
  {
   "cell_type": "code",
   "execution_count": null,
   "metadata": {},
   "outputs": [],
   "source": [
    "print(datafolder)\n",
    "print('main folder:',datafolder.get_main_folder())\n",
    "print('sequences.npy file:\\n',np.load(datafolder.get_sequences_npy(), allow_pickle=True))\n",
    "print('base_pairs.npy file:\\n',np.load(datafolder.get_base_pairs_npy(), allow_pickle=True))\n",
    "print('dms.npy file:\\n',np.load(datafolder.get_dms_npy(), allow_pickle=True))\n",
    "print('json file:\\n', json.load(open(datafolder.get_json(), 'r')))\n",
    "print('dms.npy file:',datafolder.get_dms_npy())\n",
    "print('json file:',datafolder.get_json())\n",
    "print('source files:',datafolder.get_source_files())\n",
    "print('info file:',datafolder.get_info_file())"
   ]
  },
  {
   "attachments": {},
   "cell_type": "markdown",
   "metadata": {},
   "source": [
    "# Push a local datafolder to Hugging Face\n",
    "\n",
    "## Push the datafolder to Hugging Face\n",
    "\n",
    "### 0. Create the datafolder for the example"
   ]
  },
  {
   "cell_type": "code",
   "execution_count": null,
   "metadata": {},
   "outputs": [],
   "source": [
    "datafolder = DataFolder.from_fasta(\n",
    "    name= TESTING_DATAFOLDER_NAME, # name of the input data by default\n",
    "    path_in = path_test_data_sequences, \n",
    "    path_out = path_test_data, \n",
    "    generate_npy=True, \n",
    "    predict_structure=True,\n",
    "    predict_dms=True)"
   ]
  },
  {
   "attachments": {},
   "cell_type": "markdown",
   "metadata": {},
   "source": [
    "### 1. Create a repository if it does not exist"
   ]
  },
  {
   "cell_type": "code",
   "execution_count": null,
   "metadata": {},
   "outputs": [],
   "source": [
    "# Find more arguments here: https://huggingface.co/docs/huggingface_hub/guides/repository#create-a-repository\n",
    "datafolder.create_repo(\n",
    "    exist_ok=True,\n",
    "    private=True\n",
    ")"
   ]
  },
  {
   "attachments": {},
   "cell_type": "markdown",
   "metadata": {},
   "source": [
    "### 2. Push the datafolder to Hugging Face"
   ]
  },
  {
   "cell_type": "code",
   "execution_count": null,
   "metadata": {},
   "outputs": [],
   "source": [
    "\n",
    "# Find more arguments here: https://huggingface.co/docs/huggingface_hub/guides/upload#upload-a-folder\n",
    "future = datafolder.upload_folder(\n",
    "    revision='main', # branch name\n",
    "    commit_message='Upload demo dataset',\n",
    "    commit_description='This is a demo dataset',\n",
    "    run_as_future=True,\n",
    ")\n",
    "\n",
    "future.done() # True if the upload is done\n",
    "future.result() # Wait for the upload to complete (blocking action)"
   ]
  },
  {
   "attachments": {},
   "cell_type": "markdown",
   "metadata": {},
   "source": [
    "### 3. Check that the datafolder is on Hugging Face\n",
    "\n",
    "https://huggingface.co/rouskinlab"
   ]
  }
 ],
 "metadata": {
  "kernelspec": {
   "display_name": "dl",
   "language": "python",
   "name": "python3"
  },
  "language_info": {
   "codemirror_mode": {
    "name": "ipython",
    "version": 3
   },
   "file_extension": ".py",
   "mimetype": "text/x-python",
   "name": "python",
   "nbconvert_exporter": "python",
   "pygments_lexer": "ipython3",
   "version": "3.10.12"
  },
  "orig_nbformat": 4
 },
 "nbformat": 4,
 "nbformat_minor": 2
}
