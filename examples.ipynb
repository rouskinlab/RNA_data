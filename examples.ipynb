{
 "cells": [
  {
   "cell_type": "code",
   "execution_count": null,
   "metadata": {},
   "outputs": [],
   "source": [
    "%load_ext autoreload\n",
    "%autoreload 2\n",
    "\n",
    "from rna_data import CreateDataset\n",
    "\n",
    "path_test_data = 'data/demo_datasets'\n",
    "path_test_data_sequences = 'data/sequences.fasta'\n",
    "path_test_data_dreem = 'data/dreem_output.json'\n",
    "path_test_data_ct = 'data/ct_files'"
   ]
  },
  {
   "attachments": {},
   "cell_type": "markdown",
   "metadata": {},
   "source": [
    "## Remove the test datasets"
   ]
  },
  {
   "cell_type": "code",
   "execution_count": null,
   "metadata": {},
   "outputs": [],
   "source": [
    "import os\n",
    "os.system('rm -rf data/demo_datasets')"
   ]
  },
  {
   "attachments": {},
   "cell_type": "markdown",
   "metadata": {},
   "source": [
    "# Create a dataset from local files\n",
    "\n",
    "## From fasta"
   ]
  },
  {
   "cell_type": "code",
   "execution_count": null,
   "metadata": {},
   "outputs": [],
   "source": [
    "dataset = CreateDataset.from_fasta(\n",
    "    name= 'sequences', # name of the dataset or something else\n",
    "    path_in = path_test_data_sequences, \n",
    "    path_out = path_test_data, \n",
    "    generate_npy=True, \n",
    "    predict_structure=True,\n",
    "    predict_dms=True)\n",
    "\n",
    "print(dataset)\n",
    "print('main folder:',dataset.get_main_folder())\n",
    "print('npy files:',dataset.get_npy_files())\n",
    "print('json file:',dataset.get_json())\n",
    "print('source files:',dataset.get_source_files())\n",
    "print('info file:',dataset.get_info_file())"
   ]
  },
  {
   "attachments": {},
   "cell_type": "markdown",
   "metadata": {},
   "source": [
    "## From DREEM output"
   ]
  },
  {
   "cell_type": "code",
   "execution_count": null,
   "metadata": {},
   "outputs": [],
   "source": [
    "dataset = CreateDataset.from_dreem_output(\n",
    "    name='from_dreem_output', # name of the dataset or something else\n",
    "    path_in=path_test_data_dreem, \n",
    "    path_out=path_test_data, \n",
    "    generate_npy=True, \n",
    "    predict_structure=True)\n",
    "\n",
    "print(dataset)\n",
    "print('main folder:',dataset.get_main_folder())\n",
    "print('npy files:',dataset.get_npy_files())\n",
    "print('json file:',dataset.get_json())\n",
    "print('source files:',dataset.get_source_files())\n",
    "print('info file:',dataset.get_info_file())"
   ]
  },
  {
   "attachments": {},
   "cell_type": "markdown",
   "metadata": {},
   "source": [
    "## From a list of CT files"
   ]
  },
  {
   "cell_type": "code",
   "execution_count": null,
   "metadata": {},
   "outputs": [],
   "source": [
    "dataset = CreateDataset.from_ct_folder(\n",
    "    name='from_ct_folder', # name of the dataset or something else\n",
    "    path_in=path_test_data_ct, \n",
    "    path_out=path_test_data, \n",
    "    generate_npy=True, \n",
    "    predict_dms=False)  # won't take the structure from the ct files into account\n",
    "\n",
    "print(dataset)\n",
    "print('main folder:',dataset.get_main_folder())\n",
    "print('npy files:',dataset.get_npy_files())\n",
    "print('json file:',dataset.get_json())\n",
    "print('source files:',dataset.get_source_files())\n",
    "print('info file:',dataset.get_info_file())"
   ]
  },
  {
   "attachments": {},
   "cell_type": "markdown",
   "metadata": {},
   "source": [
    "# Push a dataset to the server\n",
    "\n",
    "## Login (if not already done)\n",
    "\n",
    "### Join the Hugging Face Community\n",
    "\n",
    "[Hugging face](https://huggingface.co)\n",
    "\n",
    "### Join the Rouskinlab organization\n",
    "\n",
    "[Rouskin Lab on Hugging Face](https://huggingface.co/RouskinLab)\n",
    "\n",
    "### Login to the Hugging Face Hub\n",
    "\n",
    "1. Get a token from https://huggingface.co/settings/token\n",
    "\n",
    "2. Run in a terminal this command line and follow the instructions:\n",
    "\n",
    "`huggingface-cli login`\n",
    "\n",
    "## Push the dataset"
   ]
  },
  {
   "cell_type": "code",
   "execution_count": 52,
   "metadata": {},
   "outputs": [
    {
     "ename": "RepositoryNotFoundError",
     "evalue": "401 Client Error. (Request ID: Root=1-649f1f2c-261154f51694de5a520c0ba6)\n\nRepository Not Found for url: https://huggingface.co/api/repos/create.\nPlease make sure you specified the correct `repo_id` and `repo_type`.\nIf you are trying to access a private or gated repo, make sure you are authenticated.\nInvalid username or password.",
     "output_type": "error",
     "traceback": [
      "\u001b[0;31m---------------------------------------------------------------------------\u001b[0m",
      "\u001b[0;31mHTTPError\u001b[0m                                 Traceback (most recent call last)",
      "File \u001b[0;32m~/miniforge3/envs/dl/lib/python3.10/site-packages/huggingface_hub/utils/_errors.py:259\u001b[0m, in \u001b[0;36mhf_raise_for_status\u001b[0;34m(response, endpoint_name)\u001b[0m\n\u001b[1;32m    258\u001b[0m \u001b[39mtry\u001b[39;00m:\n\u001b[0;32m--> 259\u001b[0m     response\u001b[39m.\u001b[39;49mraise_for_status()\n\u001b[1;32m    260\u001b[0m \u001b[39mexcept\u001b[39;00m HTTPError \u001b[39mas\u001b[39;00m e:\n",
      "File \u001b[0;32m~/miniforge3/envs/dl/lib/python3.10/site-packages/requests/models.py:1021\u001b[0m, in \u001b[0;36mResponse.raise_for_status\u001b[0;34m(self)\u001b[0m\n\u001b[1;32m   1020\u001b[0m \u001b[39mif\u001b[39;00m http_error_msg:\n\u001b[0;32m-> 1021\u001b[0m     \u001b[39mraise\u001b[39;00m HTTPError(http_error_msg, response\u001b[39m=\u001b[39m\u001b[39mself\u001b[39m)\n",
      "\u001b[0;31mHTTPError\u001b[0m: 401 Client Error: Unauthorized for url: https://huggingface.co/api/repos/create",
      "\nThe above exception was the direct cause of the following exception:\n",
      "\u001b[0;31mRepositoryNotFoundError\u001b[0m                   Traceback (most recent call last)",
      "Cell \u001b[0;32mIn[52], line 11\u001b[0m\n\u001b[1;32m      2\u001b[0m dataset \u001b[39m=\u001b[39m CreateDataset\u001b[39m.\u001b[39mfrom_fasta(\n\u001b[1;32m      3\u001b[0m     name\u001b[39m=\u001b[39m \u001b[39m'\u001b[39m\u001b[39msequences\u001b[39m\u001b[39m'\u001b[39m, \u001b[39m# name of the dataset or something else.\u001b[39;00m\n\u001b[1;32m      4\u001b[0m     path_in \u001b[39m=\u001b[39m path_test_data_sequences, \n\u001b[0;32m   (...)\u001b[0m\n\u001b[1;32m      7\u001b[0m     predict_structure\u001b[39m=\u001b[39m\u001b[39mTrue\u001b[39;00m,\n\u001b[1;32m      8\u001b[0m     predict_dms\u001b[39m=\u001b[39m\u001b[39mTrue\u001b[39;00m)\n\u001b[1;32m     10\u001b[0m \u001b[39m# https://huggingface.co/docs/huggingface_hub/guides/repository#create-a-repository\u001b[39;00m\n\u001b[0;32m---> 11\u001b[0m dataset\u001b[39m.\u001b[39;49mcreate_repo(\n\u001b[1;32m     12\u001b[0m     exist_ok\u001b[39m=\u001b[39;49m\u001b[39mTrue\u001b[39;49;00m,\n\u001b[1;32m     13\u001b[0m     private\u001b[39m=\u001b[39;49m\u001b[39mTrue\u001b[39;49;00m\n\u001b[1;32m     14\u001b[0m )\n\u001b[1;32m     16\u001b[0m \u001b[39m# Find more arguments here: https://huggingface.co/docs/huggingface_hub/guides/upload#upload-a-folder\u001b[39;00m\n\u001b[1;32m     17\u001b[0m future \u001b[39m=\u001b[39m dataset\u001b[39m.\u001b[39mupload_folder(\n\u001b[1;32m     18\u001b[0m     commit_message\u001b[39m=\u001b[39m\u001b[39m'\u001b[39m\u001b[39mUpload demo dataset\u001b[39m\u001b[39m'\u001b[39m,\n\u001b[1;32m     19\u001b[0m     commit_description\u001b[39m=\u001b[39m\u001b[39m'\u001b[39m\u001b[39mThis is a demo dataset\u001b[39m\u001b[39m'\u001b[39m,\n\u001b[1;32m     20\u001b[0m     run_as_future\u001b[39m=\u001b[39m\u001b[39mTrue\u001b[39;00m,\n\u001b[1;32m     21\u001b[0m     blocking\u001b[39m=\u001b[39m\u001b[39mTrue\u001b[39;00m\n\u001b[1;32m     22\u001b[0m )\n",
      "File \u001b[0;32m~/src/RNA_data/rna_data/create_dataset.py:85\u001b[0m, in \u001b[0;36mCreateDatasetTemplate.create_repo\u001b[0;34m(self, exist_ok, private)\u001b[0m\n\u001b[1;32m     84\u001b[0m \u001b[39mdef\u001b[39;00m \u001b[39mcreate_repo\u001b[39m(\u001b[39mself\u001b[39m, exist_ok\u001b[39m=\u001b[39m\u001b[39mFalse\u001b[39;00m, private\u001b[39m=\u001b[39m\u001b[39mTrue\u001b[39;00m):\n\u001b[0;32m---> 85\u001b[0m     \u001b[39mself\u001b[39;49m\u001b[39m.\u001b[39;49mapi\u001b[39m.\u001b[39;49mcreate_repo(\n\u001b[1;32m     86\u001b[0m         repo_id\u001b[39m=\u001b[39;49mROUSKINLAB\u001b[39m+\u001b[39;49m\u001b[39mself\u001b[39;49m\u001b[39m.\u001b[39;49mname,\n\u001b[1;32m     87\u001b[0m         token\u001b[39m=\u001b[39;49mHUGGINGFACE_TOKEN,\n\u001b[1;32m     88\u001b[0m         exist_ok\u001b[39m=\u001b[39;49mexist_ok,\n\u001b[1;32m     89\u001b[0m         private\u001b[39m=\u001b[39;49mprivate,\n\u001b[1;32m     90\u001b[0m     )\n",
      "File \u001b[0;32m~/miniforge3/envs/dl/lib/python3.10/site-packages/huggingface_hub/utils/_validators.py:118\u001b[0m, in \u001b[0;36mvalidate_hf_hub_args.<locals>._inner_fn\u001b[0;34m(*args, **kwargs)\u001b[0m\n\u001b[1;32m    115\u001b[0m \u001b[39mif\u001b[39;00m check_use_auth_token:\n\u001b[1;32m    116\u001b[0m     kwargs \u001b[39m=\u001b[39m smoothly_deprecate_use_auth_token(fn_name\u001b[39m=\u001b[39mfn\u001b[39m.\u001b[39m\u001b[39m__name__\u001b[39m, has_token\u001b[39m=\u001b[39mhas_token, kwargs\u001b[39m=\u001b[39mkwargs)\n\u001b[0;32m--> 118\u001b[0m \u001b[39mreturn\u001b[39;00m fn(\u001b[39m*\u001b[39;49margs, \u001b[39m*\u001b[39;49m\u001b[39m*\u001b[39;49mkwargs)\n",
      "File \u001b[0;32m~/miniforge3/envs/dl/lib/python3.10/site-packages/huggingface_hub/hf_api.py:2306\u001b[0m, in \u001b[0;36mHfApi.create_repo\u001b[0;34m(self, repo_id, token, private, repo_type, exist_ok, space_sdk, space_hardware)\u001b[0m\n\u001b[1;32m   2303\u001b[0m r \u001b[39m=\u001b[39m get_session()\u001b[39m.\u001b[39mpost(path, headers\u001b[39m=\u001b[39mheaders, json\u001b[39m=\u001b[39mjson)\n\u001b[1;32m   2305\u001b[0m \u001b[39mtry\u001b[39;00m:\n\u001b[0;32m-> 2306\u001b[0m     hf_raise_for_status(r)\n\u001b[1;32m   2307\u001b[0m \u001b[39mexcept\u001b[39;00m HTTPError \u001b[39mas\u001b[39;00m err:\n\u001b[1;32m   2308\u001b[0m     \u001b[39mif\u001b[39;00m exist_ok \u001b[39mand\u001b[39;00m err\u001b[39m.\u001b[39mresponse\u001b[39m.\u001b[39mstatus_code \u001b[39m==\u001b[39m \u001b[39m409\u001b[39m:\n\u001b[1;32m   2309\u001b[0m         \u001b[39m# Repo already exists and `exist_ok=True`\u001b[39;00m\n",
      "File \u001b[0;32m~/miniforge3/envs/dl/lib/python3.10/site-packages/huggingface_hub/utils/_errors.py:291\u001b[0m, in \u001b[0;36mhf_raise_for_status\u001b[0;34m(response, endpoint_name)\u001b[0m\n\u001b[1;32m    277\u001b[0m \u001b[39melif\u001b[39;00m error_code \u001b[39m==\u001b[39m \u001b[39m\"\u001b[39m\u001b[39mRepoNotFound\u001b[39m\u001b[39m\"\u001b[39m \u001b[39mor\u001b[39;00m response\u001b[39m.\u001b[39mstatus_code \u001b[39m==\u001b[39m \u001b[39m401\u001b[39m:\n\u001b[1;32m    278\u001b[0m     \u001b[39m# 401 is misleading as it is returned for:\u001b[39;00m\n\u001b[1;32m    279\u001b[0m     \u001b[39m#    - private and gated repos if user is not authenticated\u001b[39;00m\n\u001b[1;32m    280\u001b[0m     \u001b[39m#    - missing repos\u001b[39;00m\n\u001b[1;32m    281\u001b[0m     \u001b[39m# => for now, we process them as `RepoNotFound` anyway.\u001b[39;00m\n\u001b[1;32m    282\u001b[0m     \u001b[39m# See https://gist.github.com/Wauplin/46c27ad266b15998ce56a6603796f0b9\u001b[39;00m\n\u001b[1;32m    283\u001b[0m     message \u001b[39m=\u001b[39m (\n\u001b[1;32m    284\u001b[0m         \u001b[39mf\u001b[39m\u001b[39m\"\u001b[39m\u001b[39m{\u001b[39;00mresponse\u001b[39m.\u001b[39mstatus_code\u001b[39m}\u001b[39;00m\u001b[39m Client Error.\u001b[39m\u001b[39m\"\u001b[39m\n\u001b[1;32m    285\u001b[0m         \u001b[39m+\u001b[39m \u001b[39m\"\u001b[39m\u001b[39m\\n\u001b[39;00m\u001b[39m\\n\u001b[39;00m\u001b[39m\"\u001b[39m\n\u001b[0;32m   (...)\u001b[0m\n\u001b[1;32m    289\u001b[0m         \u001b[39m\"\u001b[39m\u001b[39m make sure you are authenticated.\u001b[39m\u001b[39m\"\u001b[39m\n\u001b[1;32m    290\u001b[0m     )\n\u001b[0;32m--> 291\u001b[0m     \u001b[39mraise\u001b[39;00m RepositoryNotFoundError(message, response) \u001b[39mfrom\u001b[39;00m \u001b[39me\u001b[39;00m\n\u001b[1;32m    293\u001b[0m \u001b[39melif\u001b[39;00m response\u001b[39m.\u001b[39mstatus_code \u001b[39m==\u001b[39m \u001b[39m400\u001b[39m:\n\u001b[1;32m    294\u001b[0m     message \u001b[39m=\u001b[39m (\n\u001b[1;32m    295\u001b[0m         \u001b[39mf\u001b[39m\u001b[39m\"\u001b[39m\u001b[39m\\n\u001b[39;00m\u001b[39m\\n\u001b[39;00m\u001b[39mBad request for \u001b[39m\u001b[39m{\u001b[39;00mendpoint_name\u001b[39m}\u001b[39;00m\u001b[39m endpoint:\u001b[39m\u001b[39m\"\u001b[39m \u001b[39mif\u001b[39;00m endpoint_name \u001b[39mis\u001b[39;00m \u001b[39mnot\u001b[39;00m \u001b[39mNone\u001b[39;00m \u001b[39melse\u001b[39;00m \u001b[39m\"\u001b[39m\u001b[39m\\n\u001b[39;00m\u001b[39m\\n\u001b[39;00m\u001b[39mBad request:\u001b[39m\u001b[39m\"\u001b[39m\n\u001b[1;32m    296\u001b[0m     )\n",
      "\u001b[0;31mRepositoryNotFoundError\u001b[0m: 401 Client Error. (Request ID: Root=1-649f1f2c-261154f51694de5a520c0ba6)\n\nRepository Not Found for url: https://huggingface.co/api/repos/create.\nPlease make sure you specified the correct `repo_id` and `repo_type`.\nIf you are trying to access a private or gated repo, make sure you are authenticated.\nInvalid username or password."
     ]
    }
   ],
   "source": [
    "# Create a dataset locally\n",
    "dataset = CreateDataset.from_fasta(\n",
    "    name= 'sequences', # name of the dataset or something else.\n",
    "    path_in = path_test_data_sequences, \n",
    "    path_out = path_test_data, \n",
    "    generate_npy=True, \n",
    "    predict_structure=True,\n",
    "    predict_dms=True)\n",
    "\n",
    "# https://huggingface.co/docs/huggingface_hub/guides/repository#create-a-repository\n",
    "dataset.create_repo(\n",
    "    exist_ok=True,\n",
    "    private=True\n",
    ")\n",
    "\n",
    "# Find more arguments here: https://huggingface.co/docs/huggingface_hub/guides/upload#upload-a-folder\n",
    "future = dataset.upload_folder(\n",
    "    commit_message='Upload demo dataset',\n",
    "    commit_description='This is a demo dataset',\n",
    "    run_as_future=True,\n",
    "    blocking=True\n",
    ")\n",
    "\n",
    "future.done() # True if the upload is done\n",
    "future.result() # Wait for the upload to complete (blocking action)"
   ]
  },
  {
   "cell_type": "code",
   "execution_count": null,
   "metadata": {},
   "outputs": [],
   "source": [
    "Dataset.from_dict({'structure': ['TODO']}).push_to_hub(\"rouskinlab/test_dataset\", private=True)"
   ]
  },
  {
   "cell_type": "code",
   "execution_count": null,
   "metadata": {},
   "outputs": [],
   "source": [
    "\n",
    "dataset.push_to_hub(overwrite=True)\n"
   ]
  }
 ],
 "metadata": {
  "kernelspec": {
   "display_name": "dl",
   "language": "python",
   "name": "python3"
  },
  "language_info": {
   "codemirror_mode": {
    "name": "ipython",
    "version": 3
   },
   "file_extension": ".py",
   "mimetype": "text/x-python",
   "name": "python",
   "nbconvert_exporter": "python",
   "pygments_lexer": "ipython3",
   "version": "3.10.12"
  },
  "orig_nbformat": 4
 },
 "nbformat": 4,
 "nbformat_minor": 2
}
