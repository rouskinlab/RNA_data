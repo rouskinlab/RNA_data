{
    "cells": [
        {
            "cell_type": "markdown",
            "metadata": {},
            "source": [
                "## Imports"
            ]
        },
        {
            "cell_type": "code",
            "execution_count": 1,
            "metadata": {},
            "outputs": [],
            "source": [
                "import envbash\n",
                "envbash.load.load_envbash('./env')\n",
                "from rouskinhf import convert, upload_dataset, get_dataset"
            ]
        },
        {
            "attachments": {},
            "cell_type": "markdown",
            "metadata": {},
            "source": [
                "# Create a datafolder from local files\n",
                "\n",
                "These methods will allow you to process your data and create a datafolder from it. The accepted formats are:\n",
                "- DREEM output\n",
                "- fasta\n",
                "- set of CTs\n",
                "- already formatted json + info.json\n",
                "\n",
                "**Make sure to change the paths to your own paths!**"
            ]
        },
        {
            "attachments": {},
            "cell_type": "markdown",
            "metadata": {},
            "source": [
                "### From SEISMIC-json format"
            ]
        },
        {
            "cell_type": "code",
            "execution_count": 2,
            "metadata": {},
            "outputs": [
                {
                    "name": "stderr",
                    "output_type": "stream",
                    "text": [
                        "Parsing dreem output file: 100%|██████████| 13/13 [00:01<00:00,  8.78it/s]"
                    ]
                },
                {
                    "name": "stdout",
                    "output_type": "stream",
                    "text": [
                        "Over a total of 13 datapoints, there are:\n",
                        "### OUTPUT\n",
                        "- 10 valid datapoints\n",
                        "### MODIFIED\n",
                        "- 0 multiple sequences with the same reference (renamed reference)\n",
                        "- 0 duplicate sequences with different structure / dms / shape\n",
                        "### FILTERED OUT\n",
                        "- 1 invalid datapoints (ex: sequence with non-regular characters)\n",
                        "- 0 datapoints with bad structures\n",
                        "- 0 duplicate sequences with the same structure / dms / shape\n",
                        "- 2 datapoints removed because of low AUROC (<0.5)\n"
                    ]
                },
                {
                    "name": "stderr",
                    "output_type": "stream",
                    "text": [
                        "\n"
                    ]
                }
            ],
            "source": [
                "%reload_ext autoreload\n",
                "%autoreload 2\n",
                "# Show all arguments\n",
                "data = convert(format='seismic', \n",
                "              file_or_folder='data/input_files_for_testing/test_dreem_output.json',\n",
                "              name='seismic_output',\n",
                "              path_out='data/testing',\n",
                "              predict_structure=True,\n",
                "              filter=True,\n",
                "              min_AUROC=0.5,   \n",
                "              verbose=True)"
            ]
        },
        {
            "cell_type": "markdown",
            "metadata": {},
            "source": [
                "### From a data.json file"
            ]
        },
        {
            "cell_type": "code",
            "execution_count": 3,
            "metadata": {},
            "outputs": [
                {
                    "name": "stderr",
                    "output_type": "stream",
                    "text": [
                        "Parsing json file: 100%|██████████| 10/10 [00:00<00:00, 22944.77it/s]"
                    ]
                },
                {
                    "name": "stdout",
                    "output_type": "stream",
                    "text": [
                        "Over a total of 10 datapoints, there are:\n",
                        "### OUTPUT\n",
                        "- 10 valid datapoints\n",
                        "### MODIFIED\n",
                        "- 0 multiple sequences with the same reference (renamed reference)\n",
                        "- 0 duplicate sequences with different structure / dms / shape\n",
                        "### FILTERED OUT\n",
                        "- 0 invalid datapoints (ex: sequence with non-regular characters)\n",
                        "- 0 datapoints with bad structures\n",
                        "- 0 duplicate sequences with the same structure / dms / shape\n",
                        "- 0 datapoints removed because of low AUROC (<0.5)\n"
                    ]
                },
                {
                    "name": "stderr",
                    "output_type": "stream",
                    "text": [
                        "\n"
                    ]
                }
            ],
            "source": [
                "data = convert(format='json', \n",
                "              file_or_folder='data/input_files_for_testing/data.json',\n",
                "              path_out='data/testing',\n",
                "              predict_structure=True,\n",
                "              filter=True,   \n",
                "              min_AUROC=0.5,\n",
                "              verbose=True)"
            ]
        },
        {
            "attachments": {},
            "cell_type": "markdown",
            "metadata": {},
            "source": [
                "### From a list of CT files"
            ]
        },
        {
            "cell_type": "code",
            "execution_count": 4,
            "metadata": {},
            "outputs": [
                {
                    "ename": "AttributeError",
                    "evalue": "'posix.DirEntry' object has no attribute 'endswith'",
                    "output_type": "error",
                    "traceback": [
                        "\u001b[0;31m---------------------------------------------------------------------------\u001b[0m",
                        "\u001b[0;31mAttributeError\u001b[0m                            Traceback (most recent call last)",
                        "\u001b[1;32m/Users/yvesmartin/src/rouskinhf/tutorial.ipynb Cell 9\u001b[0m line \u001b[0;36m3\n\u001b[1;32m      <a href='vscode-notebook-cell:/Users/yvesmartin/src/rouskinhf/tutorial.ipynb#X11sZmlsZQ%3D%3D?line=0'>1</a>\u001b[0m get_ipython()\u001b[39m.\u001b[39mrun_line_magic(\u001b[39m'\u001b[39m\u001b[39mreload_ext\u001b[39m\u001b[39m'\u001b[39m, \u001b[39m'\u001b[39m\u001b[39mautoreload\u001b[39m\u001b[39m'\u001b[39m)\n\u001b[1;32m      <a href='vscode-notebook-cell:/Users/yvesmartin/src/rouskinhf/tutorial.ipynb#X11sZmlsZQ%3D%3D?line=1'>2</a>\u001b[0m get_ipython()\u001b[39m.\u001b[39mrun_line_magic(\u001b[39m'\u001b[39m\u001b[39mautoreload\u001b[39m\u001b[39m'\u001b[39m, \u001b[39m'\u001b[39m\u001b[39m2\u001b[39m\u001b[39m'\u001b[39m)\n\u001b[0;32m----> <a href='vscode-notebook-cell:/Users/yvesmartin/src/rouskinhf/tutorial.ipynb#X11sZmlsZQ%3D%3D?line=2'>3</a>\u001b[0m data \u001b[39m=\u001b[39m convert(\u001b[39mformat\u001b[39;49m\u001b[39m=\u001b[39;49m\u001b[39m'\u001b[39;49m\u001b[39mct\u001b[39;49m\u001b[39m'\u001b[39;49m, \n\u001b[1;32m      <a href='vscode-notebook-cell:/Users/yvesmartin/src/rouskinhf/tutorial.ipynb#X11sZmlsZQ%3D%3D?line=3'>4</a>\u001b[0m               file_or_folder\u001b[39m=\u001b[39;49m\u001b[39m'\u001b[39;49m\u001b[39mdata/input_files_for_testing/test_ct_files\u001b[39;49m\u001b[39m'\u001b[39;49m,\n\u001b[1;32m      <a href='vscode-notebook-cell:/Users/yvesmartin/src/rouskinhf/tutorial.ipynb#X11sZmlsZQ%3D%3D?line=4'>5</a>\u001b[0m               path_out\u001b[39m=\u001b[39;49m\u001b[39m'\u001b[39;49m\u001b[39mdata/testing\u001b[39;49m\u001b[39m'\u001b[39;49m,\n\u001b[1;32m      <a href='vscode-notebook-cell:/Users/yvesmartin/src/rouskinhf/tutorial.ipynb#X11sZmlsZQ%3D%3D?line=5'>6</a>\u001b[0m               predict_structure\u001b[39m=\u001b[39;49m\u001b[39mTrue\u001b[39;49;00m)\n",
                        "File \u001b[0;32m~/src/rouskinhf/rouskinhf/conversion.py:35\u001b[0m, in \u001b[0;36mconvert\u001b[0;34m(format, file_or_folder, name, path_out, predict_structure, filter, min_AUROC, verbose)\u001b[0m\n\u001b[1;32m     32\u001b[0m path\u001b[39m.\u001b[39mmake()\n\u001b[1;32m     34\u001b[0m \u001b[39mif\u001b[39;00m \u001b[39mformat\u001b[39m \u001b[39m==\u001b[39m \u001b[39m\"\u001b[39m\u001b[39mct\u001b[39m\u001b[39m\"\u001b[39m:\n\u001b[0;32m---> 35\u001b[0m     datapoints \u001b[39m=\u001b[39m ListofDatapoints\u001b[39m.\u001b[39;49mfrom_ct(\n\u001b[1;32m     36\u001b[0m         file_or_folder, tqdm\u001b[39m=\u001b[39;49m\u001b[39mTrue\u001b[39;49;00m, verbose\u001b[39m=\u001b[39;49mverbose\n\u001b[1;32m     37\u001b[0m     )\n\u001b[1;32m     39\u001b[0m \u001b[39melif\u001b[39;00m \u001b[39mformat\u001b[39m \u001b[39m==\u001b[39m \u001b[39m\"\u001b[39m\u001b[39mseismic\u001b[39m\u001b[39m\"\u001b[39m:\n\u001b[1;32m     40\u001b[0m     datapoints \u001b[39m=\u001b[39m ListofDatapoints\u001b[39m.\u001b[39mfrom_dreem_output(\n\u001b[1;32m     41\u001b[0m         file_or_folder, predict_structure, tqdm\u001b[39m=\u001b[39m\u001b[39mTrue\u001b[39;00m, verbose\u001b[39m=\u001b[39mverbose\n\u001b[1;32m     42\u001b[0m     )\n",
                        "File \u001b[0;32m~/src/rouskinhf/rouskinhf/list_datapoints.py:62\u001b[0m, in \u001b[0;36mListofDatapoints.from_ct\u001b[0;34m(cls, ct_folder, tqdm, verbose)\u001b[0m\n\u001b[1;32m     59\u001b[0m \u001b[39m@classmethod\u001b[39m\n\u001b[1;32m     60\u001b[0m \u001b[39mdef\u001b[39;00m \u001b[39mfrom_ct\u001b[39m(\u001b[39mcls\u001b[39m, ct_folder, tqdm\u001b[39m=\u001b[39m\u001b[39mTrue\u001b[39;00m, verbose\u001b[39m=\u001b[39m\u001b[39mTrue\u001b[39;00m):\n\u001b[1;32m     61\u001b[0m \u001b[39m    \u001b[39m\u001b[39m\"\"\"Create a list of datapoint from a list of ct files. The dms will be predicted if predict_dms is True.\"\"\"\u001b[39;00m\n\u001b[0;32m---> 62\u001b[0m     ct_files \u001b[39m=\u001b[39m [f\u001b[39m.\u001b[39;49mpath \u001b[39mfor\u001b[39;49;00m f \u001b[39min\u001b[39;49;00m os\u001b[39m.\u001b[39;49mscandir(ct_folder) \u001b[39mif\u001b[39;49;00m f\u001b[39m.\u001b[39;49mendswith(\u001b[39m\"\u001b[39;49m\u001b[39m.ct\u001b[39;49m\u001b[39m\"\u001b[39;49m)]\n\u001b[1;32m     63\u001b[0m     \u001b[39mreturn\u001b[39;00m \u001b[39mcls\u001b[39m(\n\u001b[1;32m     64\u001b[0m         [\n\u001b[1;32m     65\u001b[0m             DatapointFactory\u001b[39m.\u001b[39mfrom_ct(ct_file)\n\u001b[0;32m   (...)\u001b[0m\n\u001b[1;32m     73\u001b[0m         verbose\u001b[39m=\u001b[39mverbose,\n\u001b[1;32m     74\u001b[0m     )\n",
                        "File \u001b[0;32m~/src/rouskinhf/rouskinhf/list_datapoints.py:62\u001b[0m, in \u001b[0;36m<listcomp>\u001b[0;34m(.0)\u001b[0m\n\u001b[1;32m     59\u001b[0m \u001b[39m@classmethod\u001b[39m\n\u001b[1;32m     60\u001b[0m \u001b[39mdef\u001b[39;00m \u001b[39mfrom_ct\u001b[39m(\u001b[39mcls\u001b[39m, ct_folder, tqdm\u001b[39m=\u001b[39m\u001b[39mTrue\u001b[39;00m, verbose\u001b[39m=\u001b[39m\u001b[39mTrue\u001b[39;00m):\n\u001b[1;32m     61\u001b[0m \u001b[39m    \u001b[39m\u001b[39m\"\"\"Create a list of datapoint from a list of ct files. The dms will be predicted if predict_dms is True.\"\"\"\u001b[39;00m\n\u001b[0;32m---> 62\u001b[0m     ct_files \u001b[39m=\u001b[39m [f\u001b[39m.\u001b[39mpath \u001b[39mfor\u001b[39;00m f \u001b[39min\u001b[39;00m os\u001b[39m.\u001b[39mscandir(ct_folder) \u001b[39mif\u001b[39;00m f\u001b[39m.\u001b[39;49mendswith(\u001b[39m\"\u001b[39m\u001b[39m.ct\u001b[39m\u001b[39m\"\u001b[39m)]\n\u001b[1;32m     63\u001b[0m     \u001b[39mreturn\u001b[39;00m \u001b[39mcls\u001b[39m(\n\u001b[1;32m     64\u001b[0m         [\n\u001b[1;32m     65\u001b[0m             DatapointFactory\u001b[39m.\u001b[39mfrom_ct(ct_file)\n\u001b[0;32m   (...)\u001b[0m\n\u001b[1;32m     73\u001b[0m         verbose\u001b[39m=\u001b[39mverbose,\n\u001b[1;32m     74\u001b[0m     )\n",
                        "\u001b[0;31mAttributeError\u001b[0m: 'posix.DirEntry' object has no attribute 'endswith'"
                    ]
                }
            ],
            "source": [
                "%reload_ext autoreload\n",
                "%autoreload 2\n",
                "data = convert(format='ct', \n",
                "              file_or_folder='data/input_files_for_testing/test_ct_files',\n",
                "              path_out='data/testing',\n",
                "              predict_structure=True)"
            ]
        },
        {
            "attachments": {},
            "cell_type": "markdown",
            "metadata": {},
            "source": [
                "\n",
                "### From fasta"
            ]
        },
        {
            "cell_type": "code",
            "execution_count": null,
            "metadata": {},
            "outputs": [],
            "source": [
                "data = convert(format='fasta', \n",
                "              file_or_folder='data/input_files_for_testing/test_sequences.fasta',\n",
                "              path_out='data/testing',\n",
                "              predict_structure=True,\n",
                "              filter=True,   \n",
                "              verbose=True)"
            ]
        },
        {
            "attachments": {},
            "cell_type": "markdown",
            "metadata": {},
            "source": [
                "# Push a local datafolder to Hugging Face"
            ]
        },
        {
            "cell_type": "code",
            "execution_count": null,
            "metadata": {},
            "outputs": [],
            "source": [
                "\n",
                "# Find more arguments here: https://huggingface.co/docs/huggingface_hub/guides/upload#upload-a-folder\n",
                "upload_dataset(\n",
                "    datapath='data/testing/seismic_output/data.json', \n",
                "    exist_ok=True,\n",
                "    commit_message='test upload',\n",
                ")"
            ]
        },
        {
            "attachments": {},
            "cell_type": "markdown",
            "metadata": {},
            "source": [
                "### Check that the datafolder is on Hugging Face\n",
                "\n",
                "Take a look at https://huggingface.co/rouskinlab\n",
                "\n",
                "# Download data from HuggingFace"
            ]
        },
        {
            "cell_type": "code",
            "execution_count": null,
            "metadata": {},
            "outputs": [],
            "source": [
                "data = get_dataset('seismic_output', force_download=True)"
            ]
        }
    ],
    "metadata": {
        "kernelspec": {
            "display_name": "dl",
            "language": "python",
            "name": "python3"
        },
        "language_info": {
            "codemirror_mode": {
                "name": "ipython",
                "version": 3
            },
            "file_extension": ".py",
            "mimetype": "text/x-python",
            "name": "python",
            "nbconvert_exporter": "python",
            "pygments_lexer": "ipython3",
            "version": "3.11.6"
        },
        "orig_nbformat": 4
    },
    "nbformat": 4,
    "nbformat_minor": 2
}
