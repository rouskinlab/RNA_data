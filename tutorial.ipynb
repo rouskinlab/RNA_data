{
 "cells": [
  {
   "cell_type": "code",
   "execution_count": null,
   "metadata": {},
   "outputs": [],
   "source": [
    "%load_ext autoreload\n",
    "%autoreload 2\n",
    "\n",
    "from rna_data import DataFolder\n",
    "from rna_data.config import DATA_FOLDER_TESTING, DATA_FOLDER\n",
    "\n",
    "path_test_data = DATA_FOLDER\n",
    "path_test_data_sequences = DATA_FOLDER_TESTING+'/sequences.fasta'\n",
    "path_test_data_dreem = DATA_FOLDER_TESTING+'/dreem_output.json'\n",
    "path_test_data_ct =  DATA_FOLDER_TESTING+'/ct_files'\n",
    "TESTING_DATASET_NAME = 'for_testing'"
   ]
  },
  {
   "attachments": {},
   "cell_type": "markdown",
   "metadata": {},
   "source": [
    "# Log into Hugging face\n",
    "\n",
    "### 1. Join the Hugging Face Community\n",
    "\n",
    "[Hugging face](https://huggingface.co)\n",
    "\n",
    "### 2. Join the Rouskinlab organization\n",
    "\n",
    "[Rouskin Lab on Hugging Face](https://huggingface.co/RouskinLab)\n",
    "\n",
    "### 3. Install the Hugging Face dependencies\n"
   ]
  },
  {
   "cell_type": "code",
   "execution_count": null,
   "metadata": {},
   "outputs": [],
   "source": [
    "!pip install huggingface\n",
    "!pip install huggingface_hub"
   ]
  },
  {
   "attachments": {},
   "cell_type": "markdown",
   "metadata": {},
   "source": [
    "\n",
    "\n",
    "### 4. Login to the Hugging Face Hub\n",
    "\n",
    "1. Get a token from https://huggingface.co/settings/token\n",
    "\n",
    "2. Run this command line **in a terminal** and follow the instructions:\n"
   ]
  },
  {
   "cell_type": "code",
   "execution_count": null,
   "metadata": {},
   "outputs": [],
   "source": [
    "!huggingface-cli login"
   ]
  },
  {
   "attachments": {},
   "cell_type": "markdown",
   "metadata": {},
   "source": [
    "# Create a dataset from local files\n",
    "\n",
    "## From fasta"
   ]
  },
  {
   "cell_type": "code",
   "execution_count": null,
   "metadata": {},
   "outputs": [],
   "source": [
    "datafolder = DataFolder.from_fasta(\n",
    "    name= 'sequences', # name of the dataset or something else\n",
    "    path_in = path_test_data_sequences, \n",
    "    path_out = path_test_data, \n",
    "    generate_npy=True, \n",
    "    predict_structure=True,\n",
    "    predict_dms=True)"
   ]
  },
  {
   "attachments": {},
   "cell_type": "markdown",
   "metadata": {},
   "source": [
    "## From DREEM output"
   ]
  },
  {
   "cell_type": "code",
   "execution_count": null,
   "metadata": {},
   "outputs": [],
   "source": [
    "datafolder = DataFolder.from_dreem_output(\n",
    "    name='from_dreem_output', # name of the dataset or something else\n",
    "    path_in=path_test_data_dreem, \n",
    "    path_out=path_test_data, \n",
    "    generate_npy=True, \n",
    "    predict_structure=True)"
   ]
  },
  {
   "attachments": {},
   "cell_type": "markdown",
   "metadata": {},
   "source": [
    "## From a list of CT files"
   ]
  },
  {
   "cell_type": "code",
   "execution_count": null,
   "metadata": {},
   "outputs": [],
   "source": [
    "datafolder = DataFolder.from_ct_folder(\n",
    "    name='from_ct_folder', # name of the dataset or something else\n",
    "    path_in=path_test_data_ct, \n",
    "    path_out=path_test_data, \n",
    "    generate_npy=True, \n",
    "    predict_dms=False)  # won't take the structure from the ct files into account"
   ]
  },
  {
   "attachments": {},
   "cell_type": "markdown",
   "metadata": {},
   "source": [
    "## Explore the dataset object"
   ]
  },
  {
   "cell_type": "code",
   "execution_count": null,
   "metadata": {},
   "outputs": [],
   "source": [
    "print(datafolder)\n",
    "print('main folder:',datafolder.get_main_folder())\n",
    "print('structure.npy file:',datafolder.get_structure_npy())\n",
    "print('dms.npy file:',datafolder.get_dms_npy())\n",
    "print('json file:',datafolder.get_json())\n",
    "print('source files:',datafolder.get_source_files())\n",
    "print('info file:',datafolder.get_info_file())"
   ]
  },
  {
   "attachments": {},
   "cell_type": "markdown",
   "metadata": {},
   "source": [
    "# Load a dataset from Hugging Face"
   ]
  },
  {
   "cell_type": "code",
   "execution_count": null,
   "metadata": {},
   "outputs": [],
   "source": [
    "datafolder = DataFolder.from_huggingface(\n",
    "    name=TESTING_DATASET_NAME,\n",
    "    path_out=path_test_data,\n",
    "    )"
   ]
  },
  {
   "attachments": {},
   "cell_type": "markdown",
   "metadata": {},
   "source": [
    "# Push a local dataset to Hugging Face\n",
    "\n",
    "## Push the dataset to Hugging Face"
   ]
  },
  {
   "cell_type": "code",
   "execution_count": null,
   "metadata": {},
   "outputs": [],
   "source": [
    "datafolder = DataFolder.from_fasta(\n",
    "    name= TESTING_DATASET_NAME, # name of the dataset or something else\n",
    "    path_in = path_test_data_sequences, \n",
    "    path_out = path_test_data, \n",
    "    generate_npy=True, \n",
    "    predict_structure=True,\n",
    "    predict_dms=True)"
   ]
  },
  {
   "attachments": {},
   "cell_type": "markdown",
   "metadata": {},
   "source": [
    "### 1. Create a repository if it does not exist"
   ]
  },
  {
   "cell_type": "code",
   "execution_count": null,
   "metadata": {},
   "outputs": [],
   "source": [
    "# Find more arguments here: https://huggingface.co/docs/huggingface_hub/guides/repository#create-a-repository\n",
    "datafolder.create_repo(\n",
    "    exist_ok=True,\n",
    "    private=True\n",
    ")"
   ]
  },
  {
   "attachments": {},
   "cell_type": "markdown",
   "metadata": {},
   "source": [
    "### 2. Push the dataset to Hugging Face"
   ]
  },
  {
   "cell_type": "code",
   "execution_count": null,
   "metadata": {},
   "outputs": [],
   "source": [
    "\n",
    "# Find more arguments here: https://huggingface.co/docs/huggingface_hub/guides/upload#upload-a-folder\n",
    "future = datafolder.upload_folder(\n",
    "    revision='main', # branch name\n",
    "    commit_message='Upload demo dataset',\n",
    "    commit_description='This is a demo dataset',\n",
    "    run_as_future=True,\n",
    ")\n",
    "\n",
    "future.done() # True if the upload is done\n",
    "future.result() # Wait for the upload to complete (blocking action)"
   ]
  }
 ],
 "metadata": {
  "kernelspec": {
   "display_name": "dl",
   "language": "python",
   "name": "python3"
  },
  "language_info": {
   "codemirror_mode": {
    "name": "ipython",
    "version": 3
   },
   "file_extension": ".py",
   "mimetype": "text/x-python",
   "name": "python",
   "nbconvert_exporter": "python",
   "pygments_lexer": "ipython3",
   "version": "3.10.12"
  },
  "orig_nbformat": 4
 },
 "nbformat": 4,
 "nbformat_minor": 2
}
