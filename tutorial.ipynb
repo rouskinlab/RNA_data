{
    "cells": [
        {
            "cell_type": "markdown",
            "metadata": {},
            "source": [
                "## Imports"
            ]
        },
        {
            "cell_type": "code",
            "execution_count": null,
            "metadata": {},
            "outputs": [],
            "source": [
                "import envbash\n",
                "envbash.load.load_envbash('./env')\n",
                "from rouskinhf import convert, upload_dataset, get_dataset"
            ]
        },
        {
            "attachments": {},
            "cell_type": "markdown",
            "metadata": {},
            "source": [
                "# Create a datafolder from local files\n",
                "\n",
                "These methods will allow you to process your data and create a datafolder from it. The accepted formats are:\n",
                "- DREEM output\n",
                "- fasta\n",
                "- set of CTs\n",
                "- already formatted json + info.json\n",
                "\n",
                "**Make sure to change the paths to your own paths!**"
            ]
        },
        {
            "attachments": {},
            "cell_type": "markdown",
            "metadata": {},
            "source": [
                "### From SEISMIC-json format"
            ]
        },
        {
            "cell_type": "code",
            "execution_count": null,
            "metadata": {},
            "outputs": [],
            "source": [
                "%reload_ext autoreload\n",
                "%autoreload 2\n",
                "# Show all arguments\n",
                "data = convert(format='seismic', \n",
                "              file_or_folder='data/input_files_for_testing/test_dreem_output.json',\n",
                "              name='seismic_output',\n",
                "              path_out='data/testing',\n",
                "              predict_structure=True,\n",
                "              filter=True,\n",
                "              min_AUROC=0.5,   \n",
                "              verbose=True)"
            ]
        },
        {
            "cell_type": "markdown",
            "metadata": {},
            "source": [
                "### From a data.json file"
            ]
        },
        {
            "cell_type": "code",
            "execution_count": null,
            "metadata": {},
            "outputs": [],
            "source": [
                "data = convert(format='json', \n",
                "              file_or_folder='data/input_files_for_testing/data.json',\n",
                "              path_out='data/testing',\n",
                "              predict_structure=True,\n",
                "              filter=True,   \n",
                "              min_AUROC=0.5,\n",
                "              verbose=True)"
            ]
        },
        {
            "attachments": {},
            "cell_type": "markdown",
            "metadata": {},
            "source": [
                "### From a list of CT files"
            ]
        },
        {
            "cell_type": "code",
            "execution_count": null,
            "metadata": {},
            "outputs": [],
            "source": [
                "%reload_ext autoreload\n",
                "%autoreload 2\n",
                "data = convert(format='ct', \n",
                "              file_or_folder='data/input_files_for_testing/test_ct_files',\n",
                "              path_out='data/testing',\n",
                "              predict_structure=True)"
            ]
        },
        {
            "attachments": {},
            "cell_type": "markdown",
            "metadata": {},
            "source": [
                "\n",
                "### From fasta"
            ]
        },
        {
            "cell_type": "code",
            "execution_count": null,
            "metadata": {},
            "outputs": [],
            "source": [
                "data = convert(format='fasta', \n",
                "              file_or_folder='data/input_files_for_testing/test_sequences.fasta',\n",
                "              path_out='data/testing',\n",
                "              predict_structure=True,\n",
                "              filter=True,   \n",
                "              verbose=True)"
            ]
        },
        {
            "attachments": {},
            "cell_type": "markdown",
            "metadata": {},
            "source": [
                "# Push a local datafolder to Hugging Face"
            ]
        },
        {
            "cell_type": "code",
            "execution_count": null,
            "metadata": {},
            "outputs": [],
            "source": [
                "\n",
                "# Find more arguments here: https://huggingface.co/docs/huggingface_hub/guides/upload#upload-a-folder\n",
                "upload_dataset(\n",
                "    datapath='data/testing/seismic_output/data.json', \n",
                "    exist_ok=True,\n",
                "    commit_message='test upload',\n",
                ")"
            ]
        },
        {
            "attachments": {},
            "cell_type": "markdown",
            "metadata": {},
            "source": [
                "### Check that the datafolder is on Hugging Face\n",
                "\n",
                "Take a look at https://huggingface.co/rouskinlab\n",
                "\n",
                "# Download data from HuggingFace"
            ]
        },
        {
            "cell_type": "code",
            "execution_count": null,
            "metadata": {},
            "outputs": [],
            "source": [
                "data = get_dataset('seismic_output', force_download=True)"
            ]
        }
    ],
    "metadata": {
        "kernelspec": {
            "display_name": "dl",
            "language": "python",
            "name": "python3"
        },
        "language_info": {
            "codemirror_mode": {
                "name": "ipython",
                "version": 3
            },
            "file_extension": ".py",
            "mimetype": "text/x-python",
            "name": "python",
            "nbconvert_exporter": "python",
            "pygments_lexer": "ipython3",
            "version": "3.11.6"
        },
        "orig_nbformat": 4
    },
    "nbformat": 4,
    "nbformat_minor": 2
}
