{
 "cells": [
  {
   "cell_type": "code",
   "execution_count": 1,
   "metadata": {},
   "outputs": [],
   "source": [
    "import os, json\n",
    "from rna_data import DataFolder\n",
    "import numpy as np\n",
    "from rna_data.env import DATA_FOLDER_TESTING, DATA_FOLDER\n",
    "path_test_data = DATA_FOLDER\n",
    "path_test_data_sequences = DATA_FOLDER_TESTING+'/sequences.fasta'\n",
    "path_test_data_dreem = DATA_FOLDER_TESTING+'/dreem_output.json'\n",
    "path_test_data_ct =  DATA_FOLDER_TESTING+'/ct_files'\n",
    "TESTING_DATAFOLDER_NAME = 'for_testing'"
   ]
  },
  {
   "attachments": {},
   "cell_type": "markdown",
   "metadata": {},
   "source": [
    "# Log into Hugging face\n",
    "\n",
    "### 1. Join the Hugging Face Community\n",
    "\n",
    "[Hugging face](https://huggingface.co)\n",
    "\n",
    "### 2. Join the Rouskinlab organization\n",
    "\n",
    "[Rouskin Lab on Hugging Face](https://huggingface.co/RouskinLab)\n",
    "\n",
    "### 3. Install the Hugging Face dependencies\n"
   ]
  },
  {
   "cell_type": "code",
   "execution_count": null,
   "metadata": {},
   "outputs": [],
   "source": [
    "!pip install huggingface\n",
    "!pip install huggingface_hub"
   ]
  },
  {
   "attachments": {},
   "cell_type": "markdown",
   "metadata": {},
   "source": [
    "\n",
    "\n",
    "### 4. Login to the Hugging Face Hub\n",
    "\n",
    "1. Get a token from https://huggingface.co/settings/token\n",
    "\n",
    "2. Run this command line **in a terminal** and follow the instructions:\n"
   ]
  },
  {
   "cell_type": "code",
   "execution_count": null,
   "metadata": {},
   "outputs": [],
   "source": [
    "!huggingface-cli login"
   ]
  },
  {
   "attachments": {},
   "cell_type": "markdown",
   "metadata": {},
   "source": [
    "# Create a datafolder from local files\n"
   ]
  },
  {
   "attachments": {},
   "cell_type": "markdown",
   "metadata": {},
   "source": [
    "## From DREEM output"
   ]
  },
  {
   "cell_type": "code",
   "execution_count": 2,
   "metadata": {},
   "outputs": [],
   "source": [
    "datafolder = DataFolder.from_dreem_output(\n",
    "    name='from_dreem_output', # name of the input data by default\n",
    "    path_in=path_test_data_dreem, \n",
    "    path_out=path_test_data, \n",
    "    generate_npy=True, \n",
    "    predict_structure=True)"
   ]
  },
  {
   "attachments": {},
   "cell_type": "markdown",
   "metadata": {},
   "source": [
    "## From a list of CT files"
   ]
  },
  {
   "cell_type": "code",
   "execution_count": 30,
   "metadata": {},
   "outputs": [],
   "source": [
    "datafolder = DataFolder.from_ct_folder(\n",
    "    name='from_ct_folder', # name of the input data by default\n",
    "    path_in=path_test_data_ct, \n",
    "    path_out=path_test_data, \n",
    "    generate_npy=True, \n",
    "    predict_dms=False,\n",
    "    )  # won't take the structure from the ct files into account"
   ]
  },
  {
   "attachments": {},
   "cell_type": "markdown",
   "metadata": {},
   "source": [
    "\n",
    "## From fasta"
   ]
  },
  {
   "cell_type": "code",
   "execution_count": 34,
   "metadata": {},
   "outputs": [],
   "source": [
    "datafolder = DataFolder.from_fasta(\n",
    "    name= 'sequences', # name of the input data by default\n",
    "    path_in = path_test_data_sequences, \n",
    "    path_out = path_test_data, \n",
    "    generate_npy=True, \n",
    "    predict_structure=True,\n",
    "    predict_dms=True)"
   ]
  },
  {
   "attachments": {},
   "cell_type": "markdown",
   "metadata": {},
   "source": [
    "## Explore the datafolder object"
   ]
  },
  {
   "cell_type": "code",
   "execution_count": 28,
   "metadata": {},
   "outputs": [
    {
     "name": "stdout",
     "output_type": "stream",
     "text": [
      "CreateDatafolderFromFasta @data/datafolders/sequences\n",
      "main folder: data/datafolders/sequences\n",
      "sequences.npy file:\n",
      " [array([1, 1, 1, 2, 2, 2, 2, 1, 3, 4, 1, 3, 3, 3, 3, 4, 4, 4])\n",
      " array([4, 4, 4, 2, 2, 2, 2, 4, 1, 3, 4, 1, 4, 3, 3, 3, 3, 1, 1, 1])]\n",
      "base_pairs.npy file:\n",
      " [array([[ 6, 11],\n",
      "        [ 5, 12],\n",
      "        [ 4, 13],\n",
      "        [ 3, 14],\n",
      "        [ 2, 15],\n",
      "        [ 1, 16],\n",
      "        [ 0, 17]]) array([[ 6, 13],\n",
      "                          [ 5, 14],\n",
      "                          [ 4, 15],\n",
      "                          [ 3, 16],\n",
      "                          [ 2, 17],\n",
      "                          [ 1, 18]])]\n",
      "dms.npy file:\n",
      " [list([0.3317625732102161, 0.8619477949493498, 0.9849505502538177, 0.9997828311396947, 0.9999562120800795, 0.9999454042235505, 0.9970246205212348, 3.298876877182004e-10, 1.0113344525791075e-08, 9.30187856307975e-09, 2.1481183689942838e-10, 0.996953491189411, 0.9999737756512344, 0.9999846271614127, 0.9997971647502685, 0.9848757245213886, 0.8618760196213241, 0.3319091664146036])\n",
      " list([0.23766817041948293, 0.8457633741067279, 0.9869251366781276, 0.9995494832906625, 0.9998116801975672, 0.9998116884783607, 0.9990093868317357, 0.0007475204369414754, 0.0014492056864754438, 5.640424341878211e-11, 0.0, 0.0, 0.0014492055881192285, 0.9993121991718216, 0.9999885517548815, 0.9999888355592378, 0.9999162383327962, 0.9871696292210937, 0.8459407405802827, 0.23697024566473185])]\n",
      "json file:\n",
      " {'RF02271.fa.csv_1': {'sequence': 'AAACCCCAGUAGGGGUUU', 'paired_bases': [[6, 11], [5, 12], [4, 13], [3, 14], [2, 15], [1, 16], [0, 17]], 'dms': [0.3317625732102161, 0.8619477949493498, 0.9849505502538177, 0.9997828311396947, 0.9999562120800795, 0.9999454042235505, 0.9970246205212348, 3.298876877182004e-10, 1.0113344525791075e-08, 9.30187856307975e-09, 2.1481183689942838e-10, 0.996953491189411, 0.9999737756512344, 0.9999846271614127, 0.9997971647502685, 0.9848757245213886, 0.8618760196213241, 0.3319091664146036]}, 'RF02271.fa.csv_2': {'sequence': 'UUUCCCCUAGUAUGGGGAAA', 'paired_bases': [[6, 13], [5, 14], [4, 15], [3, 16], [2, 17], [1, 18]], 'dms': [0.23766817041948293, 0.8457633741067279, 0.9869251366781276, 0.9995494832906625, 0.9998116801975672, 0.9998116884783607, 0.9990093868317357, 0.0007475204369414754, 0.0014492056864754438, 5.640424341878211e-11, 0.0, 0.0, 0.0014492055881192285, 0.9993121991718216, 0.9999885517548815, 0.9999888355592378, 0.9999162383327962, 0.9871696292210937, 0.8459407405802827, 0.23697024566473185]}}\n",
      "dms.npy file: data/datafolders/sequences/dms.npy\n",
      "json file: data/datafolders/sequences/data.json\n",
      "source files: ['data/datafolders/sequences/source/sequences.fasta']\n",
      "info file: data/datafolders/sequences/info.json\n"
     ]
    }
   ],
   "source": [
    "print(datafolder)\n",
    "print('main folder:',datafolder.get_main_folder())\n",
    "print('sequences.npy file:\\n',np.load(datafolder.get_sequences_npy(), allow_pickle=True))\n",
    "print('base_pairs.npy file:\\n',np.load(datafolder.get_base_pairs_npy(), allow_pickle=True))\n",
    "print('dms.npy file:\\n',np.load(datafolder.get_dms_npy(), allow_pickle=True))\n",
    "print('json file:\\n', json.load(open(datafolder.get_json(), 'r')))\n",
    "print('dms.npy file:',datafolder.get_dms_npy())\n",
    "print('json file:',datafolder.get_json())\n",
    "print('source files:',datafolder.get_source_files())\n",
    "print('info file:',datafolder.get_info_file())"
   ]
  },
  {
   "attachments": {},
   "cell_type": "markdown",
   "metadata": {},
   "source": [
    "# Load a datafolder from Hugging Face"
   ]
  },
  {
   "cell_type": "code",
   "execution_count": null,
   "metadata": {},
   "outputs": [],
   "source": [
    "datafolder = DataFolder.from_huggingface(\n",
    "    name=TESTING_DATAFOLDER_NAME,\n",
    "    path_out=path_test_data,\n",
    "    )"
   ]
  },
  {
   "attachments": {},
   "cell_type": "markdown",
   "metadata": {},
   "source": [
    "## Load a datafolder from a local folder"
   ]
  },
  {
   "cell_type": "code",
   "execution_count": null,
   "metadata": {},
   "outputs": [],
   "source": [
    "datafolder = DataFolder.from_local(\n",
    "    name = TESTING_DATAFOLDER_NAME,\n",
    "    path_in = path_test_data,\n",
    ")"
   ]
  },
  {
   "attachments": {},
   "cell_type": "markdown",
   "metadata": {},
   "source": [
    "# Push a local datafolder to Hugging Face\n",
    "\n",
    "## Push the datafolder to Hugging Face"
   ]
  },
  {
   "cell_type": "code",
   "execution_count": 31,
   "metadata": {},
   "outputs": [],
   "source": [
    "datafolder = DataFolder.from_fasta(\n",
    "    name= TESTING_DATAFOLDER_NAME, # name of the input data by default\n",
    "    path_in = path_test_data_sequences, \n",
    "    path_out = path_test_data, \n",
    "    generate_npy=True, \n",
    "    predict_structure=True,\n",
    "    predict_dms=True)"
   ]
  },
  {
   "attachments": {},
   "cell_type": "markdown",
   "metadata": {},
   "source": [
    "### 1. Create a repository if it does not exist"
   ]
  },
  {
   "cell_type": "code",
   "execution_count": null,
   "metadata": {},
   "outputs": [],
   "source": [
    "# Find more arguments here: https://huggingface.co/docs/huggingface_hub/guides/repository#create-a-repository\n",
    "datafolder.create_repo(\n",
    "    exist_ok=True,\n",
    "    private=True\n",
    ")"
   ]
  },
  {
   "attachments": {},
   "cell_type": "markdown",
   "metadata": {},
   "source": [
    "### 2. Push the datafolder to Hugging Face"
   ]
  },
  {
   "cell_type": "code",
   "execution_count": 32,
   "metadata": {},
   "outputs": [
    {
     "data": {
      "text/plain": [
       "'https://huggingface.co/datasets/rouskinlab/for_testing/tree/main/'"
      ]
     },
     "execution_count": 32,
     "metadata": {},
     "output_type": "execute_result"
    }
   ],
   "source": [
    "\n",
    "# Find more arguments here: https://huggingface.co/docs/huggingface_hub/guides/upload#upload-a-folder\n",
    "future = datafolder.upload_folder(\n",
    "    revision='main', # branch name\n",
    "    commit_message='Upload demo dataset',\n",
    "    commit_description='This is a demo dataset',\n",
    "    run_as_future=True,\n",
    ")\n",
    "\n",
    "future.done() # True if the upload is done\n",
    "future.result() # Wait for the upload to complete (blocking action)"
   ]
  },
  {
   "cell_type": "code",
   "execution_count": null,
   "metadata": {},
   "outputs": [],
   "source": []
  }
 ],
 "metadata": {
  "kernelspec": {
   "display_name": "dl",
   "language": "python",
   "name": "python3"
  },
  "language_info": {
   "codemirror_mode": {
    "name": "ipython",
    "version": 3
   },
   "file_extension": ".py",
   "mimetype": "text/x-python",
   "name": "python",
   "nbconvert_exporter": "python",
   "pygments_lexer": "ipython3",
   "version": "3.10.12"
  },
  "orig_nbformat": 4
 },
 "nbformat": 4,
 "nbformat_minor": 2
}
