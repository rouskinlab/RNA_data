{
 "cells": [
  {
   "cell_type": "code",
   "execution_count": 1,
   "metadata": {},
   "outputs": [],
   "source": [
    "import sys, os\n",
    "import numpy as np\n",
    "\n",
    "# Import the rouskinhf package\n",
    "sys.path.append('..')\n",
    "from rouskinhf import import_dataset, DataFolder, setup_env\n",
    "\n",
    "# make sure to source the env file\n",
    "# OPTION 1: source the env file in the notebook\n",
    "# %load_ext dotenv\n",
    "# %dotenv env\n",
    "# # OPTION 2: source the env file in the terminal\n",
    "setup_env(RNASTRUCTURE_PATH='/Users/alberic/RNAstructure/exe')"
   ]
  },
  {
   "cell_type": "code",
   "execution_count": 4,
   "metadata": {},
   "outputs": [],
   "source": [
    "def upload_data(datafolder, commit_message):\n",
    "    datafolder.create_repo(\n",
    "        exist_ok=True,\n",
    "        private=True\n",
    "    )\n",
    "\n",
    "    future = datafolder.upload_folder(\n",
    "        revision='main', # branch name\n",
    "        commit_message=commit_message,\n",
    "        commit_description='',\n",
    "        run_as_future=True,\n",
    "    )\n",
    "\n",
    "    future.done() # True if the upload is done\n",
    "    future.result() # Wait for the upload to complete (blocking action)"
   ]
  },
  {
   "cell_type": "markdown",
   "metadata": {},
   "source": [
    "# PDB"
   ]
  },
  {
   "cell_type": "code",
   "execution_count": 5,
   "metadata": {},
   "outputs": [
    {
     "name": "stdout",
     "output_type": "stream",
     "text": [
      "Over a total of 702 datapoints, there are:\n",
      "    - 353 valid datapoints\n",
      "    - 0 invalid datapoints (ex: sequence with non-regular characters)\n",
      "    - 0 datapoints with the same reference\n",
      "    - 302 duplicate sequences with the same structure / dms\n",
      "    - 47 duplicate sequences with different structure / dms\n"
     ]
    }
   ],
   "source": [
    "# datafolder = DataFolder.from_ct_folder(\n",
    "#     name='PDB', # name of the input data by default\n",
    "#     path_in='/Users/alberic/Desktop/Pro/RouskinLab/projects/deep_learning/datasets/PDB/CT_files_pdbee', \n",
    "#     path_out='data/datafolders', \n",
    "#     tqdm=False,\n",
    "#     generate_npy=True,\n",
    "#     predict_dms=False\n",
    "#     )\n",
    "# upload_data(datafolder, 'Cleaned PDB data')\n",
    "\n",
    "\n",
    "datafolder = DataFolder.from_bpseq_folder(\n",
    "    name='PDB', # name of the input data by default\n",
    "    path_in='/Users/alberic/Desktop/Pro/RouskinLab/projects/deep_learning/datasets/PDB/bpSEQ_files_pdbee', \n",
    "    path_out='data/datafolders', \n",
    "    tqdm=False,\n",
    "    generate_npy=True,\n",
    "    predict_dms=False\n",
    "    )\n",
    "upload_data(datafolder, 'Using bpseq files')"
   ]
  },
  {
   "cell_type": "markdown",
   "metadata": {},
   "source": [
    "# Sarah_supermodel"
   ]
  },
  {
   "cell_type": "code",
   "execution_count": 3,
   "metadata": {},
   "outputs": [
    {
     "name": "stdout",
     "output_type": "stream",
     "text": [
      "Over a total of 113 datapoints, there are:\n",
      "    - 107 valid datapoints\n",
      "    - 0 invalid datapoints (ex: sequence with non-regular characters)\n",
      "    - 0 datapoints with the same reference\n",
      "    - 0 duplicate sequences with the same structure / dms\n",
      "    - 0 duplicate sequences with different structure / dms\n",
      "    - 6 datapoints removed because of low AUROC (<0.8)\n"
     ]
    }
   ],
   "source": [
    "datafolder = DataFolder.from_dreem_output(\n",
    "    name='sarah_supermodel', # name of the input data by default\n",
    "    path_in='/Users/alberic/Desktop/Pro/RouskinLab/projects/deep_learning/datasets/supermodels_fragments/data/fragment_RNA/new_run/processed/fragment_RNA.json', \n",
    "    path_out='data/datafolders', \n",
    "    predict_structure=True,\n",
    "    tqdm=False,\n",
    "    generate_npy=True\n",
    "    )\n",
    "upload_data(datafolder, 'Combining replicates')"
   ]
  },
  {
   "cell_type": "markdown",
   "metadata": {},
   "source": [
    "## SARS2 dataset"
   ]
  },
  {
   "cell_type": "code",
   "execution_count": 4,
   "metadata": {},
   "outputs": [
    {
     "name": "stdout",
     "output_type": "stream",
     "text": [
      "Over a total of 38 datapoints, there are:\n",
      "    - 38 valid datapoints\n",
      "    - 0 invalid datapoints (ex: sequence with non-regular characters)\n",
      "    - 0 datapoints with the same reference\n",
      "    - 0 duplicate sequences with the same structure / dms\n",
      "    - 0 duplicate sequences with different structure / dms\n",
      "    - 0 datapoints removed because of low AUROC (<0.8)\n"
     ]
    }
   ],
   "source": [
    "datafolder = DataFolder.from_dreem_output(\n",
    "    name='SARS2', # name of the input data by default\n",
    "    path_in='/Users/alberic/Desktop/Pro/RouskinLab/projects/deep_learning/datasets/SARS2/processed/SARS2.json', \n",
    "    path_out='data/datafolders', \n",
    "    predict_structure=True,\n",
    "    tqdm=False,\n",
    "    generate_npy=True\n",
    "    )\n",
    "upload_data(datafolder, 'Checking AUROC')"
   ]
  },
  {
   "cell_type": "markdown",
   "metadata": {},
   "source": [
    "## UTR dataset"
   ]
  },
  {
   "cell_type": "code",
   "execution_count": 6,
   "metadata": {},
   "outputs": [
    {
     "name": "stdout",
     "output_type": "stream",
     "text": [
      "Over a total of 1400 datapoints, there are:\n",
      "    - 1234 valid datapoints\n",
      "    - 0 invalid datapoints (ex: sequence with non-regular characters)\n",
      "    - 0 datapoints with the same reference\n",
      "    - 0 duplicate sequences with the same structure / dms\n",
      "    - 0 duplicate sequences with different structure / dms\n",
      "    - 166 datapoints removed because of low AUROC (<0.8)\n"
     ]
    }
   ],
   "source": [
    "datafolder = DataFolder.from_dreem_output(\n",
    "    name='UTR', # name of the input data by default\n",
    "    path_in='/Users/alberic/Desktop/Pro/RouskinLab/projects/deep_learning/datasets/UTR/processed/UTR.json', \n",
    "    path_out='data/datafolders', \n",
    "    predict_structure=True,\n",
    "    tqdm=False,\n",
    "    generate_npy=True\n",
    "    )\n",
    "upload_data(datafolder, 'Correcteed info.json')"
   ]
  },
  {
   "cell_type": "markdown",
   "metadata": {},
   "source": [
    "## miRNA dataset"
   ]
  },
  {
   "cell_type": "code",
   "execution_count": 5,
   "metadata": {},
   "outputs": [
    {
     "name": "stdout",
     "output_type": "stream",
     "text": [
      "Over a total of 513 datapoints, there are:\n",
      "    - 503 valid datapoints\n",
      "    - 0 invalid datapoints (ex: sequence with non-regular characters)\n",
      "    - 0 datapoints with the same reference\n",
      "    - 0 duplicate sequences with the same structure / dms\n",
      "    - 0 duplicate sequences with different structure / dms\n",
      "    - 10 datapoints removed because of low AUROC (<0.8)\n"
     ]
    }
   ],
   "source": [
    "datafolder = DataFolder.from_dreem_output(\n",
    "    name='pri-miRNA', # name of the input data by default\n",
    "    path_in='/Users/alberic/Desktop/Pro/RouskinLab/projects/deep_learning/datasets/pri-miRNA/processed/pri-miRNA.json', \n",
    "    path_out='data/datafolders', \n",
    "    predict_structure=True,\n",
    "    tqdm=False,\n",
    "    generate_npy=True\n",
    "    )\n",
    "upload_data(datafolder, 'Masked primer part')"
   ]
  },
  {
   "cell_type": "code",
   "execution_count": 9,
   "metadata": {},
   "outputs": [
    {
     "data": {
      "application/vnd.plotly.v1+json": {
       "config": {
        "plotlyServerURL": "https://plot.ly"
       },
       "data": [
        {
         "alignmentgroup": "True",
         "bingroup": "x",
         "hovertemplate": "variable=0<br>value=%{x}<br>count=%{y}<extra></extra>",
         "legendgroup": "0",
         "marker": {
          "color": "#636efa",
          "pattern": {
           "shape": ""
          }
         },
         "name": "0",
         "nbinsx": 100,
         "offsetgroup": "0",
         "orientation": "v",
         "showlegend": true,
         "type": "histogram",
         "x": [
          0.7591973244147157,
          0.7916666666666667,
          0.7327156094084104,
          0.7337063857801185,
          0.7978571428571429,
          0.7449059561128527,
          0.6917748917748917,
          0.793470286133529,
          0.8047619047619048,
          0.7215496368038742,
          0.8032852564102564,
          0.850765306122449,
          0.7661016949152541,
          0.8166152263374485,
          0.8526398739164697,
          0.8677811550151976,
          0.8318719024018301,
          0.8998015873015873,
          0.7633608815426998,
          0.7587772397094431,
          0.8556457065584855,
          0.7581967213114754,
          0.8617021276595744,
          0.82421875,
          0.7370838117106774,
          0.8792892156862745,
          0.7346891070593735,
          0.8545138888888888,
          0.7627272727272728,
          0.7472429210134127,
          0.8295385549483909,
          0.7608187134502925,
          0.7796581196581196,
          0.8823529411764707,
          0.843074225599065,
          0.8236525379382522,
          0.7924528301886793,
          0.8525641025641025,
          0.8323092677931389,
          0.8006298449612402,
          0.7023668639053255,
          0.838955223880597,
          0.8272467449984122,
          0.7893157262905163,
          0.6914814814814815,
          0.7454912935323383,
          0.7526075619295958,
          0.7223806129722025,
          0.7507122507122507,
          0.7663675639747425,
          0.7526627218934911,
          0.7649501661129569,
          0.8291008922443377,
          0.9022108843537415,
          0.8293075684380032,
          0.8267161410018553,
          0.8047167098073051,
          0.8042929292929292,
          0.8400113668655869,
          0.8204900568181819,
          0.8097398669086509,
          0.7366841710427606,
          0.5389423076923077,
          0.8226164079822618,
          0.7850098619329389,
          0.8236111111111112,
          0.8469387755102041,
          0.8928571428571428,
          0.6973775017253279,
          0.7619834710743801,
          0.7358237033055629,
          0.7866915422885572,
          0.8486419753086419,
          0.7957818930041152,
          0.7644886363636363,
          0.7668016194331984,
          0.7617647058823529,
          0.7851562499999999,
          0.7772397094430993,
          0.6776190476190477,
          0.8032258064516128,
          0.7913950456323338,
          0.8004682622268471,
          0.6690298507462686,
          0.8369135104578859,
          0.8573770491803279,
          0.8313932980599648,
          0.8698593073593073,
          0.7811929397443701,
          0.7176881549698317,
          0.7650325027085589,
          0.6058846302748742,
          0.7759856630824372,
          0.748847926267281,
          0.7604990870359098,
          0.8516295025728987,
          0.8867424242424242,
          0.7598269022719076,
          0.7803389830508475,
          0.8084683148621766,
          0.8518518518518517,
          0.8100448933782267,
          0.8423014209177732,
          0.8005698005698008,
          0.765625,
          0.7872636262513905,
          0.8098555211558306,
          0.7107487922705314,
          0.857027027027027,
          0.7924528301886792,
          0.7677015250544662,
          0.7853571428571429,
          0.8005390835579514,
          0.7590799031476997,
          0.74560546875,
          0.8337662337662338,
          0.821021021021021,
          0.7881355932203391,
          0.8893162393162394,
          0.7762747138397502,
          0.7976190476190476,
          0.7884965416818348,
          0.7868089764641488,
          0.8602540834845734,
          0.7370923913043479,
          0.7780843515963736,
          0.7944130571249215,
          0.889811320754717,
          0.7518925518925519,
          0.7727810650887574,
          0.7242359630419332,
          0.799072265625,
          0.6551369863013699,
          0.7382913021101389,
          0.7949804432855281,
          0.8501253132832077,
          0.8110599078341014,
          0.7236842105263158,
          0.8103333333333335,
          0.8307692307692306,
          0.8701587301587301,
          0.6747685185185186,
          0.8830357142857144,
          0.75,
          0.6421404682274248,
          0.8592471358428804,
          0.8743001119820829,
          0.7630597014925373,
          0.7637395459976106,
          0.7563657407407407,
          0.7840909090909093,
          0.7621460506706408,
          0.8385345997286296,
          0.8017098731384444,
          0.8344155844155845,
          0.8281724347298117,
          0.8535704362322867,
          0.7553846153846154,
          0.7360323886639677,
          0.8271604938271605,
          0.9144055944055944,
          0.7121251629726206,
          0.8489694385216775,
          0.7935234699940583,
          0.7794871794871795,
          0.8178534571723426,
          0.7863636363636364,
          0.7414314516129032,
          0.8543653705062361,
          0.7778571428571428,
          0.771186440677966,
          0.7423831070889895,
          0.862243058059863,
          0.9103448275862068,
          0.8338192419825072,
          0.7888888888888888,
          0.8674197384066585,
          0.8927064496684749,
          0.7765793528505393,
          0.7838882282996433,
          0.8452459016393442,
          0.8640710382513662,
          0.8289650537634411,
          0.8652258377853327,
          0.8910361842105263,
          0.8153248587570622,
          0.8558682223747427,
          0.7730414746543779,
          0.7762237762237763,
          0.8221487603305786,
          0.7155047204066812,
          0.7729312063808573,
          0.8595611285266458,
          0.7404829545454547,
          0.8924968474148803,
          0.6962194713951154,
          0.8066985645933014,
          0.8089947089947089,
          0.8123338649654438,
          0.8111111111111112,
          0.8636363636363635,
          0.8356997971602435,
          0.788231148696265,
          0.7635524798154555,
          0.8863636363636364,
          0.8092592592592592,
          0.7562260536398467,
          0.8408260233918129,
          0.8829457364341086,
          0.8225995316159249,
          0.8327505827505829,
          0.8232886904761904,
          0.8169278996865202,
          0.7178953626634959,
          0.8968960863697707,
          0.889992503748126,
          0.7999999999999999,
          0.8300395256916996,
          0.717583807716635,
          0.8547169811320755,
          0.8290790790790791,
          0.8363636363636363,
          0.8939285714285714,
          0.8426666666666667,
          0.8316070307595731,
          0.8091998704243601,
          0.8561897702001482,
          0.7811059907834101,
          0.8722897937599153,
          0.7925824175824177,
          0.8380440927077445,
          0.8972211648267987,
          0.8184587267742918,
          0.7468445726649838,
          0.8320689655172414,
          0.7303532804614274,
          0.8300925925925926,
          0.804225352112676,
          0.8661151960784313,
          0.7856951871657754,
          0.817581154840563,
          0.7034615384615385,
          0.8271914132379248,
          0.6602746212121212,
          0.7438423645320196,
          0.7125786163522012,
          0.8478586403114705,
          0.699,
          0.7865384615384615,
          0.8443333333333333,
          0.8623405851462865,
          0.7204585537918871,
          0.8299382716049383,
          0.702840909090909,
          0.8005882352941176,
          0.8614065180102917,
          0.8528811830698624,
          0.8183760683760684,
          0.7970356926799758,
          0.813397129186603,
          0.7452761627906977,
          0.7377501725327813,
          0.7743457090687766,
          0.8058510638297873,
          0.8114285714285714,
          0.776949152542373,
          0.808946608946609,
          0.8777183600713011,
          0.9054415700267617,
          0.8127840909090909,
          0.7985586822237474,
          0.8197945845004668,
          0.7894265232974912,
          0.8245614035087718,
          0.8262626262626263,
          0.7644132279777582,
          0.7984126984126985,
          0.7896756191140565,
          0.7713464696223317,
          0.7932017543859649,
          0.7749384236453202,
          0.7898936170212767,
          0.8555491990846681,
          0.7905660377358492,
          0.7792475014697238,
          0.8555994729907773,
          0.7808811959087333,
          0.7907967032967033,
          0.7244458128078818,
          0.8508597883597885,
          0.8446029776674937,
          0.7397586535408067,
          0.7688953488372094,
          0.8035714285714285,
          0.8857973421926911,
          0.8696646341463414,
          0.7825166364186327,
          0.841304347826087,
          0.7493165664297431,
          0.8189102564102564,
          0.7728813559322034,
          0.8532695374800638,
          0.8038461538461539,
          0.7556935817805382,
          0.7895161290322581,
          0.8169230769230769,
          0.8043988269794722,
          0.751257253384913,
          0.6796042617960426,
          0.6618457300275482,
          0.8476190476190476,
          0.8023569023569024,
          0.8055848261327713,
          0.6868863955119214,
          0.7651026392961877,
          0.8149485968324534,
          0.8603940217391304,
          0.8498985801217038,
          0.782662692498758,
          0.8623563218390804,
          0.8455843469063987,
          0.7641509433962265,
          0.7289438502673797,
          0.8820754716981132,
          0.8624242424242423,
          0.8185721953837897,
          0.7597623089983023,
          0.7123878536922014,
          0.8482587064676618,
          0.8089285714285714,
          0.859154929577465,
          0.7874924104432302,
          0.8739247311827957,
          0.8212396069538926,
          0.7387412587412586,
          0.8387931034482758,
          0.8283216783216784,
          0.7193442622950819,
          0.8536838464199238,
          0.8646758138283562,
          0.8919659160073036,
          0.8242138364779874,
          0.8490143369175628,
          0.7539382482671706,
          0.7650063856960408,
          0.7346726190476189,
          0.7432601880877745,
          0.8133608815426997,
          0.7846008502598015,
          0.7434640522875817,
          0.8631016042780749,
          0.8524590163934427,
          0.857843137254902,
          0.7825549025672749,
          0.8051587301587302,
          0.7588522588522588,
          0.7790089258233301,
          0.8202597402597404,
          0.8169999999999998,
          0.8539007092198581,
          0.7675492610837438,
          0.8541666666666666,
          0.8391714894913188,
          0.8404312668463612,
          0.7184785864031148,
          0.8549382716049383,
          0.8585964912280702,
          0.8169537318473489,
          0.8425925925925924,
          0.8195961602118504,
          0.7562326869806095,
          0.93083660525521,
          0.8228725452445129,
          0.7985294117647058,
          0.8901884340480832,
          0.8319648093841642,
          0.8189324116743472,
          0.7711558307533539,
          0.7950819672131147,
          0.7637860082304527,
          0.8402937788018433,
          0.8881262868908716,
          0.720158672917418,
          0.8145342312008979,
          0.8554421768707483,
          0.7817241379310343,
          0.9073660714285715,
          0.765040650406504,
          0.7957181088314006,
          0.7953514739229024,
          0.7294197031039137,
          0.7745409604519774,
          0.7494184114323696,
          0.8396892655367232,
          0.8584597085935176,
          0.8265056022408964,
          0.7221095334685599,
          0.8175,
          0.8149717514124295,
          0.828042328042328,
          0.8349431818181817,
          0.8556493030080704,
          0.8606060606060607,
          0.8579815487838971,
          0.8339512711864407,
          0.7189695550351287,
          0.7582478005865102,
          0.7906105990783411,
          0.8334561532792926,
          0.764221824686941,
          0.8509615384615383,
          0.906595365418895,
          0.9090909090909092,
          0.892948717948718,
          0.8072916666666667,
          0.7670289855072464,
          0.8303937653814603,
          0.8145464304884594,
          0.8697003957037873,
          0.867157490396927,
          0.8694219826295299,
          0.8527868852459015,
          0.8777939042089985,
          0.8023931623931624,
          0.8205828779599272,
          0.8806479113384484,
          0.8872468527640941,
          0.8345070422535211,
          0.7862891207153502,
          0.8448637316561846,
          0.8180374722134011,
          0.8984192037470726,
          0.8875379939209725,
          0.839544513457557,
          0.7567567567567567,
          0.8103846153846154,
          0.815909090909091,
          0.8200782268578879,
          0.87201660325147,
          0.8606508875739645,
          0.7678062678062679,
          0.8413815158298689,
          0.8793103448275862,
          0.8266006097560976,
          0.7755007704160247,
          0.8314393939393939,
          0.7811447811447811,
          0.7779429250891795,
          0.8805442176870748,
          0.7807894736842106,
          0.7875417130144605,
          0.8083441981747066,
          0.7223809523809525,
          0.8456086286594761,
          0.7717279285468911,
          0.7388888888888889,
          0.8254580520732884,
          0.7849854227405247,
          0.7599640395564878,
          0.7769972451790633,
          0.7951127819548872,
          0.8527373527373527,
          0.7638297872340426,
          0.8652777777777778,
          0.8376646493414027,
          0.8369162342475908,
          0.8637770897832817,
          0.8099343185550082,
          0.7931522354272779,
          0.6461801109688434,
          0.9050925925925926,
          0.8997599039615847,
          0.861698956780924,
          0.7235629662132513,
          0.7668463611859837,
          0.7100610736097718,
          0.8223062381852552,
          0.7574869791666665,
          0.883467278989667,
          0.8503144654088051,
          0.8758884636413341,
          0.8086734693877552,
          0.7478962131837308,
          0.8753434065934066,
          0.8286594761171032,
          0.9021040327293981,
          0.8208955223880596,
          0.896865889212828,
          0.7243569387107017,
          0.766735679779158,
          0.7663307204180665,
          0.7696953781512605,
          0.801848998459168,
          0.8384848484848484,
          0.8334995014955134,
          0.7978515625,
          0.8344645550527904,
          0.7504464285714285,
          0.7386081193040597,
          0.8732704402515723,
          0.7771929824561403,
          0.8387301587301587,
          0.8515130190007036,
          0.7929292929292929,
          0.7867620751341681,
          0.8220559531554978,
          0.8642960812772134,
          0.7503026634382567,
          0.8548636129696345,
          0.7685950413223142,
          0.8256016742239274,
          0.88545613523754,
          0.6977124183006537
         ],
         "xaxis": "x",
         "yaxis": "y"
        }
       ],
       "layout": {
        "barmode": "relative",
        "legend": {
         "title": {
          "text": "variable"
         },
         "tracegroupgap": 0
        },
        "template": {
         "data": {
          "bar": [
           {
            "error_x": {
             "color": "#2a3f5f"
            },
            "error_y": {
             "color": "#2a3f5f"
            },
            "marker": {
             "line": {
              "color": "#E5ECF6",
              "width": 0.5
             },
             "pattern": {
              "fillmode": "overlay",
              "size": 10,
              "solidity": 0.2
             }
            },
            "type": "bar"
           }
          ],
          "barpolar": [
           {
            "marker": {
             "line": {
              "color": "#E5ECF6",
              "width": 0.5
             },
             "pattern": {
              "fillmode": "overlay",
              "size": 10,
              "solidity": 0.2
             }
            },
            "type": "barpolar"
           }
          ],
          "carpet": [
           {
            "aaxis": {
             "endlinecolor": "#2a3f5f",
             "gridcolor": "white",
             "linecolor": "white",
             "minorgridcolor": "white",
             "startlinecolor": "#2a3f5f"
            },
            "baxis": {
             "endlinecolor": "#2a3f5f",
             "gridcolor": "white",
             "linecolor": "white",
             "minorgridcolor": "white",
             "startlinecolor": "#2a3f5f"
            },
            "type": "carpet"
           }
          ],
          "choropleth": [
           {
            "colorbar": {
             "outlinewidth": 0,
             "ticks": ""
            },
            "type": "choropleth"
           }
          ],
          "contour": [
           {
            "colorbar": {
             "outlinewidth": 0,
             "ticks": ""
            },
            "colorscale": [
             [
              0,
              "#0d0887"
             ],
             [
              0.1111111111111111,
              "#46039f"
             ],
             [
              0.2222222222222222,
              "#7201a8"
             ],
             [
              0.3333333333333333,
              "#9c179e"
             ],
             [
              0.4444444444444444,
              "#bd3786"
             ],
             [
              0.5555555555555556,
              "#d8576b"
             ],
             [
              0.6666666666666666,
              "#ed7953"
             ],
             [
              0.7777777777777778,
              "#fb9f3a"
             ],
             [
              0.8888888888888888,
              "#fdca26"
             ],
             [
              1,
              "#f0f921"
             ]
            ],
            "type": "contour"
           }
          ],
          "contourcarpet": [
           {
            "colorbar": {
             "outlinewidth": 0,
             "ticks": ""
            },
            "type": "contourcarpet"
           }
          ],
          "heatmap": [
           {
            "colorbar": {
             "outlinewidth": 0,
             "ticks": ""
            },
            "colorscale": [
             [
              0,
              "#0d0887"
             ],
             [
              0.1111111111111111,
              "#46039f"
             ],
             [
              0.2222222222222222,
              "#7201a8"
             ],
             [
              0.3333333333333333,
              "#9c179e"
             ],
             [
              0.4444444444444444,
              "#bd3786"
             ],
             [
              0.5555555555555556,
              "#d8576b"
             ],
             [
              0.6666666666666666,
              "#ed7953"
             ],
             [
              0.7777777777777778,
              "#fb9f3a"
             ],
             [
              0.8888888888888888,
              "#fdca26"
             ],
             [
              1,
              "#f0f921"
             ]
            ],
            "type": "heatmap"
           }
          ],
          "heatmapgl": [
           {
            "colorbar": {
             "outlinewidth": 0,
             "ticks": ""
            },
            "colorscale": [
             [
              0,
              "#0d0887"
             ],
             [
              0.1111111111111111,
              "#46039f"
             ],
             [
              0.2222222222222222,
              "#7201a8"
             ],
             [
              0.3333333333333333,
              "#9c179e"
             ],
             [
              0.4444444444444444,
              "#bd3786"
             ],
             [
              0.5555555555555556,
              "#d8576b"
             ],
             [
              0.6666666666666666,
              "#ed7953"
             ],
             [
              0.7777777777777778,
              "#fb9f3a"
             ],
             [
              0.8888888888888888,
              "#fdca26"
             ],
             [
              1,
              "#f0f921"
             ]
            ],
            "type": "heatmapgl"
           }
          ],
          "histogram": [
           {
            "marker": {
             "pattern": {
              "fillmode": "overlay",
              "size": 10,
              "solidity": 0.2
             }
            },
            "type": "histogram"
           }
          ],
          "histogram2d": [
           {
            "colorbar": {
             "outlinewidth": 0,
             "ticks": ""
            },
            "colorscale": [
             [
              0,
              "#0d0887"
             ],
             [
              0.1111111111111111,
              "#46039f"
             ],
             [
              0.2222222222222222,
              "#7201a8"
             ],
             [
              0.3333333333333333,
              "#9c179e"
             ],
             [
              0.4444444444444444,
              "#bd3786"
             ],
             [
              0.5555555555555556,
              "#d8576b"
             ],
             [
              0.6666666666666666,
              "#ed7953"
             ],
             [
              0.7777777777777778,
              "#fb9f3a"
             ],
             [
              0.8888888888888888,
              "#fdca26"
             ],
             [
              1,
              "#f0f921"
             ]
            ],
            "type": "histogram2d"
           }
          ],
          "histogram2dcontour": [
           {
            "colorbar": {
             "outlinewidth": 0,
             "ticks": ""
            },
            "colorscale": [
             [
              0,
              "#0d0887"
             ],
             [
              0.1111111111111111,
              "#46039f"
             ],
             [
              0.2222222222222222,
              "#7201a8"
             ],
             [
              0.3333333333333333,
              "#9c179e"
             ],
             [
              0.4444444444444444,
              "#bd3786"
             ],
             [
              0.5555555555555556,
              "#d8576b"
             ],
             [
              0.6666666666666666,
              "#ed7953"
             ],
             [
              0.7777777777777778,
              "#fb9f3a"
             ],
             [
              0.8888888888888888,
              "#fdca26"
             ],
             [
              1,
              "#f0f921"
             ]
            ],
            "type": "histogram2dcontour"
           }
          ],
          "mesh3d": [
           {
            "colorbar": {
             "outlinewidth": 0,
             "ticks": ""
            },
            "type": "mesh3d"
           }
          ],
          "parcoords": [
           {
            "line": {
             "colorbar": {
              "outlinewidth": 0,
              "ticks": ""
             }
            },
            "type": "parcoords"
           }
          ],
          "pie": [
           {
            "automargin": true,
            "type": "pie"
           }
          ],
          "scatter": [
           {
            "fillpattern": {
             "fillmode": "overlay",
             "size": 10,
             "solidity": 0.2
            },
            "type": "scatter"
           }
          ],
          "scatter3d": [
           {
            "line": {
             "colorbar": {
              "outlinewidth": 0,
              "ticks": ""
             }
            },
            "marker": {
             "colorbar": {
              "outlinewidth": 0,
              "ticks": ""
             }
            },
            "type": "scatter3d"
           }
          ],
          "scattercarpet": [
           {
            "marker": {
             "colorbar": {
              "outlinewidth": 0,
              "ticks": ""
             }
            },
            "type": "scattercarpet"
           }
          ],
          "scattergeo": [
           {
            "marker": {
             "colorbar": {
              "outlinewidth": 0,
              "ticks": ""
             }
            },
            "type": "scattergeo"
           }
          ],
          "scattergl": [
           {
            "marker": {
             "colorbar": {
              "outlinewidth": 0,
              "ticks": ""
             }
            },
            "type": "scattergl"
           }
          ],
          "scattermapbox": [
           {
            "marker": {
             "colorbar": {
              "outlinewidth": 0,
              "ticks": ""
             }
            },
            "type": "scattermapbox"
           }
          ],
          "scatterpolar": [
           {
            "marker": {
             "colorbar": {
              "outlinewidth": 0,
              "ticks": ""
             }
            },
            "type": "scatterpolar"
           }
          ],
          "scatterpolargl": [
           {
            "marker": {
             "colorbar": {
              "outlinewidth": 0,
              "ticks": ""
             }
            },
            "type": "scatterpolargl"
           }
          ],
          "scatterternary": [
           {
            "marker": {
             "colorbar": {
              "outlinewidth": 0,
              "ticks": ""
             }
            },
            "type": "scatterternary"
           }
          ],
          "surface": [
           {
            "colorbar": {
             "outlinewidth": 0,
             "ticks": ""
            },
            "colorscale": [
             [
              0,
              "#0d0887"
             ],
             [
              0.1111111111111111,
              "#46039f"
             ],
             [
              0.2222222222222222,
              "#7201a8"
             ],
             [
              0.3333333333333333,
              "#9c179e"
             ],
             [
              0.4444444444444444,
              "#bd3786"
             ],
             [
              0.5555555555555556,
              "#d8576b"
             ],
             [
              0.6666666666666666,
              "#ed7953"
             ],
             [
              0.7777777777777778,
              "#fb9f3a"
             ],
             [
              0.8888888888888888,
              "#fdca26"
             ],
             [
              1,
              "#f0f921"
             ]
            ],
            "type": "surface"
           }
          ],
          "table": [
           {
            "cells": {
             "fill": {
              "color": "#EBF0F8"
             },
             "line": {
              "color": "white"
             }
            },
            "header": {
             "fill": {
              "color": "#C8D4E3"
             },
             "line": {
              "color": "white"
             }
            },
            "type": "table"
           }
          ]
         },
         "layout": {
          "annotationdefaults": {
           "arrowcolor": "#2a3f5f",
           "arrowhead": 0,
           "arrowwidth": 1
          },
          "autotypenumbers": "strict",
          "coloraxis": {
           "colorbar": {
            "outlinewidth": 0,
            "ticks": ""
           }
          },
          "colorscale": {
           "diverging": [
            [
             0,
             "#8e0152"
            ],
            [
             0.1,
             "#c51b7d"
            ],
            [
             0.2,
             "#de77ae"
            ],
            [
             0.3,
             "#f1b6da"
            ],
            [
             0.4,
             "#fde0ef"
            ],
            [
             0.5,
             "#f7f7f7"
            ],
            [
             0.6,
             "#e6f5d0"
            ],
            [
             0.7,
             "#b8e186"
            ],
            [
             0.8,
             "#7fbc41"
            ],
            [
             0.9,
             "#4d9221"
            ],
            [
             1,
             "#276419"
            ]
           ],
           "sequential": [
            [
             0,
             "#0d0887"
            ],
            [
             0.1111111111111111,
             "#46039f"
            ],
            [
             0.2222222222222222,
             "#7201a8"
            ],
            [
             0.3333333333333333,
             "#9c179e"
            ],
            [
             0.4444444444444444,
             "#bd3786"
            ],
            [
             0.5555555555555556,
             "#d8576b"
            ],
            [
             0.6666666666666666,
             "#ed7953"
            ],
            [
             0.7777777777777778,
             "#fb9f3a"
            ],
            [
             0.8888888888888888,
             "#fdca26"
            ],
            [
             1,
             "#f0f921"
            ]
           ],
           "sequentialminus": [
            [
             0,
             "#0d0887"
            ],
            [
             0.1111111111111111,
             "#46039f"
            ],
            [
             0.2222222222222222,
             "#7201a8"
            ],
            [
             0.3333333333333333,
             "#9c179e"
            ],
            [
             0.4444444444444444,
             "#bd3786"
            ],
            [
             0.5555555555555556,
             "#d8576b"
            ],
            [
             0.6666666666666666,
             "#ed7953"
            ],
            [
             0.7777777777777778,
             "#fb9f3a"
            ],
            [
             0.8888888888888888,
             "#fdca26"
            ],
            [
             1,
             "#f0f921"
            ]
           ]
          },
          "colorway": [
           "#636efa",
           "#EF553B",
           "#00cc96",
           "#ab63fa",
           "#FFA15A",
           "#19d3f3",
           "#FF6692",
           "#B6E880",
           "#FF97FF",
           "#FECB52"
          ],
          "font": {
           "color": "#2a3f5f"
          },
          "geo": {
           "bgcolor": "white",
           "lakecolor": "white",
           "landcolor": "#E5ECF6",
           "showlakes": true,
           "showland": true,
           "subunitcolor": "white"
          },
          "hoverlabel": {
           "align": "left"
          },
          "hovermode": "closest",
          "mapbox": {
           "style": "light"
          },
          "paper_bgcolor": "white",
          "plot_bgcolor": "#E5ECF6",
          "polar": {
           "angularaxis": {
            "gridcolor": "white",
            "linecolor": "white",
            "ticks": ""
           },
           "bgcolor": "#E5ECF6",
           "radialaxis": {
            "gridcolor": "white",
            "linecolor": "white",
            "ticks": ""
           }
          },
          "scene": {
           "xaxis": {
            "backgroundcolor": "#E5ECF6",
            "gridcolor": "white",
            "gridwidth": 2,
            "linecolor": "white",
            "showbackground": true,
            "ticks": "",
            "zerolinecolor": "white"
           },
           "yaxis": {
            "backgroundcolor": "#E5ECF6",
            "gridcolor": "white",
            "gridwidth": 2,
            "linecolor": "white",
            "showbackground": true,
            "ticks": "",
            "zerolinecolor": "white"
           },
           "zaxis": {
            "backgroundcolor": "#E5ECF6",
            "gridcolor": "white",
            "gridwidth": 2,
            "linecolor": "white",
            "showbackground": true,
            "ticks": "",
            "zerolinecolor": "white"
           }
          },
          "shapedefaults": {
           "line": {
            "color": "#2a3f5f"
           }
          },
          "ternary": {
           "aaxis": {
            "gridcolor": "white",
            "linecolor": "white",
            "ticks": ""
           },
           "baxis": {
            "gridcolor": "white",
            "linecolor": "white",
            "ticks": ""
           },
           "bgcolor": "#E5ECF6",
           "caxis": {
            "gridcolor": "white",
            "linecolor": "white",
            "ticks": ""
           }
          },
          "title": {
           "x": 0.05
          },
          "xaxis": {
           "automargin": true,
           "gridcolor": "white",
           "linecolor": "white",
           "ticks": "",
           "title": {
            "standoff": 15
           },
           "zerolinecolor": "white",
           "zerolinewidth": 2
          },
          "yaxis": {
           "automargin": true,
           "gridcolor": "white",
           "linecolor": "white",
           "ticks": "",
           "title": {
            "standoff": 15
           },
           "zerolinecolor": "white",
           "zerolinewidth": 2
          }
         }
        },
        "title": {
         "text": "mean AUROC: 0.805 | Number of datapoints above 0.8: 283"
        },
        "xaxis": {
         "anchor": "y",
         "domain": [
          0,
          1
         ],
         "title": {
          "text": "value"
         }
        },
        "yaxis": {
         "anchor": "x",
         "domain": [
          0,
          1
         ],
         "title": {
          "text": "count"
         }
        }
       }
      }
     },
     "metadata": {},
     "output_type": "display_data"
    }
   ],
   "source": [
    "from sklearn.metrics import roc_auc_score\n",
    "UKN = -1000\n",
    "def calculate_auroc(row):\n",
    "    dms = np.array(row['dms'])\n",
    "    isUnpaired = np.ones_like(dms)\n",
    "    isUnpaired[np.array(row['paired_bases']).flatten()] = 0\n",
    "    return roc_auc_score(isUnpaired[dms!=UKN], dms[dms!=UKN])\n",
    "\n",
    "auroc = []\n",
    "for i, row in datafolder.datapoints.to_pandas().iterrows():\n",
    "    auroc.append( calculate_auroc(row) )\n",
    "\n",
    "import plotly.express as px\n",
    "px.histogram(auroc, nbins=100, title=f'mean AUROC: {np.mean(auroc):.3f} | Number of datapoints above 0.8: {np.sum(np.array(auroc)>0.8)}')"
   ]
  },
  {
   "cell_type": "code",
   "execution_count": 13,
   "metadata": {},
   "outputs": [
    {
     "data": {
      "application/vnd.plotly.v1+json": {
       "config": {
        "plotlyServerURL": "https://plot.ly"
       },
       "data": [
        {
         "alignmentgroup": "True",
         "bingroup": "x",
         "hovertemplate": "variable=0<br>value=%{x}<br>count=%{y}<extra></extra>",
         "legendgroup": "0",
         "marker": {
          "color": "#636efa",
          "pattern": {
           "shape": ""
          }
         },
         "name": "0",
         "nbinsx": 100,
         "offsetgroup": "0",
         "orientation": "v",
         "showlegend": true,
         "type": "histogram",
         "x": [
          0.9091880341880342,
          0.8953846153846153,
          0.9685086155674391,
          0.9514824797843666,
          0.8788416075650118,
          0.9558629776021081,
          0.9649122807017545,
          0.9204545454545454,
          0.9277885235332044,
          0.8333333333333333,
          0.923828125,
          0.9781859931113662,
          0.9037717601547389,
          0.9395003903200625,
          0.8449197860962567,
          0.9353333333333333,
          0.8998771498771498,
          0.9691891891891893,
          0.8507399577167019,
          0.9588652482269504,
          0.9439775910364145,
          0.9470171047142262,
          0.9770833333333333,
          0.9328231292517006,
          0.8990785432207108,
          0.8957370313302517,
          0.8692967409948541,
          0.8185897435897436,
          0.8958333333333333,
          0.8835807050092764,
          0.9432692307692307,
          0.9475604195166438,
          0.9097297297297297,
          0.916911045943304,
          0.9190909090909092,
          0.8654244306418221,
          0.9431524547803617,
          0.9346491228070176,
          0.8936170212765957,
          0.8288770053475935,
          0.8645833333333334,
          0.975609756097561,
          0.987090367428004,
          0.8571428571428572,
          0.8376068376068376,
          0.9012285012285013,
          0.9387755102040817,
          0.8280621046578494,
          0.9025573192239857,
          0.8430232558139535,
          0.8745421245421245,
          0.8893557422969187,
          0.9228260869565217,
          0.9602400600150038,
          0.8726655348047538,
          0.8647490820073439,
          0.9498669032830522,
          0.96772591857001,
          0.9304192685102587,
          0.9720000000000001,
          0.8996212121212122,
          0.8346504559270517,
          0.5932142857142857,
          0.9505882352941175,
          0.8404255319148937,
          0.9183114035087719,
          0.9523809523809523,
          0.9294696555494806,
          0.9468147282291058,
          0.9460034013605443,
          0.850204081632653,
          0.9303338171262701,
          0.9513574660633484,
          0.8527777777777777,
          0.8674857393593681,
          0.9418526031102097,
          0.9079218106995884,
          0.9204851752021563,
          0.9704675963904841,
          0.9253472222222222,
          0.9088145896656536,
          0.8796487603305785,
          0.9392156862745098,
          0.8570532915360501,
          0.9308695652173913,
          0.9710594315245478,
          0.9080267558528429,
          0.9449116904962154,
          0.927142857142857,
          0.9132653061224489,
          0.912280701754386,
          0.9762426900584795,
          0.9334615384615383,
          0.9098960338852523,
          0.9042857142857144,
          0.912963811268896,
          0.9323170731707318,
          0.8618881118881119,
          0.944899072558647,
          0.9747386759581882,
          0.9316109422492401,
          0.9476190476190476,
          0.9264084507042254,
          0.8366606170598911,
          0.9833887043189369,
          0.9445865302642796,
          0.9639016897081412,
          0.9205811138014528,
          0.9376068376068376,
          0.8820861678004536,
          0.9300411522633745,
          0.8430232558139534,
          0.8910377358490567,
          0.9191871455576559,
          0.9475218658892128,
          0.9657498702646601,
          0.9163059163059163,
          0.9483548521449396,
          0.9097222222222222,
          0.9282352941176472,
          0.9127225358228399,
          0.9351415094339622,
          0.8489057239057239,
          0.8824383164005806,
          0.9567147613762486,
          0.888961038961039,
          0.9263833992094862,
          0.9440104166666667,
          0.9273783587509077,
          0.8375350140056023,
          0.9196480938416423,
          0.9248911465892599,
          0.8663594470046083,
          0.8128609934539853,
          0.9641930461857809,
          0.9304915514592934,
          0.8625322997416021,
          0.8181276088252832,
          0.8668076109936574,
          0.9426136363636364,
          0.953125,
          0.8184684684684684,
          0.9511241446725318,
          0.8901220865704773,
          0.7133116883116882,
          0.940272288098375,
          0.9629127091813658,
          0.9005636070853462,
          0.9709193245778611,
          0.7929964539007092,
          0.9395604395604396,
          0.8891465677179962,
          0.9774405250205086,
          0.9277007145859605,
          0.9483333333333334,
          0.9120567375886525,
          0.9739316239316239,
          0.8414285714285714,
          0.7779947916666667,
          0.927242662257131,
          0.942167577413479,
          0.9398556535685646,
          0.957422969187675,
          0.9134615384615384,
          0.8857142857142857,
          0.9109977324263039,
          0.8903591682419659,
          0.809469696969697,
          0.9827072152653549,
          0.775438596491228,
          0.8795289855072463,
          0.9382775119617225,
          0.9303135888501741,
          0.9457013574660633,
          0.9209558823529411,
          0.8981029810298103,
          0.9287054409005627,
          0.9688775510204082,
          0.879980563654033,
          0.8977798334875116,
          0.9024258760107817,
          0.9226608977825852,
          0.940084835630965,
          0.9334077380952381,
          0.961437908496732,
          0.8996029495178672,
          0.9265046296296297,
          0.8789893617021276,
          0.8414351851851851,
          0.8872863247863249,
          0.9144736842105263,
          0.8708719851576994,
          0.9608134920634921,
          0.9804878048780489,
          0.9583333333333334,
          0.8028846153846154,
          0.9805234327449787,
          0.9342948717948718,
          0.939381774387796,
          0.932712215320911,
          0.9600301659125188,
          0.8716063348416289,
          0.8911111111111112,
          0.9334821428571428,
          0.9369318181818183,
          0.933752417794971,
          0.9638047138047139,
          0.9264516129032259,
          0.9832285115303983,
          0.8962912087912088,
          0.9238227146814405,
          0.8962148962148963,
          0.8878833584715938,
          0.8371877890841813,
          0.9588983050847457,
          0.933288409703504,
          0.9122632103688932,
          0.9185222672064778,
          0.8984414278531926,
          0.9819004524886877,
          0.9776453055141581,
          0.9804878048780489,
          0.9156327543424317,
          0.9186813186813186,
          0.9723456790123457,
          0.8899470899470899,
          0.9200268817204302,
          0.9523172905525847,
          0.8694581280788177,
          0.9743801652892561,
          0.9721132897603486,
          0.9377162629757785,
          0.9390243902439025,
          0.8216783216783217,
          0.8968957871396896,
          0.9345238095238095,
          0.9632850241545894,
          0.9331034482758621,
          0.8975659229208924,
          0.9270707070707072,
          0.9671694764862466,
          0.8730769230769231,
          0.8595317725752508,
          0.7492997198879552,
          0.8877492877492877,
          0.895,
          0.9074930619796484,
          0.8619763694951665,
          0.8905380333951762,
          0.9613756613756614,
          0.9389952153110048,
          0.9148148148148147,
          0.910749506903353,
          0.8534782608695654,
          0.9326923076923077,
          0.9716666666666667,
          0.9396449704142011,
          0.9322916666666665,
          0.9256628787878788,
          0.9292929292929293,
          0.9156268568033273,
          0.851627137341423,
          0.8962219033955046,
          0.8953125000000001,
          0.9552015928322549,
          0.956140350877193,
          0.9025157232704403,
          0.9277320799059929,
          0.9685741088180113,
          0.9228395061728395,
          0.9680088251516823,
          0.9163442940038684,
          0.898686679174484,
          0.9154002026342452,
          0.9315789473684211,
          0.9368181818181818,
          0.9060618225612205,
          0.7648484848484848,
          0.9140592407175636,
          0.8992346938775511,
          0.8679883945841392,
          0.8286429018136335,
          0.8045267489711935,
          0.9157754010695187,
          0.8946886446886446,
          0.9369918699186992,
          0.958984375,
          0.8775423728813558,
          0.9139941690962099,
          0.9481058640373639,
          0.9129129129129129,
          0.8756206554121153,
          0.9833630421865716,
          0.9813988095238095,
          0.932085932085932,
          0.9201201201201201,
          0.8500237304224014,
          0.910912190963342,
          0.8983756768013328,
          0.9527665317139002,
          0.8932249322493224,
          0.8574423480083857,
          0.9682539682539683,
          0.8444022770398483,
          0.883399209486166,
          0.9489664082687339,
          0.9459090909090909,
          0.9405684754521964,
          0.824235385210995,
          0.9215219976218787,
          0.9554675903018308,
          0.798947983635301,
          0.9373015873015873,
          0.9009324009324009,
          0.8816326530612244,
          0.9162393162393162,
          0.9452127659574467,
          0.986651411136537,
          0.9681952662721893,
          0.9236298292902066,
          0.9401846647932557,
          0.8362499999999999,
          0.900974025974026,
          0.9624264373019467,
          0.9598108747044918,
          0.9195959595959596,
          0.9596314172882843,
          0.9565972222222222,
          0.9775910364145658,
          0.9602842809364549,
          0.9556451612903227,
          0.8356973995271867,
          0.9520098441345365,
          0.9883578431372549,
          0.8949181739879414,
          0.8675,
          0.9265350877192983,
          0.9173290937996821,
          0.9319492502883506,
          0.9615702479338843,
          0.9735224586288416,
          0.8145454545454546,
          0.9696296296296296,
          0.9468671679197995,
          0.9613821138211383,
          0.9088372093023255,
          0.9477351916376306,
          0.9362162162162163,
          0.9045138888888888,
          0.9049865229110512,
          0.9774220032840722,
          0.9434889434889435,
          0.9423076923076924,
          0.9314868804664722,
          0.8817829457364341,
          0.8572115384615384,
          0.8892649903288202,
          0.9292196007259528,
          0.9618239660657476,
          0.9494318181818181,
          0.942512077294686,
          0.9351063829787234,
          0.9532163742690059,
          0.9475,
          0.8412698412698412,
          0.9561143984220907,
          0.9625638116846285,
          0.9441460794844254,
          0.8961352657004832,
          0.9222222222222223,
          0.903864734299517,
          0.9827777777777778,
          0.8925353925353925,
          0.8582862523540491,
          0.96875,
          0.9083333333333333,
          0.9385093167701863,
          0.9079968944099379,
          0.933442444080742,
          0.9922480620155039,
          0.963162623539982,
          0.9707792207792207,
          0.9567827130852341,
          0.882127659574468,
          0.9371069182389937,
          0.9655555555555555,
          0.9601307189542483,
          0.9320652173913043,
          0.8967592592592593,
          0.9143749999999999,
          0.8739177489177489,
          0.9890046296296297,
          0.9252136752136751,
          0.9092548076923077,
          0.9173669467787116,
          0.9620181405895691,
          0.9816549570647931,
          0.9706521739130435,
          0.9475783475783476,
          0.941944847605225,
          0.9435626102292769,
          0.9934406678592724,
          0.9639423076923077,
          0.9703574542284219,
          0.9271999999999999,
          0.8918918918918919,
          0.8948484848484848,
          0.8940071556350626,
          0.9246411483253589,
          0.8492063492063492,
          0.9302325581395349,
          0.9320330969267139,
          0.9356984478935698,
          0.9478044739022369,
          0.9509523809523809,
          0.8901292596944771,
          0.9065217391304348,
          0.899545266639107,
          0.9503267973856209,
          0.960752688172043,
          0.9296947271045328,
          0.8894335511982571,
          0.9437056737588652,
          0.9351351351351352,
          0.8796296296296297,
          0.9834968777876896,
          0.9736394557823129,
          0.9080645161290323,
          0.8481481481481481,
          0.8721064814814814,
          0.9122549019607844,
          0.9612403100775193,
          0.9012539184952978,
          0.9211956521739131,
          0.9719029374201789,
          0.9762516046213093,
          0.9561602418745276,
          0.9302600472813238,
          0.8623188405797102,
          0.9605263157894737,
          0.9180232558139535,
          0.9671717171717171,
          0.9250248262164846,
          0.9758812615955473,
          0.9139264990328819,
          0.9310099573257468,
          0.8850340136054422,
          0.91581868640148,
          0.9803418803418804,
          0.7655583972719522,
          0.9289361702127659,
          0.9503105590062112,
          0.8702865761689291,
          0.9042759961127308,
          0.9518909899888766,
          0.9348739495798319,
          0.8944444444444445,
          0.9664246823956443,
          0.8013500482160076,
          0.9074074074074074,
          0.8735119047619048,
          0.9588477366255145,
          0.7878787878787878,
          0.8706896551724137,
          0.9206815511163337,
          0.9853372434017595,
          0.9225195094760312,
          0.9329166666666666,
          0.902534965034965,
          0.8478260869565217,
          0.971969696969697,
          0.9430443548387096,
          0.9174397031539888,
          0.8135338345864661,
          0.8875811688311689,
          0.933991683991684,
          0.9722222222222222,
          0.9163201663201663,
          0.9674759505267979,
          0.9002976190476192,
          0.9924749163879598,
          0.9612200435729847,
          0.9388696655132641,
          0.8787878787878788,
          0.9,
          0.9486111111111111,
          0.8906644238856182,
          0.9369369369369369,
          0.9015151515151515,
          0.9665178571428572,
          0.9069767441860465,
          0.9126482213438736,
          0.748469387755102,
          0.9588846880907371,
          0.8867724867724868,
          0.9523076923076923,
          0.9792583280955374,
          0.801907556859868,
          0.9642105263157894,
          0.9614624505928855,
          0.8269994327850256,
          0.903225806451613,
          0.9580498866213152,
          0.9366037735849057,
          0.9239999999999999,
          0.924031007751938,
          0.9605146406388643,
          0.9810606060606061,
          0.9016393442622951,
          0.7430120984564038,
          0.9381270903010033,
          0.9548076923076922,
          0.8755252100840336
         ],
         "xaxis": "x",
         "yaxis": "y"
        }
       ],
       "layout": {
        "barmode": "relative",
        "legend": {
         "title": {
          "text": "variable"
         },
         "tracegroupgap": 0
        },
        "template": {
         "data": {
          "bar": [
           {
            "error_x": {
             "color": "#2a3f5f"
            },
            "error_y": {
             "color": "#2a3f5f"
            },
            "marker": {
             "line": {
              "color": "#E5ECF6",
              "width": 0.5
             },
             "pattern": {
              "fillmode": "overlay",
              "size": 10,
              "solidity": 0.2
             }
            },
            "type": "bar"
           }
          ],
          "barpolar": [
           {
            "marker": {
             "line": {
              "color": "#E5ECF6",
              "width": 0.5
             },
             "pattern": {
              "fillmode": "overlay",
              "size": 10,
              "solidity": 0.2
             }
            },
            "type": "barpolar"
           }
          ],
          "carpet": [
           {
            "aaxis": {
             "endlinecolor": "#2a3f5f",
             "gridcolor": "white",
             "linecolor": "white",
             "minorgridcolor": "white",
             "startlinecolor": "#2a3f5f"
            },
            "baxis": {
             "endlinecolor": "#2a3f5f",
             "gridcolor": "white",
             "linecolor": "white",
             "minorgridcolor": "white",
             "startlinecolor": "#2a3f5f"
            },
            "type": "carpet"
           }
          ],
          "choropleth": [
           {
            "colorbar": {
             "outlinewidth": 0,
             "ticks": ""
            },
            "type": "choropleth"
           }
          ],
          "contour": [
           {
            "colorbar": {
             "outlinewidth": 0,
             "ticks": ""
            },
            "colorscale": [
             [
              0,
              "#0d0887"
             ],
             [
              0.1111111111111111,
              "#46039f"
             ],
             [
              0.2222222222222222,
              "#7201a8"
             ],
             [
              0.3333333333333333,
              "#9c179e"
             ],
             [
              0.4444444444444444,
              "#bd3786"
             ],
             [
              0.5555555555555556,
              "#d8576b"
             ],
             [
              0.6666666666666666,
              "#ed7953"
             ],
             [
              0.7777777777777778,
              "#fb9f3a"
             ],
             [
              0.8888888888888888,
              "#fdca26"
             ],
             [
              1,
              "#f0f921"
             ]
            ],
            "type": "contour"
           }
          ],
          "contourcarpet": [
           {
            "colorbar": {
             "outlinewidth": 0,
             "ticks": ""
            },
            "type": "contourcarpet"
           }
          ],
          "heatmap": [
           {
            "colorbar": {
             "outlinewidth": 0,
             "ticks": ""
            },
            "colorscale": [
             [
              0,
              "#0d0887"
             ],
             [
              0.1111111111111111,
              "#46039f"
             ],
             [
              0.2222222222222222,
              "#7201a8"
             ],
             [
              0.3333333333333333,
              "#9c179e"
             ],
             [
              0.4444444444444444,
              "#bd3786"
             ],
             [
              0.5555555555555556,
              "#d8576b"
             ],
             [
              0.6666666666666666,
              "#ed7953"
             ],
             [
              0.7777777777777778,
              "#fb9f3a"
             ],
             [
              0.8888888888888888,
              "#fdca26"
             ],
             [
              1,
              "#f0f921"
             ]
            ],
            "type": "heatmap"
           }
          ],
          "heatmapgl": [
           {
            "colorbar": {
             "outlinewidth": 0,
             "ticks": ""
            },
            "colorscale": [
             [
              0,
              "#0d0887"
             ],
             [
              0.1111111111111111,
              "#46039f"
             ],
             [
              0.2222222222222222,
              "#7201a8"
             ],
             [
              0.3333333333333333,
              "#9c179e"
             ],
             [
              0.4444444444444444,
              "#bd3786"
             ],
             [
              0.5555555555555556,
              "#d8576b"
             ],
             [
              0.6666666666666666,
              "#ed7953"
             ],
             [
              0.7777777777777778,
              "#fb9f3a"
             ],
             [
              0.8888888888888888,
              "#fdca26"
             ],
             [
              1,
              "#f0f921"
             ]
            ],
            "type": "heatmapgl"
           }
          ],
          "histogram": [
           {
            "marker": {
             "pattern": {
              "fillmode": "overlay",
              "size": 10,
              "solidity": 0.2
             }
            },
            "type": "histogram"
           }
          ],
          "histogram2d": [
           {
            "colorbar": {
             "outlinewidth": 0,
             "ticks": ""
            },
            "colorscale": [
             [
              0,
              "#0d0887"
             ],
             [
              0.1111111111111111,
              "#46039f"
             ],
             [
              0.2222222222222222,
              "#7201a8"
             ],
             [
              0.3333333333333333,
              "#9c179e"
             ],
             [
              0.4444444444444444,
              "#bd3786"
             ],
             [
              0.5555555555555556,
              "#d8576b"
             ],
             [
              0.6666666666666666,
              "#ed7953"
             ],
             [
              0.7777777777777778,
              "#fb9f3a"
             ],
             [
              0.8888888888888888,
              "#fdca26"
             ],
             [
              1,
              "#f0f921"
             ]
            ],
            "type": "histogram2d"
           }
          ],
          "histogram2dcontour": [
           {
            "colorbar": {
             "outlinewidth": 0,
             "ticks": ""
            },
            "colorscale": [
             [
              0,
              "#0d0887"
             ],
             [
              0.1111111111111111,
              "#46039f"
             ],
             [
              0.2222222222222222,
              "#7201a8"
             ],
             [
              0.3333333333333333,
              "#9c179e"
             ],
             [
              0.4444444444444444,
              "#bd3786"
             ],
             [
              0.5555555555555556,
              "#d8576b"
             ],
             [
              0.6666666666666666,
              "#ed7953"
             ],
             [
              0.7777777777777778,
              "#fb9f3a"
             ],
             [
              0.8888888888888888,
              "#fdca26"
             ],
             [
              1,
              "#f0f921"
             ]
            ],
            "type": "histogram2dcontour"
           }
          ],
          "mesh3d": [
           {
            "colorbar": {
             "outlinewidth": 0,
             "ticks": ""
            },
            "type": "mesh3d"
           }
          ],
          "parcoords": [
           {
            "line": {
             "colorbar": {
              "outlinewidth": 0,
              "ticks": ""
             }
            },
            "type": "parcoords"
           }
          ],
          "pie": [
           {
            "automargin": true,
            "type": "pie"
           }
          ],
          "scatter": [
           {
            "fillpattern": {
             "fillmode": "overlay",
             "size": 10,
             "solidity": 0.2
            },
            "type": "scatter"
           }
          ],
          "scatter3d": [
           {
            "line": {
             "colorbar": {
              "outlinewidth": 0,
              "ticks": ""
             }
            },
            "marker": {
             "colorbar": {
              "outlinewidth": 0,
              "ticks": ""
             }
            },
            "type": "scatter3d"
           }
          ],
          "scattercarpet": [
           {
            "marker": {
             "colorbar": {
              "outlinewidth": 0,
              "ticks": ""
             }
            },
            "type": "scattercarpet"
           }
          ],
          "scattergeo": [
           {
            "marker": {
             "colorbar": {
              "outlinewidth": 0,
              "ticks": ""
             }
            },
            "type": "scattergeo"
           }
          ],
          "scattergl": [
           {
            "marker": {
             "colorbar": {
              "outlinewidth": 0,
              "ticks": ""
             }
            },
            "type": "scattergl"
           }
          ],
          "scattermapbox": [
           {
            "marker": {
             "colorbar": {
              "outlinewidth": 0,
              "ticks": ""
             }
            },
            "type": "scattermapbox"
           }
          ],
          "scatterpolar": [
           {
            "marker": {
             "colorbar": {
              "outlinewidth": 0,
              "ticks": ""
             }
            },
            "type": "scatterpolar"
           }
          ],
          "scatterpolargl": [
           {
            "marker": {
             "colorbar": {
              "outlinewidth": 0,
              "ticks": ""
             }
            },
            "type": "scatterpolargl"
           }
          ],
          "scatterternary": [
           {
            "marker": {
             "colorbar": {
              "outlinewidth": 0,
              "ticks": ""
             }
            },
            "type": "scatterternary"
           }
          ],
          "surface": [
           {
            "colorbar": {
             "outlinewidth": 0,
             "ticks": ""
            },
            "colorscale": [
             [
              0,
              "#0d0887"
             ],
             [
              0.1111111111111111,
              "#46039f"
             ],
             [
              0.2222222222222222,
              "#7201a8"
             ],
             [
              0.3333333333333333,
              "#9c179e"
             ],
             [
              0.4444444444444444,
              "#bd3786"
             ],
             [
              0.5555555555555556,
              "#d8576b"
             ],
             [
              0.6666666666666666,
              "#ed7953"
             ],
             [
              0.7777777777777778,
              "#fb9f3a"
             ],
             [
              0.8888888888888888,
              "#fdca26"
             ],
             [
              1,
              "#f0f921"
             ]
            ],
            "type": "surface"
           }
          ],
          "table": [
           {
            "cells": {
             "fill": {
              "color": "#EBF0F8"
             },
             "line": {
              "color": "white"
             }
            },
            "header": {
             "fill": {
              "color": "#C8D4E3"
             },
             "line": {
              "color": "white"
             }
            },
            "type": "table"
           }
          ]
         },
         "layout": {
          "annotationdefaults": {
           "arrowcolor": "#2a3f5f",
           "arrowhead": 0,
           "arrowwidth": 1
          },
          "autotypenumbers": "strict",
          "coloraxis": {
           "colorbar": {
            "outlinewidth": 0,
            "ticks": ""
           }
          },
          "colorscale": {
           "diverging": [
            [
             0,
             "#8e0152"
            ],
            [
             0.1,
             "#c51b7d"
            ],
            [
             0.2,
             "#de77ae"
            ],
            [
             0.3,
             "#f1b6da"
            ],
            [
             0.4,
             "#fde0ef"
            ],
            [
             0.5,
             "#f7f7f7"
            ],
            [
             0.6,
             "#e6f5d0"
            ],
            [
             0.7,
             "#b8e186"
            ],
            [
             0.8,
             "#7fbc41"
            ],
            [
             0.9,
             "#4d9221"
            ],
            [
             1,
             "#276419"
            ]
           ],
           "sequential": [
            [
             0,
             "#0d0887"
            ],
            [
             0.1111111111111111,
             "#46039f"
            ],
            [
             0.2222222222222222,
             "#7201a8"
            ],
            [
             0.3333333333333333,
             "#9c179e"
            ],
            [
             0.4444444444444444,
             "#bd3786"
            ],
            [
             0.5555555555555556,
             "#d8576b"
            ],
            [
             0.6666666666666666,
             "#ed7953"
            ],
            [
             0.7777777777777778,
             "#fb9f3a"
            ],
            [
             0.8888888888888888,
             "#fdca26"
            ],
            [
             1,
             "#f0f921"
            ]
           ],
           "sequentialminus": [
            [
             0,
             "#0d0887"
            ],
            [
             0.1111111111111111,
             "#46039f"
            ],
            [
             0.2222222222222222,
             "#7201a8"
            ],
            [
             0.3333333333333333,
             "#9c179e"
            ],
            [
             0.4444444444444444,
             "#bd3786"
            ],
            [
             0.5555555555555556,
             "#d8576b"
            ],
            [
             0.6666666666666666,
             "#ed7953"
            ],
            [
             0.7777777777777778,
             "#fb9f3a"
            ],
            [
             0.8888888888888888,
             "#fdca26"
            ],
            [
             1,
             "#f0f921"
            ]
           ]
          },
          "colorway": [
           "#636efa",
           "#EF553B",
           "#00cc96",
           "#ab63fa",
           "#FFA15A",
           "#19d3f3",
           "#FF6692",
           "#B6E880",
           "#FF97FF",
           "#FECB52"
          ],
          "font": {
           "color": "#2a3f5f"
          },
          "geo": {
           "bgcolor": "white",
           "lakecolor": "white",
           "landcolor": "#E5ECF6",
           "showlakes": true,
           "showland": true,
           "subunitcolor": "white"
          },
          "hoverlabel": {
           "align": "left"
          },
          "hovermode": "closest",
          "mapbox": {
           "style": "light"
          },
          "paper_bgcolor": "white",
          "plot_bgcolor": "#E5ECF6",
          "polar": {
           "angularaxis": {
            "gridcolor": "white",
            "linecolor": "white",
            "ticks": ""
           },
           "bgcolor": "#E5ECF6",
           "radialaxis": {
            "gridcolor": "white",
            "linecolor": "white",
            "ticks": ""
           }
          },
          "scene": {
           "xaxis": {
            "backgroundcolor": "#E5ECF6",
            "gridcolor": "white",
            "gridwidth": 2,
            "linecolor": "white",
            "showbackground": true,
            "ticks": "",
            "zerolinecolor": "white"
           },
           "yaxis": {
            "backgroundcolor": "#E5ECF6",
            "gridcolor": "white",
            "gridwidth": 2,
            "linecolor": "white",
            "showbackground": true,
            "ticks": "",
            "zerolinecolor": "white"
           },
           "zaxis": {
            "backgroundcolor": "#E5ECF6",
            "gridcolor": "white",
            "gridwidth": 2,
            "linecolor": "white",
            "showbackground": true,
            "ticks": "",
            "zerolinecolor": "white"
           }
          },
          "shapedefaults": {
           "line": {
            "color": "#2a3f5f"
           }
          },
          "ternary": {
           "aaxis": {
            "gridcolor": "white",
            "linecolor": "white",
            "ticks": ""
           },
           "baxis": {
            "gridcolor": "white",
            "linecolor": "white",
            "ticks": ""
           },
           "bgcolor": "#E5ECF6",
           "caxis": {
            "gridcolor": "white",
            "linecolor": "white",
            "ticks": ""
           }
          },
          "title": {
           "x": 0.05
          },
          "xaxis": {
           "automargin": true,
           "gridcolor": "white",
           "linecolor": "white",
           "ticks": "",
           "title": {
            "standoff": 15
           },
           "zerolinecolor": "white",
           "zerolinewidth": 2
          },
          "yaxis": {
           "automargin": true,
           "gridcolor": "white",
           "linecolor": "white",
           "ticks": "",
           "title": {
            "standoff": 15
           },
           "zerolinecolor": "white",
           "zerolinewidth": 2
          }
         }
        },
        "title": {
         "text": "mean AUROC: 0.917 | Number of datapoints above 0.8: 501"
        },
        "xaxis": {
         "anchor": "y",
         "domain": [
          0,
          1
         ],
         "title": {
          "text": "value"
         }
        },
        "yaxis": {
         "anchor": "x",
         "domain": [
          0,
          1
         ],
         "title": {
          "text": "count"
         }
        }
       }
      }
     },
     "metadata": {},
     "output_type": "display_data"
    }
   ],
   "source": [
    "from sklearn.metrics import roc_auc_score\n",
    "UKN = -1000\n",
    "def calculate_auroc(row):\n",
    "    dms = np.array(row['dms'])\n",
    "    dms[:19] = UKN\n",
    "    dms[-19:] = UKN\n",
    "    isUnpaired = np.ones_like(dms)\n",
    "    isUnpaired[np.array(row['paired_bases']).flatten()] = 0\n",
    "    return roc_auc_score(isUnpaired[dms!=UKN], dms[dms!=UKN])\n",
    "\n",
    "auroc = []\n",
    "for i, row in datafolder.datapoints.to_pandas().iterrows():\n",
    "    auroc.append( calculate_auroc(row) )\n",
    "\n",
    "import plotly.express as px\n",
    "px.histogram(auroc, nbins=100, title=f'mean AUROC: {np.mean(auroc):.3f} | Number of datapoints above 0.8: {np.sum(np.array(auroc)>0.8)}')"
   ]
  },
  {
   "cell_type": "code",
   "execution_count": null,
   "metadata": {},
   "outputs": [],
   "source": []
  }
 ],
 "metadata": {
  "kernelspec": {
   "display_name": "rna_data",
   "language": "python",
   "name": "python3"
  },
  "language_info": {
   "codemirror_mode": {
    "name": "ipython",
    "version": 3
   },
   "file_extension": ".py",
   "mimetype": "text/x-python",
   "name": "python",
   "nbconvert_exporter": "python",
   "pygments_lexer": "ipython3",
   "version": "3.10.12"
  }
 },
 "nbformat": 4,
 "nbformat_minor": 2
}
